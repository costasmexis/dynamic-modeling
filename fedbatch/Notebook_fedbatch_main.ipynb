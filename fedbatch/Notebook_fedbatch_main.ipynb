{
 "cells": [
  {
   "cell_type": "code",
   "execution_count": 94,
   "metadata": {},
   "outputs": [
    {
     "name": "stdout",
     "output_type": "stream",
     "text": [
      "The autoreload extension is already loaded. To reload it, use:\n",
      "  %reload_ext autoreload\n"
     ]
    }
   ],
   "source": [
    "%load_ext autoreload\n",
    "%autoreload 2"
   ]
  },
  {
   "cell_type": "code",
   "execution_count": 95,
   "metadata": {},
   "outputs": [],
   "source": [
    "import sys\n",
    "sys.path.append(\"../\")\n",
    "\n",
    "from machinelearning_fedbatch import main, plot_net_predictions\n",
    "from src.utils import get_data_and_feed, plot_experiment, get_volume\n",
    "\n",
    "FILENAME = \"../data/data_processed.xlsx\"\n",
    "EXPERIMENT = \"BR01\""
   ]
  },
  {
   "cell_type": "code",
   "execution_count": 96,
   "metadata": {},
   "outputs": [
    {
     "name": "stdout",
     "output_type": "stream",
     "text": [
      "Dataset shape: (11, 8)\n"
     ]
    },
    {
     "data": {
      "image/png": "[encoded data removed]",
      "text/plain": [
       "<Figure size 800x400 with 1 Axes>"
      ]
     },
     "metadata": {},
     "output_type": "display_data"
    }
   ],
   "source": [
    "full_df, feeds = get_data_and_feed(file_name=FILENAME, experiment=EXPERIMENT, keep_only='FB')\n",
    "\n",
    "print(f\"Dataset shape: {full_df.shape}\")\n",
    "\n",
    "plot_experiment(full_df, title=EXPERIMENT)"
   ]
  },
  {
   "cell_type": "code",
   "execution_count": 97,
   "metadata": {},
   "outputs": [
    {
     "name": "stdout",
     "output_type": "stream",
     "text": [
      "Epoch 0, Loss 115.2298\n",
      "mu_max: 0.6999, K_s: 0.1401, Y_xs: 0.5001\n",
      "Epoch 100, Loss 15.8117\n",
      "mu_max: 0.7026, K_s: 0.1378, Y_xs: 0.4939\n",
      "Epoch 200, Loss 9.0504\n",
      "mu_max: 0.7021, K_s: 0.1385, Y_xs: 0.4891\n",
      "Epoch 300, Loss 8.6200\n",
      "mu_max: 0.7020, K_s: 0.1387, Y_xs: 0.4835\n",
      "Epoch 400, Loss 8.1494\n",
      "mu_max: 0.7020, K_s: 0.1388, Y_xs: 0.4775\n",
      "Epoch 500, Loss 7.4758\n",
      "mu_max: 0.7021, K_s: 0.1387, Y_xs: 0.4715\n",
      "Epoch 600, Loss 6.8494\n",
      "mu_max: 0.7022, K_s: 0.1386, Y_xs: 0.4656\n",
      "Epoch 700, Loss 6.0962\n",
      "mu_max: 0.7021, K_s: 0.1387, Y_xs: 0.4604\n",
      "Epoch 800, Loss 5.2956\n",
      "mu_max: 0.7019, K_s: 0.1390, Y_xs: 0.4561\n",
      "Epoch 900, Loss 4.4202\n",
      "mu_max: 0.7013, K_s: 0.1396, Y_xs: 0.4532\n",
      "Epoch 1000, Loss 3.7574\n",
      "mu_max: 0.7008, K_s: 0.1402, Y_xs: 0.4518\n",
      "Epoch 1100, Loss 3.2932\n",
      "mu_max: 0.7005, K_s: 0.1404, Y_xs: 0.4518\n",
      "Epoch 1200, Loss 3.1039\n",
      "mu_max: 0.7004, K_s: 0.1406, Y_xs: 0.4535\n",
      "Epoch 1300, Loss 3.0196\n",
      "mu_max: 0.7011, K_s: 0.1399, Y_xs: 0.4553\n",
      "Epoch 1400, Loss 2.9916\n",
      "mu_max: 0.7016, K_s: 0.1394, Y_xs: 0.4579\n",
      "Epoch 1500, Loss 3.0651\n",
      "mu_max: 0.7022, K_s: 0.1388, Y_xs: 0.4605\n",
      "Epoch 1600, Loss 2.8573\n",
      "mu_max: 0.7028, K_s: 0.1382, Y_xs: 0.4633\n",
      "Epoch 1700, Loss 2.8074\n",
      "mu_max: 0.7035, K_s: 0.1375, Y_xs: 0.4661\n",
      "Epoch 1800, Loss 2.7724\n",
      "mu_max: 0.7042, K_s: 0.1368, Y_xs: 0.4689\n",
      "Epoch 1900, Loss 2.6912\n",
      "mu_max: 0.7051, K_s: 0.1359, Y_xs: 0.4717\n",
      "Epoch 2000, Loss 2.6372\n",
      "mu_max: 0.7060, K_s: 0.1351, Y_xs: 0.4745\n",
      "Epoch 2100, Loss 2.6882\n",
      "mu_max: 0.7070, K_s: 0.1341, Y_xs: 0.4773\n",
      "Epoch 2200, Loss 2.5323\n",
      "mu_max: 0.7080, K_s: 0.1331, Y_xs: 0.4801\n",
      "Epoch 2300, Loss 2.4952\n",
      "mu_max: 0.7090, K_s: 0.1322, Y_xs: 0.4829\n",
      "Epoch 2400, Loss 2.4443\n",
      "mu_max: 0.7103, K_s: 0.1309, Y_xs: 0.4855\n",
      "Epoch 2500, Loss 2.3932\n",
      "mu_max: 0.7117, K_s: 0.1296, Y_xs: 0.4882\n",
      "Epoch 2600, Loss 2.3281\n",
      "mu_max: 0.7129, K_s: 0.1284, Y_xs: 0.4909\n",
      "Epoch 2700, Loss 2.4056\n",
      "mu_max: 0.7144, K_s: 0.1270, Y_xs: 0.4935\n",
      "Epoch 2800, Loss 2.2400\n",
      "mu_max: 0.7157, K_s: 0.1258, Y_xs: 0.4963\n",
      "Epoch 2900, Loss 2.2024\n",
      "mu_max: 0.7170, K_s: 0.1245, Y_xs: 0.4991\n",
      "Epoch 3000, Loss 2.1291\n",
      "mu_max: 0.7184, K_s: 0.1232, Y_xs: 0.5019\n",
      "Epoch 3100, Loss 2.0888\n",
      "mu_max: 0.7198, K_s: 0.1220, Y_xs: 0.5047\n",
      "Epoch 3200, Loss 2.0778\n",
      "mu_max: 0.7211, K_s: 0.1207, Y_xs: 0.5074\n",
      "Epoch 3300, Loss 2.0286\n",
      "mu_max: 0.7225, K_s: 0.1194, Y_xs: 0.5102\n",
      "Epoch 3400, Loss 1.9928\n",
      "mu_max: 0.7238, K_s: 0.1181, Y_xs: 0.5129\n",
      "Epoch 3500, Loss 1.9656\n",
      "mu_max: 0.7251, K_s: 0.1170, Y_xs: 0.5156\n",
      "Epoch 3600, Loss 1.9394\n",
      "mu_max: 0.7264, K_s: 0.1157, Y_xs: 0.5183\n",
      "Epoch 3700, Loss 1.9244\n",
      "mu_max: 0.7277, K_s: 0.1145, Y_xs: 0.5208\n",
      "Epoch 3800, Loss 1.9305\n",
      "mu_max: 0.7289, K_s: 0.1134, Y_xs: 0.5234\n",
      "Epoch 3900, Loss 1.8810\n",
      "mu_max: 0.7301, K_s: 0.1123, Y_xs: 0.5259\n",
      "Epoch 4000, Loss 1.8729\n",
      "mu_max: 0.7312, K_s: 0.1113, Y_xs: 0.5284\n",
      "Epoch 4100, Loss 1.8730\n",
      "mu_max: 0.7323, K_s: 0.1103, Y_xs: 0.5309\n",
      "Epoch 4200, Loss 1.8171\n",
      "mu_max: 0.7333, K_s: 0.1094, Y_xs: 0.5333\n",
      "Epoch 4300, Loss 1.7858\n",
      "mu_max: 0.7342, K_s: 0.1086, Y_xs: 0.5356\n",
      "Epoch 4400, Loss 1.8284\n",
      "mu_max: 0.7351, K_s: 0.1077, Y_xs: 0.5378\n",
      "Epoch 4500, Loss 1.7620\n",
      "mu_max: 0.7359, K_s: 0.1070, Y_xs: 0.5400\n",
      "Epoch 4600, Loss 1.8786\n",
      "mu_max: 0.7368, K_s: 0.1062, Y_xs: 0.5421\n",
      "Epoch 4700, Loss 1.8386\n",
      "mu_max: 0.7376, K_s: 0.1055, Y_xs: 0.5441\n",
      "Epoch 4800, Loss 1.7031\n",
      "mu_max: 0.7382, K_s: 0.1049, Y_xs: 0.5461\n",
      "Epoch 4900, Loss 1.6869\n",
      "mu_max: 0.7390, K_s: 0.1043, Y_xs: 0.5480\n",
      "Epoch 5000, Loss 1.6749\n",
      "mu_max: 0.7397, K_s: 0.1036, Y_xs: 0.5498\n",
      "Epoch 5100, Loss 1.7252\n",
      "mu_max: 0.7404, K_s: 0.1030, Y_xs: 0.5516\n",
      "Epoch 5200, Loss 1.6508\n",
      "mu_max: 0.7411, K_s: 0.1025, Y_xs: 0.5533\n",
      "Epoch 5300, Loss 1.8119\n",
      "mu_max: 0.7418, K_s: 0.1019, Y_xs: 0.5549\n",
      "Epoch 5400, Loss 1.7115\n",
      "mu_max: 0.7424, K_s: 0.1014, Y_xs: 0.5565\n",
      "Epoch 5500, Loss 1.6086\n",
      "mu_max: 0.7429, K_s: 0.1009, Y_xs: 0.5582\n",
      "Epoch 5600, Loss 1.5851\n",
      "mu_max: 0.7433, K_s: 0.1006, Y_xs: 0.5599\n",
      "Epoch 5700, Loss 1.5846\n",
      "mu_max: 0.7438, K_s: 0.1002, Y_xs: 0.5616\n",
      "Epoch 5800, Loss 1.6173\n",
      "mu_max: 0.7442, K_s: 0.0999, Y_xs: 0.5631\n",
      "Epoch 5900, Loss 1.5783\n",
      "mu_max: 0.7446, K_s: 0.0996, Y_xs: 0.5647\n",
      "Epoch 6000, Loss 1.6461\n",
      "mu_max: 0.7450, K_s: 0.0993, Y_xs: 0.5662\n",
      "Epoch 6100, Loss 1.6240\n",
      "mu_max: 0.7454, K_s: 0.0990, Y_xs: 0.5677\n",
      "Epoch 6200, Loss 1.5912\n",
      "mu_max: 0.7457, K_s: 0.0987, Y_xs: 0.5690\n",
      "Epoch 6300, Loss 1.6352\n",
      "mu_max: 0.7461, K_s: 0.0985, Y_xs: 0.5700\n",
      "Epoch 6400, Loss 1.5681\n",
      "mu_max: 0.7465, K_s: 0.0982, Y_xs: 0.5710\n",
      "Epoch 6500, Loss 1.6264\n",
      "mu_max: 0.7468, K_s: 0.0980, Y_xs: 0.5720\n",
      "Epoch 6600, Loss 1.5468\n",
      "mu_max: 0.7470, K_s: 0.0978, Y_xs: 0.5730\n",
      "Epoch 6700, Loss 1.5706\n",
      "mu_max: 0.7473, K_s: 0.0977, Y_xs: 0.5739\n",
      "Epoch 6800, Loss 1.5809\n",
      "mu_max: 0.7475, K_s: 0.0975, Y_xs: 0.5748\n",
      "Epoch 6900, Loss 1.5491\n",
      "mu_max: 0.7478, K_s: 0.0974, Y_xs: 0.5757\n",
      "Epoch 7000, Loss 1.5173\n",
      "mu_max: 0.7480, K_s: 0.0973, Y_xs: 0.5767\n",
      "Epoch 7100, Loss 1.5545\n",
      "mu_max: 0.7481, K_s: 0.0972, Y_xs: 0.5777\n",
      "Epoch 7200, Loss 1.5339\n",
      "mu_max: 0.7483, K_s: 0.0971, Y_xs: 0.5786\n",
      "Epoch 7300, Loss 1.5229\n",
      "mu_max: 0.7484, K_s: 0.0971, Y_xs: 0.5796\n",
      "Epoch 7400, Loss 1.5299\n",
      "mu_max: 0.7485, K_s: 0.0970, Y_xs: 0.5806\n",
      "Epoch 7500, Loss 1.5083\n",
      "mu_max: 0.7486, K_s: 0.0970, Y_xs: 0.5816\n",
      "Epoch 7600, Loss 1.5026\n",
      "mu_max: 0.7488, K_s: 0.0969, Y_xs: 0.5824\n",
      "Epoch 7700, Loss 1.5981\n",
      "mu_max: 0.7489, K_s: 0.0969, Y_xs: 0.5833\n",
      "Epoch 7800, Loss 1.4904\n",
      "mu_max: 0.7490, K_s: 0.0969, Y_xs: 0.5843\n",
      "Epoch 7900, Loss 1.5291\n",
      "mu_max: 0.7490, K_s: 0.0970, Y_xs: 0.5852\n",
      "Epoch 8000, Loss 1.4810\n",
      "mu_max: 0.7491, K_s: 0.0970, Y_xs: 0.5860\n",
      "Epoch 8100, Loss 1.4987\n",
      "mu_max: 0.7491, K_s: 0.0970, Y_xs: 0.5868\n",
      "Epoch 8200, Loss 1.5568\n",
      "mu_max: 0.7492, K_s: 0.0970, Y_xs: 0.5876\n",
      "Epoch 8300, Loss 1.4843\n",
      "mu_max: 0.7492, K_s: 0.0971, Y_xs: 0.5884\n",
      "Epoch 8400, Loss 1.4839\n",
      "mu_max: 0.7492, K_s: 0.0971, Y_xs: 0.5892\n",
      "Epoch 8500, Loss 1.4755\n",
      "mu_max: 0.7487, K_s: 0.0976, Y_xs: 0.5903\n",
      "Epoch 8600, Loss 1.4684\n",
      "mu_max: 0.7492, K_s: 0.0972, Y_xs: 0.5906\n",
      "Epoch 8700, Loss 1.4998\n",
      "mu_max: 0.7493, K_s: 0.0972, Y_xs: 0.5912\n",
      "Epoch 8800, Loss 1.4675\n",
      "mu_max: 0.7494, K_s: 0.0972, Y_xs: 0.5919\n",
      "Epoch 8900, Loss 1.5089\n",
      "mu_max: 0.7495, K_s: 0.0972, Y_xs: 0.5925\n",
      "Epoch 9000, Loss 1.4677\n",
      "mu_max: 0.7495, K_s: 0.0973, Y_xs: 0.5931\n",
      "Epoch 9100, Loss 1.4933\n",
      "mu_max: 0.7496, K_s: 0.0973, Y_xs: 0.5937\n",
      "Epoch 9200, Loss 1.4778\n",
      "mu_max: 0.7496, K_s: 0.0973, Y_xs: 0.5942\n",
      "Epoch 9300, Loss 1.4731\n",
      "mu_max: 0.7497, K_s: 0.0973, Y_xs: 0.5947\n",
      "Epoch 9400, Loss 1.4914\n",
      "mu_max: 0.7498, K_s: 0.0973, Y_xs: 0.5951\n",
      "Epoch 9500, Loss 1.4641\n",
      "mu_max: 0.7498, K_s: 0.0974, Y_xs: 0.5955\n",
      "Epoch 9600, Loss 1.5187\n",
      "mu_max: 0.7499, K_s: 0.0974, Y_xs: 0.5959\n",
      "Epoch 9700, Loss 1.4776\n",
      "mu_max: 0.7499, K_s: 0.0974, Y_xs: 0.5963\n",
      "Epoch 9800, Loss 1.4611\n",
      "mu_max: 0.7499, K_s: 0.0975, Y_xs: 0.5967\n",
      "Epoch 9900, Loss 1.6457\n",
      "mu_max: 0.7498, K_s: 0.0977, Y_xs: 0.5976\n"
     ]
    }
   ],
   "source": [
    "train_df = full_df.iloc[:999]\n",
    "\n",
    "net, u_pred, loss = main(train_df=train_df, full_df=full_df, feeds=feeds, Sin = 1.43 * 200, V0=1.55, num_epochs=10000)"
   ]
  },
  {
   "cell_type": "code",
   "execution_count": 99,
   "metadata": {},
   "outputs": [
    {
     "name": "stdout",
     "output_type": "stream",
     "text": [
      "mu_max = 0.7514\n",
      "Ks = 0.0966\n",
      "Yxs = 0.5974\n"
     ]
    },
    {
     "ename": "KeyError",
     "evalue": "'Protein'",
     "output_type": "error",
     "traceback": [
      "\u001b[0;31m---------------------------------------------------------------------------\u001b[0m",
      "\u001b[0;31mKeyError\u001b[0m                                  Traceback (most recent call last)",
      "File \u001b[0;32m~/env/main/lib/python3.10/site-packages/pandas/core/indexes/base.py:3802\u001b[0m, in \u001b[0;36mIndex.get_loc\u001b[0;34m(self, key, method, tolerance)\u001b[0m\n\u001b[1;32m   3801\u001b[0m \u001b[38;5;28;01mtry\u001b[39;00m:\n\u001b[0;32m-> 3802\u001b[0m     \u001b[38;5;28;01mreturn\u001b[39;00m \u001b[38;5;28;43mself\u001b[39;49m\u001b[38;5;241;43m.\u001b[39;49m\u001b[43m_engine\u001b[49m\u001b[38;5;241;43m.\u001b[39;49m\u001b[43mget_loc\u001b[49m\u001b[43m(\u001b[49m\u001b[43mcasted_key\u001b[49m\u001b[43m)\u001b[49m\n\u001b[1;32m   3803\u001b[0m \u001b[38;5;28;01mexcept\u001b[39;00m \u001b[38;5;167;01mKeyError\u001b[39;00m \u001b[38;5;28;01mas\u001b[39;00m err:\n",
      "File \u001b[0;32m~/env/main/lib/python3.10/site-packages/pandas/_libs/index.pyx:138\u001b[0m, in \u001b[0;36mpandas._libs.index.IndexEngine.get_loc\u001b[0;34m()\u001b[0m\n",
      "File \u001b[0;32m~/env/main/lib/python3.10/site-packages/pandas/_libs/index.pyx:165\u001b[0m, in \u001b[0;36mpandas._libs.index.IndexEngine.get_loc\u001b[0;34m()\u001b[0m\n",
      "File \u001b[0;32mpandas/_libs/hashtable_class_helper.pxi:5745\u001b[0m, in \u001b[0;36mpandas._libs.hashtable.PyObjectHashTable.get_item\u001b[0;34m()\u001b[0m\n",
      "File \u001b[0;32mpandas/_libs/hashtable_class_helper.pxi:5753\u001b[0m, in \u001b[0;36mpandas._libs.hashtable.PyObjectHashTable.get_item\u001b[0;34m()\u001b[0m\n",
      "\u001b[0;31mKeyError\u001b[0m: 'Protein'",
      "\nThe above exception was the direct cause of the following exception:\n",
      "\u001b[0;31mKeyError\u001b[0m                                  Traceback (most recent call last)",
      "Cell \u001b[0;32mIn[99], line 6\u001b[0m\n\u001b[1;32m      3\u001b[0m \u001b[38;5;28mprint\u001b[39m(\u001b[38;5;124mf\u001b[39m\u001b[38;5;124m'\u001b[39m\u001b[38;5;124mYxs = \u001b[39m\u001b[38;5;132;01m{\u001b[39;00mnet\u001b[38;5;241m.\u001b[39mY_xs\u001b[38;5;241m.\u001b[39mitem()\u001b[38;5;132;01m:\u001b[39;00m\u001b[38;5;124m.4f\u001b[39m\u001b[38;5;132;01m}\u001b[39;00m\u001b[38;5;124m'\u001b[39m)    \n\u001b[1;32m      5\u001b[0m title \u001b[38;5;241m=\u001b[39m \u001b[38;5;124mf\u001b[39m\u001b[38;5;124m\"\u001b[39m\u001b[38;5;124mmu_max = \u001b[39m\u001b[38;5;132;01m{\u001b[39;00mnet\u001b[38;5;241m.\u001b[39mmu_max\u001b[38;5;241m.\u001b[39mitem()\u001b[38;5;132;01m:\u001b[39;00m\u001b[38;5;124m.4f\u001b[39m\u001b[38;5;132;01m}\u001b[39;00m\u001b[38;5;124m, Ks = \u001b[39m\u001b[38;5;132;01m{\u001b[39;00mnet\u001b[38;5;241m.\u001b[39mK_s\u001b[38;5;241m.\u001b[39mitem()\u001b[38;5;132;01m:\u001b[39;00m\u001b[38;5;124m.4f\u001b[39m\u001b[38;5;132;01m}\u001b[39;00m\u001b[38;5;124m, Yxs = \u001b[39m\u001b[38;5;132;01m{\u001b[39;00mnet\u001b[38;5;241m.\u001b[39mY_xs\u001b[38;5;241m.\u001b[39mitem()\u001b[38;5;132;01m:\u001b[39;00m\u001b[38;5;124m.4f\u001b[39m\u001b[38;5;132;01m}\u001b[39;00m\u001b[38;5;124m | Loss = \u001b[39m\u001b[38;5;132;01m{\u001b[39;00mloss\u001b[38;5;132;01m:\u001b[39;00m\u001b[38;5;124m.4f\u001b[39m\u001b[38;5;132;01m}\u001b[39;00m\u001b[38;5;124m\"\u001b[39m\n\u001b[0;32m----> 6\u001b[0m \u001b[43mplot_net_predictions\u001b[49m\u001b[43m(\u001b[49m\u001b[43mfull_df\u001b[49m\u001b[38;5;241;43m=\u001b[39;49m\u001b[43mfull_df\u001b[49m\u001b[43m,\u001b[49m\u001b[43m \u001b[49m\u001b[43mtrain_df\u001b[49m\u001b[38;5;241;43m=\u001b[39;49m\u001b[43mtrain_df\u001b[49m\u001b[43m,\u001b[49m\u001b[43m \u001b[49m\u001b[43mu_pred\u001b[49m\u001b[38;5;241;43m=\u001b[39;49m\u001b[43mu_pred\u001b[49m\u001b[43m)\u001b[49m\n",
      "File \u001b[0;32m~/dynamic-modeling/fedbatch/machinelearning_fedbatch.py:231\u001b[0m, in \u001b[0;36mplot_net_predictions\u001b[0;34m(full_df, train_df, u_pred)\u001b[0m\n\u001b[1;32m    229\u001b[0m ax[\u001b[38;5;241m0\u001b[39m]\u001b[38;5;241m.\u001b[39mplot(u_pred[\u001b[38;5;124m\"\u001b[39m\u001b[38;5;124mRTime\u001b[39m\u001b[38;5;124m\"\u001b[39m], u_pred[\u001b[38;5;124m\"\u001b[39m\u001b[38;5;124mBiomass\u001b[39m\u001b[38;5;124m\"\u001b[39m], color\u001b[38;5;241m=\u001b[39m\u001b[38;5;124m\"\u001b[39m\u001b[38;5;124morange\u001b[39m\u001b[38;5;124m\"\u001b[39m, label\u001b[38;5;241m=\u001b[39m\u001b[38;5;124m\"\u001b[39m\u001b[38;5;124mBiomass_A\u001b[39m\u001b[38;5;124m\"\u001b[39m)\n\u001b[1;32m    230\u001b[0m ax[\u001b[38;5;241m0\u001b[39m]\u001b[38;5;241m.\u001b[39mplot(u_pred[\u001b[38;5;124m\"\u001b[39m\u001b[38;5;124mRTime\u001b[39m\u001b[38;5;124m\"\u001b[39m], u_pred[\u001b[38;5;124m\"\u001b[39m\u001b[38;5;124mGlucose\u001b[39m\u001b[38;5;124m\"\u001b[39m], color\u001b[38;5;241m=\u001b[39m\u001b[38;5;124m\"\u001b[39m\u001b[38;5;124mgreen\u001b[39m\u001b[38;5;124m\"\u001b[39m, label\u001b[38;5;241m=\u001b[39m\u001b[38;5;124m\"\u001b[39m\u001b[38;5;124mGlucose_A\u001b[39m\u001b[38;5;124m\"\u001b[39m)\n\u001b[0;32m--> 231\u001b[0m ax[\u001b[38;5;241m1\u001b[39m]\u001b[38;5;241m.\u001b[39mplot(u_pred[\u001b[38;5;124m\"\u001b[39m\u001b[38;5;124mRTime\u001b[39m\u001b[38;5;124m\"\u001b[39m], \u001b[43mu_pred\u001b[49m\u001b[43m[\u001b[49m\u001b[38;5;124;43m\"\u001b[39;49m\u001b[38;5;124;43mProtein\u001b[39;49m\u001b[38;5;124;43m\"\u001b[39;49m\u001b[43m]\u001b[49m, color\u001b[38;5;241m=\u001b[39m\u001b[38;5;124m\"\u001b[39m\u001b[38;5;124mblue\u001b[39m\u001b[38;5;124m\"\u001b[39m, label\u001b[38;5;241m=\u001b[39m\u001b[38;5;124m\"\u001b[39m\u001b[38;5;124mProtein_A\u001b[39m\u001b[38;5;124m\"\u001b[39m)\n\u001b[1;32m    233\u001b[0m ax[\u001b[38;5;241m0\u001b[39m]\u001b[38;5;241m.\u001b[39mlegend()\n\u001b[1;32m    234\u001b[0m ax[\u001b[38;5;241m1\u001b[39m]\u001b[38;5;241m.\u001b[39mlegend()\n",
      "File \u001b[0;32m~/env/main/lib/python3.10/site-packages/pandas/core/frame.py:3807\u001b[0m, in \u001b[0;36mDataFrame.__getitem__\u001b[0;34m(self, key)\u001b[0m\n\u001b[1;32m   3805\u001b[0m \u001b[38;5;28;01mif\u001b[39;00m \u001b[38;5;28mself\u001b[39m\u001b[38;5;241m.\u001b[39mcolumns\u001b[38;5;241m.\u001b[39mnlevels \u001b[38;5;241m>\u001b[39m \u001b[38;5;241m1\u001b[39m:\n\u001b[1;32m   3806\u001b[0m     \u001b[38;5;28;01mreturn\u001b[39;00m \u001b[38;5;28mself\u001b[39m\u001b[38;5;241m.\u001b[39m_getitem_multilevel(key)\n\u001b[0;32m-> 3807\u001b[0m indexer \u001b[38;5;241m=\u001b[39m \u001b[38;5;28;43mself\u001b[39;49m\u001b[38;5;241;43m.\u001b[39;49m\u001b[43mcolumns\u001b[49m\u001b[38;5;241;43m.\u001b[39;49m\u001b[43mget_loc\u001b[49m\u001b[43m(\u001b[49m\u001b[43mkey\u001b[49m\u001b[43m)\u001b[49m\n\u001b[1;32m   3808\u001b[0m \u001b[38;5;28;01mif\u001b[39;00m is_integer(indexer):\n\u001b[1;32m   3809\u001b[0m     indexer \u001b[38;5;241m=\u001b[39m [indexer]\n",
      "File \u001b[0;32m~/env/main/lib/python3.10/site-packages/pandas/core/indexes/base.py:3804\u001b[0m, in \u001b[0;36mIndex.get_loc\u001b[0;34m(self, key, method, tolerance)\u001b[0m\n\u001b[1;32m   3802\u001b[0m     \u001b[38;5;28;01mreturn\u001b[39;00m \u001b[38;5;28mself\u001b[39m\u001b[38;5;241m.\u001b[39m_engine\u001b[38;5;241m.\u001b[39mget_loc(casted_key)\n\u001b[1;32m   3803\u001b[0m \u001b[38;5;28;01mexcept\u001b[39;00m \u001b[38;5;167;01mKeyError\u001b[39;00m \u001b[38;5;28;01mas\u001b[39;00m err:\n\u001b[0;32m-> 3804\u001b[0m     \u001b[38;5;28;01mraise\u001b[39;00m \u001b[38;5;167;01mKeyError\u001b[39;00m(key) \u001b[38;5;28;01mfrom\u001b[39;00m \u001b[38;5;21;01merr\u001b[39;00m\n\u001b[1;32m   3805\u001b[0m \u001b[38;5;28;01mexcept\u001b[39;00m \u001b[38;5;167;01mTypeError\u001b[39;00m:\n\u001b[1;32m   3806\u001b[0m     \u001b[38;5;66;03m# If we have a listlike key, _check_indexing_error will raise\u001b[39;00m\n\u001b[1;32m   3807\u001b[0m     \u001b[38;5;66;03m#  InvalidIndexError. Otherwise we fall through and re-raise\u001b[39;00m\n\u001b[1;32m   3808\u001b[0m     \u001b[38;5;66;03m#  the TypeError.\u001b[39;00m\n\u001b[1;32m   3809\u001b[0m     \u001b[38;5;28mself\u001b[39m\u001b[38;5;241m.\u001b[39m_check_indexing_error(key)\n",
      "\u001b[0;31mKeyError\u001b[0m: 'Protein'"
     ]
    },
    {
     "data": {
      "image/png": "[encoded data removed]",
      "text/plain": [
       "<Figure size 1200x300 with 2 Axes>"
      ]
     },
     "metadata": {},
     "output_type": "display_data"
    }
   ],
   "source": [
    "print(f'mu_max = {net.mu_max.item():.4f}')\n",
    "print(f'Ks = {net.K_s.item():.4f}')\n",
    "print(f'Yxs = {net.Y_xs.item():.4f}')    \n",
    "\n",
    "title = f\"mu_max = {net.mu_max.item():.4f}, Ks = {net.K_s.item():.4f}, Yxs = {net.Y_xs.item():.4f} | Loss = {loss:.4f}\"\n",
    "plot_net_predictions(full_df=full_df, train_df=train_df, u_pred=u_pred)"
   ]
  }
 ],
 "metadata": {
  "kernelspec": {
   "display_name": "main",
   "language": "python",
   "name": "python3"
  },
  "language_info": {
   "codemirror_mode": {
    "name": "ipython",
    "version": 3
   },
   "file_extension": ".py",
   "mimetype": "text/x-python",
   "name": "python",
   "nbconvert_exporter": "python",
   "pygments_lexer": "ipython3",
   "version": "3.10.12"
  }
 },
 "nbformat": 4,
 "nbformat_minor": 2
}
