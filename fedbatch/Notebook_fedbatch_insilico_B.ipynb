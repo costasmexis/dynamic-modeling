{
 "cells": [
  {
   "cell_type": "code",
   "execution_count": 1,
   "metadata": {},
   "outputs": [],
   "source": [
    "%load_ext autoreload\n",
    "%autoreload 2"
   ]
  },
  {
   "cell_type": "code",
   "execution_count": 2,
   "metadata": {},
   "outputs": [],
   "source": [
    "import sys\n",
    "\n",
    "sys.path.append(\"../\")\n",
    "\n",
    "import numpy as np\n",
    "import pandas as pd\n",
    "from machinelearning_fedbatch import main, plot_net_predictions, validate_predictions\n",
    "from system_ode_fedbatch import simulate, PlotSolution\n",
    "from src.utils import get_data_and_feed, plot_experiment\n",
    "import matplotlib.pyplot as plt\n",
    "\n",
    "FILENAME = \"../data/data_processed.xlsx\"\n",
    "EXPERIMENT = \"BR01\"\n",
    "S_IN = 1.43 * 200"
   ]
  },
  {
   "cell_type": "code",
   "execution_count": null,
   "metadata": {},
   "outputs": [],
   "source": [
    "full_df, feeds = get_data_and_feed(\n",
    "    file_name=FILENAME, experiment=EXPERIMENT, keep_only=\"FB\"\n",
    ")\n",
    "\n",
    "full_df['Biomass'].iloc[1] = 5.0\n",
    "# add new line to full_df\n",
    "new_row = pd.DataFrame([{\"Process\": \"FB\", \"RTime\": 5.85, \"V\": 1.56, \"Biomass\": 5.8, \"Glucose\": 0.013, \"Protein\": 0.0}])\n",
    "full_df = pd.concat([full_df, new_row], ignore_index=True)\n",
    "full_df.sort_values(by=\"RTime\", inplace=True)\n",
    "\n",
    "T_FB = full_df[\"RTime\"].iloc[0] # Time of fed-batch\n",
    "T_START = 0\n",
    "T_END = full_df[\"RTime\"].iloc[-1] - T_FB  # End of experiment\n",
    "\n",
    "# Get initial volume\n",
    "V0 = full_df[\"V\"].iloc[0]\n",
    "\n",
    "# Normalize time\n",
    "full_df[\"RTime\"] = full_df[\"RTime\"] - T_FB\n",
    "feeds[\"Time\"] = feeds[\"Time\"] - T_FB\n",
    "\n",
    "print(f\"Dataset shape: {full_df.shape}\")\n",
    "\n",
    "plot_experiment(full_df, title='')"
   ]
  },
  {
   "cell_type": "code",
   "execution_count": null,
   "metadata": {},
   "outputs": [],
   "source": [
    "# inlet flowrate\n",
    "def Fs(t):\n",
    "    if t <= 4.73 - T_FB:\n",
    "        return 0.017\n",
    "    elif t <= 7.33 - T_FB:\n",
    "        return 0.031\n",
    "    elif t <= 9.17 - T_FB:\n",
    "        return 0.060\n",
    "    elif t <= 9.78 - T_FB:\n",
    "        return 0.031\n",
    "    else:\n",
    "        return 0.017\n",
    "\n",
    "# Plot Fs(t) \n",
    "Fs_t = [Fs(i) for i in np.linspace(T_START,T_END,1000)]\n",
    "plt.figure(figsize=(10,3))\n",
    "plt.plot(np.linspace(T_START,T_END,1000),Fs_t)\n",
    "# Plot vertical lines on feed times\n",
    "for feed_time in feeds[\"Time\"]:\n",
    "    plt.axvline(feed_time, color='black', alpha=0.2, linestyle='--')\n",
    "plt.xlabel('Time (hours)')\n",
    "plt.ylabel('Flowrate (liter/hour)')\n",
    "plt.title('Inlet Flowrate')\n",
    "plt.ylim(0,0.1)\n",
    "plt.show()"
   ]
  },
  {
   "cell_type": "code",
   "execution_count": null,
   "metadata": {},
   "outputs": [],
   "source": [
    "t_start = full_df[\"RTime\"].iloc[0]\n",
    "t_end = full_df[\"RTime\"].iloc[-1]\n",
    "IC = [full_df[\"Biomass\"].iloc[0], full_df[\"Glucose\"].iloc[0], V0]\n",
    "sol_df = simulate(\n",
    "    feeds,\n",
    "    0.724,\n",
    "    0.160,\n",
    "    0.660,\n",
    "    S_IN,\n",
    "    t_start,\n",
    "    t_end,\n",
    "    NUM_SAMPLES=1000,\n",
    "    IC=IC,\n",
    "    return_df=True\n",
    ")\n",
    "\n",
    "plt.figure(figsize=(10, 5))\n",
    "plt.scatter(full_df[\"RTime\"], full_df[\"Biomass\"], label=\"Biomass\", color='green')\n",
    "plt.plot(sol_df[\"RTime\"], sol_df[\"Biomass\"], label=\"_Biomass\", color='green')\n",
    "plt.scatter(full_df[\"RTime\"], full_df[\"Glucose\"], label=\"Glucose\", color='red')\n",
    "plt.plot(sol_df[\"RTime\"], sol_df[\"Glucose\"], label=\"_Glucose\", color='red')\n",
    "# Plot vertical lines on feed times\n",
    "for feed_time in feeds[\"Time\"]:\n",
    "    plt.axvline(feed_time, color='black', alpha=0.2, linestyle='--')\n",
    "plt.xlabel(\"Time (h)\")\n",
    "plt.ylabel(\"Concentration (g/L)\")\n",
    "plt.legend()\n",
    "plt.show()\n"
   ]
  },
  {
   "cell_type": "code",
   "execution_count": 6,
   "metadata": {},
   "outputs": [],
   "source": [
    "for i in range(2, len(full_df)+1):\n",
    "    print(f\"Training with {i} samples\")\n",
    "    train_df = full_df.iloc[:i]\n",
    "    net, u_pred, loss = main(train_df=train_df, full_df=full_df, feeds=feeds, Sin=S_IN, V0=V0, num_epochs=30000, verbose=100)\n",
    "    \n",
    "    # Clip u_pred to be positive\n",
    "    u_pred[u_pred < 0] = 0\n",
    "    \n",
    "    print(f\"mu_max = {net.mu_max.item():.4f}\")\n",
    "    print(f\"Ks = {net.K_s.item():.4f}\")\n",
    "    print(f\"Yxs = {net.Y_xs.item():.4f}\")\n",
    "\n",
    "    title = f\"mu_max = {net.mu_max.item():.4f}, Ks = {net.K_s.item():.4f}, Yxs = {net.Y_xs.item():.4f} | Loss = {loss:.4f}\"\n",
    "    plot_net_predictions(full_df=full_df, train_df=train_df, u_pred=u_pred, title=title)\n",
    "    \n",
    "    validate_predictions(full_df=full_df, u_pred=u_pred, i=i)\n",
    "    \n",
    "    # Save u_pred to file\n",
    "    u_pred.to_csv(f\"./temp/u_pred_{i}.csv\", index=False)"
   ]
  },
  {
   "cell_type": "code",
   "execution_count": null,
   "metadata": {},
   "outputs": [],
   "source": [
    "t_start = full_df[\"RTime\"].iloc[0]\n",
    "t_end = full_df[\"RTime\"].iloc[-1]\n",
    "IC = [full_df[\"Biomass\"].iloc[0], full_df[\"Glucose\"].iloc[0], V0]\n",
    "sol_df = simulate(\n",
    "    feeds,\n",
    "    net.mu_max.item(),\n",
    "    net.K_s.item(),\n",
    "    net.Y_xs.item(),\n",
    "    S_IN,\n",
    "    t_start,\n",
    "    t_end,\n",
    "    NUM_SAMPLES=1000,\n",
    "    IC=IC,\n",
    "    return_df=True\n",
    ")\n",
    "\n",
    "PlotSolution(full_df=full_df, train_df=train_df, df_pred=sol_df)"
   ]
  },
  {
   "cell_type": "code",
   "execution_count": null,
   "metadata": {},
   "outputs": [],
   "source": [
    "# Quick and dirty way to plot results\n",
    "res = pd.read_csv('./temp/u_pred_12.csv')\n",
    "\n",
    "plt.figure(figsize=(10, 5))\n",
    "plt.scatter(full_df[\"RTime\"], full_df[\"Biomass\"], label=\"Biomass\", color='green')\n",
    "plt.plot(res[\"RTime\"], res[\"Biomass\"], label=\"_Biomass\", color='green')\n",
    "plt.scatter(full_df[\"RTime\"], full_df[\"Glucose\"], label=\"Glucose\", color='red')\n",
    "plt.plot(res[\"RTime\"], res[\"Glucose\"], label=\"_Glucose\", color='red')\n",
    "plt.xlabel(\"Time (h)\")\n",
    "plt.ylabel(\"Concentration (g/L)\")\n",
    "plt.legend()\n",
    "plt.show()"
   ]
  },
  {
   "cell_type": "code",
   "execution_count": null,
   "metadata": {},
   "outputs": [],
   "source": []
  }
 ],
 "metadata": {
  "kernelspec": {
   "display_name": "main",
   "language": "python",
   "name": "python3"
  },
  "language_info": {
   "codemirror_mode": {
    "name": "ipython",
    "version": 3
   },
   "file_extension": ".py",
   "mimetype": "text/x-python",
   "name": "python",
   "nbconvert_exporter": "python",
   "pygments_lexer": "ipython3",
   "version": "3.10.12"
  }
 },
 "nbformat": 4,
 "nbformat_minor": 2
}
