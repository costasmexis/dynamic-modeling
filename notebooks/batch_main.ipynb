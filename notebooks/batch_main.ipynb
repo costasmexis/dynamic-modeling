{
 "cells": [
  {
   "cell_type": "code",
   "execution_count": 2,
   "metadata": {},
   "outputs": [],
   "source": [
    "import sys\n",
    "sys.path.append('../')\n",
    "\n",
    "import matplotlib.pyplot as plt\n",
    "import numpy as np\n",
    "import pandas as pd\n",
    "import torch\n",
    "import torch.nn as nn\n",
    "from scipy.integrate import solve_ivp\n",
    "from scipy.signal import savgol_filter\n",
    "from sklearn.metrics import mean_absolute_error, mean_squared_error, r2_score\n",
    "\n",
    "from src.batch_pinn import PINN, numpy_to_tensor, train\n",
    "from src.utils import get_data\n",
    "\n",
    "pd.options.mode.chained_assignment = None\n",
    "\n",
    "np.set_printoptions(precision=4)\n",
    "\n",
    "%load_ext autoreload\n",
    "%autoreload 2"
   ]
  },
  {
   "cell_type": "code",
   "execution_count": 5,
   "metadata": {},
   "outputs": [],
   "source": [
    "def plot_simulation(t, y, full_df, train_df, net_df):\n",
    "    plt.figure(figsize=(10, 5))\n",
    "    plt.plot(t, y[0], label='Biomass (ODE)', alpha=0.3)\n",
    "    plt.plot(t, y[1], label='Glucose (ODE)', alpha=0.3)\n",
    "    plt.scatter(full_df['RTime'], full_df['Glucose'], label='Glucose (All)', color='red', alpha=0.2)   \n",
    "    plt.scatter(full_df['RTime'], full_df['Biomass'], label='Biomass (All)', color='green', alpha=0.2)\n",
    "    plt.scatter(train_df['RTime'], train_df['Glucose'], label='Glucose (Train)', color='red', alpha=1)   \n",
    "    plt.scatter(train_df['RTime'], train_df['Biomass'], label='Biomass (Train)', color='green', alpha=1)\n",
    "    plt.scatter(net_df['RTime'], net_df['Glucose'], marker='+', label='Glucose (Predicted)', color='red', s=100, alpha=0.5)\n",
    "    plt.scatter(net_df['RTime'], net_df['Biomass'], marker='+', label='Biomass (Predicted)', color='green', s=100, alpha=0.5)\n",
    "    plt.legend()\n",
    "    plt.show()\n",
    "    \n",
    "def simulate(df, mu_max, Ks, Yxs):\n",
    "    mu_max = mu_max\n",
    "    Ks = Ks\n",
    "    Yxs = Yxs\n",
    "    \n",
    "    def system_ode(t, y):\n",
    "        X, S = y\n",
    "        mu = mu_max * S / (Ks + S)\n",
    "        dXdt = mu * X\n",
    "        dSdt = - mu * X / Yxs\n",
    "        return [dXdt, dSdt]\n",
    "    \n",
    "    t_eval = np.linspace(df['RTime'].min(), df['RTime'].max(), 10000)\n",
    "    sol = solve_ivp(system_ode, [df['RTime'].min(), df['RTime'].max()], \\\n",
    "        [df['Biomass'].iloc[0], df['Glucose'].iloc[0]], t_eval=t_eval)\n",
    "    return sol"
   ]
  },
  {
   "cell_type": "markdown",
   "metadata": {},
   "source": [
    "__Parameter estimation using PINN__"
   ]
  },
  {
   "cell_type": "code",
   "execution_count": 7,
   "metadata": {},
   "outputs": [
    {
     "name": "stdout",
     "output_type": "stream",
     "text": [
      "Dataset shape: (8, 8)\n"
     ]
    }
   ],
   "source": [
    "FILENAME = '../data/data_processed.xlsx'\n",
    "EXPERIMENT = 'BR01'\n",
    "\n",
    "data = get_data(file_name=FILENAME)\n",
    "\n",
    "df = data.loc[EXPERIMENT]\n",
    "\n",
    "# Keep only the Batch phase\n",
    "df = df[df['Process']=='B']\n",
    "print(f'Dataset shape: {df.shape}')"
   ]
  },
  {
   "cell_type": "code",
   "execution_count": 9,
   "metadata": {},
   "outputs": [],
   "source": [
    "for i in range(2, len(df)+1):\n",
    "    print(f'Training using {i} data points')\n",
    "    \n",
    "    _df = df.iloc[:i]\n",
    "    t_start, t_end = _df['RTime'].min(), _df['RTime'].max()\n",
    "    \n",
    "    t = numpy_to_tensor(_df['RTime'].values)\n",
    "    X = numpy_to_tensor(_df['Biomass'].values)\n",
    "    S = numpy_to_tensor(_df['Glucose'].values)\n",
    "    X_S = torch.cat((X, S), 1)\n",
    "    \n",
    "    # Define and Train PINN \n",
    "    net = PINN(1, 2, t_start=t_start, t_end=t_end)     \n",
    "    net, total_loss, loss_data, loss_ic, loss_ode = train(net, t, X_S, df, num_epochs=2000, verbose=False)\n",
    "\n",
    "    # Store the results\n",
    "    net_df = pd.DataFrame(columns=['RTime', 'Biomass', 'Glucose'])\n",
    "    t_test = df['RTime'].values\n",
    "    net_df['RTime'] = t_test\n",
    "    t_test = numpy_to_tensor(t_test)\n",
    "    net_df['Biomass'] = net.forward(t_test).detach().cpu().numpy()[:, 0]\n",
    "    net_df['Glucose'] = net.forward(t_test).detach().cpu().numpy()[:, 1]\n",
    "    \n",
    "    mu_max = net.mu_max.item()\n",
    "    Ks = net.K_s.item()\n",
    "    Yxs = net.Y_xs.item()\n",
    "    \n",
    "    print(f'mu_max: {mu_max:4f}, Ks: {Ks:4f}, Yxs: {Yxs:.4f}')\n",
    "    \n",
    "    solution = simulate(df, mu_max, Ks, Yxs)\n",
    "    plot_simulation(solution.t, solution.y, df, _df, net_df)"
   ]
  }
 ],
 "metadata": {
  "kernelspec": {
   "display_name": "main",
   "language": "python",
   "name": "python3"
  },
  "language_info": {
   "codemirror_mode": {
    "name": "ipython",
    "version": 3
   },
   "file_extension": ".py",
   "mimetype": "text/x-python",
   "name": "python",
   "nbconvert_exporter": "python",
   "pygments_lexer": "ipython3",
   "version": "3.10.12"
  }
 },
 "nbformat": 4,
 "nbformat_minor": 2
}
