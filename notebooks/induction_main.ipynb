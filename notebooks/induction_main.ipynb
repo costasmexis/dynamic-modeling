{
 "cells": [
  {
   "cell_type": "code",
   "execution_count": 87,
   "metadata": {},
   "outputs": [
    {
     "name": "stdout",
     "output_type": "stream",
     "text": [
      "The autoreload extension is already loaded. To reload it, use:\n",
      "  %reload_ext autoreload\n"
     ]
    }
   ],
   "source": [
    "import sys\n",
    "sys.path.append('../')\n",
    "\n",
    "import matplotlib.pyplot as plt\n",
    "import numpy as np\n",
    "import pandas as pd\n",
    "\n",
    "from src.induction_pinn import PINN, numpy_to_tensor, train\n",
    "from src.utils import get_data_and_feed\n",
    "from typing import Optional, Union\n",
    "from scipy.integrate import solve_ivp\n",
    "\n",
    "import torch\n",
    "import torch.nn as nn\n",
    "from tqdm import tqdm \n",
    "\n",
    "pd.options.mode.chained_assignment = None\n",
    "\n",
    "np.set_printoptions(precision=4)\n",
    "\n",
    "%load_ext autoreload\n",
    "%autoreload 2"
   ]
  },
  {
   "cell_type": "code",
   "execution_count": 88,
   "metadata": {},
   "outputs": [],
   "source": [
    "def plot_feed(feeds):\n",
    "    fig, ax = plt.subplots(figsize=(10, 5))\n",
    "    ax.bar(feeds['Time'], feeds['F'], width=feeds['Duration'], align='edge')\n",
    "    ax.set_xlabel('Time (h)')\n",
    "    ax.set_ylabel('Feed (mL/h)')\n",
    "    ax.set_title('Feed vs Time')\n",
    "    plt.show()\n",
    "    \n",
    "def plot_simulation(t=None, y=None, feeds: Optional[pd.DataFrame] = None, full_df: Optional[pd.DataFrame] = None, train_df: Optional[pd.DataFrame] = None, net_df: Optional[pd.DataFrame] = None, title: Optional[str] = None):\n",
    "    fig, ax1 = plt.subplots(figsize=(10, 5))\n",
    "    if t is not None and y is not None:\n",
    "        ax1.plot(t, y[0], label='Biomass (ODE)', alpha=0.6)\n",
    "        ax1.plot(t, y[1], label='Glucose (ODE)', alpha=0.6)\n",
    "    \n",
    "    if full_df is not None:\n",
    "        ax1.scatter(full_df['RTime'], full_df['Glucose'], label='Glucose (EXP)', color='red', alpha=0.2)   \n",
    "        ax1.scatter(full_df['RTime'], full_df['Biomass'], label='Biomass (EXP)', color='green', alpha=0.2)\n",
    "    \n",
    "    if train_df is not None:\n",
    "        ax1.scatter(train_df['RTime'], train_df['Glucose'], label='Glucose (Train)', color='red', alpha=1)   \n",
    "        ax1.scatter(train_df['RTime'], train_df['Biomass'], label='Biomass (Train)', color='green', alpha=1)\n",
    "    \n",
    "    if net_df is not None:\n",
    "        ax1.scatter(net_df['RTime'], net_df['Glucose'], label='Glucose (Predicted)', marker='x', color='red', alpha=0.5)\n",
    "        ax1.scatter(net_df['RTime'], net_df['Biomass'], label='Biomass (Predicted)', marker='x', color='green', alpha=0.5)\n",
    "\n",
    "    plt.xlabel(\"Time (hours)\")\n",
    "    plt.ylabel(\"Concentration\")\n",
    "    plt.title(title)\n",
    "    \n",
    "    if feeds is not None:\n",
    "        ax2 = ax1.twinx()\n",
    "        ax2.bar(feeds['Time'], feeds['F'], width=feeds['Duration'], \\\n",
    "            align='edge', label='Feed', alpha=0.5, color=None, \\\n",
    "            edgecolor='black', linewidth=1, fill=False)\n",
    "        ax2.set_ylabel('Feed Rate')\n",
    "\n",
    "    \n",
    "    handles1, labels1 = ax1.get_legend_handles_labels()\n",
    "    if feeds is not None:\n",
    "        handles2, labels2 = ax2.get_legend_handles_labels()\n",
    "        handles = handles1 + handles2\n",
    "        labels = labels1 + labels2\n",
    "        ax2.legend(handles, labels, loc='upper left')\n",
    "    else:\n",
    "        ax1.legend(handles1, labels1, loc='upper left')\n",
    "\n",
    "    plt.show()\n",
    " \n",
    "def get_feed(feeds: pd.DataFrame, time: float) -> float:\n",
    "    for _, row in feeds.iterrows():\n",
    "        start_time = row[\"Time\"]\n",
    "        end_time = row[\"Time\"] + row[\"Duration\"]\n",
    "        if start_time <= time < end_time:\n",
    "            return row[\"F\"] / 1000\n",
    "    return 0\n",
    "\n",
    "def simulate(df: pd.DataFrame, feeds: pd.DataFrame, mu_max, Ks, Yxs, plot: bool = True):\n",
    "    mu_max = mu_max\n",
    "    Ks = Ks\n",
    "    Yxs = Yxs\n",
    "    Sin = 1.43 * 200\n",
    "\n",
    "    def system_ode(t, y):\n",
    "        X, S, V = y\n",
    "        mu = mu_max * S / (Ks + S)\n",
    "        F = get_feed(feeds, t)\n",
    "        dXdt = mu * X + F * X / V\n",
    "        dSdt = - mu * X / Yxs + F * (Sin - S) / V\n",
    "        dVdt = F\n",
    "        return [dXdt, dSdt, dVdt]\n",
    "    \n",
    "    t_start, t_end = df['RTime'].min(), df['RTime'].max()\n",
    "    t_span = (t_start, t_end)\n",
    "    y0 = [df['Biomass'].iloc[0], df['Glucose'].iloc[0], df['V'].iloc[0]]\n",
    "\n",
    "    t_eval = np.linspace(t_start, t_end, 10000)\n",
    "    sol = solve_ivp(system_ode, t_span=t_span, \\\n",
    "        y0=y0, t_eval=t_eval)\n",
    "    \n",
    "    if plot:\n",
    "        plot_simulation(sol.t, sol.y, feeds=feeds, full_df=df)\n",
    "\n",
    "    for i in range(sol.y.shape[0]):\n",
    "        sol.y[i][sol.y[i] < 0] = 0\n",
    "\n",
    "    return sol\n",
    "\n",
    "def get_predictions_df(net: nn.Module, df: pd.DataFrame):\n",
    "    net_df = pd.DataFrame(columns=['RTime', 'Biomass', 'Glucose'])\n",
    "    t_test = df['RTime'].values\n",
    "    t_test = numpy_to_tensor(t_test)\n",
    "    net_df[\"RTime\"] = df[\"RTime\"].values\n",
    "    net_df[\"Biomass\"] = net.forward(t_test).detach().cpu().numpy()[:, 0]\n",
    "    net_df[\"Glucose\"] = net.forward(t_test).detach().cpu().numpy()[:, 1]\n",
    "    net_df[\"V\"] = net.forward(t_test).detach().cpu().numpy()[:, 2]\n",
    "    net_df.loc[net_df['Glucose'] < 0, 'Glucose'] = 0\n",
    "    return net_df"
   ]
  },
  {
   "cell_type": "code",
   "execution_count": 89,
   "metadata": {},
   "outputs": [
    {
     "name": "stdout",
     "output_type": "stream",
     "text": [
      "Dataset shape: (5, 8)\n"
     ]
    }
   ],
   "source": [
    "FILENAME = '../data/data_processed.xlsx'\n",
    "EXPERIMENT = 'BR02'\n",
    "\n",
    "df, feeds = get_data_and_feed(FILENAME, EXPERIMENT)\n",
    "\n",
    "# Get FB and FBI data\n",
    "df = df[df['Process'] == 'FB']\n",
    "feeds = feeds[feeds['Induction']==0]\n",
    "\n",
    "print(f'Dataset shape: {df.shape}')"
   ]
  },
  {
   "cell_type": "code",
   "execution_count": 81,
   "metadata": {},
   "outputs": [],
   "source": [
    "def main(df: pd.DataFrame):\n",
    "    t_start, t_end = df['RTime'].min(), df['RTime'].max()\n",
    "\n",
    "    t_train = numpy_to_tensor(df['RTime'].values)\n",
    "    Biomass_train = numpy_to_tensor(df['Biomass'].values)\n",
    "    Glucose_train = numpy_to_tensor(df['Glucose'].values)\n",
    "    V_train = numpy_to_tensor(df['V'].values)\n",
    "    u_train = torch.cat((Biomass_train, Glucose_train, V_train), 1)\n",
    "\n",
    "    net = PINN(input_dim=1, output_dim=3, t_start=t_start, t_end=t_end)\n",
    "\n",
    "    net = train(net, t_train, u_train, df, feeds, num_epochs=2500, verbose=200)\n",
    "\n",
    "    net_df = get_predictions_df(net, df)    \n",
    "\n",
    "    sol = simulate(df, feeds, net.mu_max.item(), net.K_s.item(), net.Y_xs.item(), plot=False)\n",
    "\n",
    "    title = f\"mu_max: {net.mu_max.item():4f}, Ks: {net.K_s.item():4f}, Yxs: {net.Y_xs.item():.4f}\"\n",
    "    plot_simulation(sol.t, sol.y, net_df=net_df, train_df=df, full_df=df, title=title)\n",
    "    \n",
    "    return net, net_df"
   ]
  },
  {
   "cell_type": "code",
   "execution_count": 90,
   "metadata": {},
   "outputs": [
    {
     "name": "stderr",
     "output_type": "stream",
     "text": [
      "  0%|          | 0/2500 [00:00<?, ?it/s]"
     ]
    },
    {
     "name": "stderr",
     "output_type": "stream",
     "text": [
      "\n",
      "  0%|          | 0/2500 [00:00<?, ?it/s]\n",
      "  0%|          | 0/2500 [00:00<?, ?it/s]\n",
      "  0%|          | 0/2500 [00:00<?, ?it/s]\n",
      "  0%|          | 0/2500 [00:00<?, ?it/s]\n",
      "  0%|          | 0/2500 [00:00<?, ?it/s]\n",
      "  0%|          | 0/2500 [00:00<?, ?it/s]\n",
      "  0%|          | 0/2500 [00:00<?, ?it/s]\n",
      "  0%|          | 10/2500 [00:00<00:50, 48.84it/s]"
     ]
    },
    {
     "name": "stdout",
     "output_type": "stream",
     "text": [
      "mu_max: 0.5005, Ks: 0.4995, Yxs: 0.4995\n",
      "X_data_loss = 273.1177\n",
      "S_data_loss = 0.0851\n",
      "V_data_loss = 2.2762\n",
      "X_IC_loss = 36.9451\n",
      "S_IC_loss = 0.0420\n",
      "V_IC_loss = 1.9906\n",
      "error_ode = 9698.9658\n"
     ]
    },
    {
     "name": "stderr",
     "output_type": "stream",
     "text": [
      "  8%|▊         | 207/2500 [00:04<00:41, 55.02it/s]"
     ]
    },
    {
     "name": "stdout",
     "output_type": "stream",
     "text": [
      "mu_max: 0.6205, Ks: 0.3885, Yxs: 0.3674\n",
      "X_data_loss = 157.6145\n",
      "S_data_loss = 1.0146\n",
      "V_data_loss = 0.6764\n",
      "X_IC_loss = 12.0806\n",
      "S_IC_loss = 0.4405\n",
      "V_IC_loss = 0.0029\n",
      "error_ode = 3.2257\n"
     ]
    },
    {
     "name": "stderr",
     "output_type": "stream",
     "text": [
      " 16%|█▌        | 405/2500 [00:08<00:44, 46.93it/s]"
     ]
    },
    {
     "name": "stdout",
     "output_type": "stream",
     "text": [
      "mu_max: 0.6185, Ks: 0.3962, Yxs: 0.3494\n",
      "X_data_loss = 10.4397\n",
      "S_data_loss = 0.0119\n",
      "V_data_loss = 0.4828\n",
      "X_IC_loss = 9.7694\n",
      "S_IC_loss = 0.0041\n",
      "V_IC_loss = 0.0010\n",
      "error_ode = 1.7033\n"
     ]
    },
    {
     "name": "stderr",
     "output_type": "stream",
     "text": [
      " 24%|██▍       | 611/2500 [00:12<00:35, 53.31it/s]"
     ]
    },
    {
     "name": "stdout",
     "output_type": "stream",
     "text": [
      "mu_max: 0.6192, Ks: 0.3956, Yxs: 0.3408\n",
      "X_data_loss = 8.4567\n",
      "S_data_loss = 0.0131\n",
      "V_data_loss = 0.3129\n",
      "X_IC_loss = 8.2166\n",
      "S_IC_loss = 0.0032\n",
      "V_IC_loss = 0.0005\n",
      "error_ode = 1.8892\n"
     ]
    },
    {
     "name": "stderr",
     "output_type": "stream",
     "text": [
      " 32%|███▏      | 807/2500 [00:16<00:33, 50.72it/s]"
     ]
    },
    {
     "name": "stdout",
     "output_type": "stream",
     "text": [
      "mu_max: 0.6207, Ks: 0.3934, Yxs: 0.3422\n",
      "X_data_loss = 5.3380\n",
      "S_data_loss = 0.0137\n",
      "V_data_loss = 0.2288\n",
      "X_IC_loss = 5.0665\n",
      "S_IC_loss = 0.0042\n",
      "V_IC_loss = 0.0000\n",
      "error_ode = 2.2653\n"
     ]
    },
    {
     "name": "stderr",
     "output_type": "stream",
     "text": [
      " 40%|████      | 1008/2500 [00:20<00:30, 49.44it/s]"
     ]
    },
    {
     "name": "stdout",
     "output_type": "stream",
     "text": [
      "mu_max: 0.6228, Ks: 0.3897, Yxs: 0.3654\n",
      "X_data_loss = 2.4193\n",
      "S_data_loss = 0.0172\n",
      "V_data_loss = 0.1561\n",
      "X_IC_loss = 2.1900\n",
      "S_IC_loss = 0.0079\n",
      "V_IC_loss = 0.0066\n",
      "error_ode = 2.8891\n"
     ]
    },
    {
     "name": "stderr",
     "output_type": "stream",
     "text": [
      " 48%|████▊     | 1208/2500 [00:23<00:24, 53.37it/s]"
     ]
    },
    {
     "name": "stdout",
     "output_type": "stream",
     "text": [
      "mu_max: 0.6256, Ks: 0.3830, Yxs: 0.4088\n",
      "X_data_loss = 0.8833\n",
      "S_data_loss = 0.0228\n",
      "V_data_loss = 0.1393\n",
      "X_IC_loss = 0.6133\n",
      "S_IC_loss = 0.0152\n",
      "V_IC_loss = 0.0187\n",
      "error_ode = 3.2669\n"
     ]
    },
    {
     "name": "stderr",
     "output_type": "stream",
     "text": [
      " 56%|█████▋    | 1409/2500 [00:28<00:19, 55.23it/s]"
     ]
    },
    {
     "name": "stdout",
     "output_type": "stream",
     "text": [
      "mu_max: 0.6299, Ks: 0.3721, Yxs: 0.4592\n",
      "X_data_loss = 0.3778\n",
      "S_data_loss = 0.0280\n",
      "V_data_loss = 0.1703\n",
      "X_IC_loss = 0.1653\n",
      "S_IC_loss = 0.0240\n",
      "V_IC_loss = 0.0251\n",
      "error_ode = 3.5039\n"
     ]
    },
    {
     "name": "stderr",
     "output_type": "stream",
     "text": [
      " 64%|██████▍   | 1604/2500 [00:32<00:18, 49.09it/s]"
     ]
    },
    {
     "name": "stdout",
     "output_type": "stream",
     "text": [
      "mu_max: 0.6356, Ks: 0.3568, Yxs: 0.5050\n",
      "X_data_loss = 0.2537\n",
      "S_data_loss = 0.0303\n",
      "V_data_loss = 0.2267\n",
      "X_IC_loss = 0.0652\n",
      "S_IC_loss = 0.0304\n",
      "V_IC_loss = 0.0234\n",
      "error_ode = 3.4076\n"
     ]
    },
    {
     "name": "stderr",
     "output_type": "stream",
     "text": [
      " 72%|███████▏  | 1807/2500 [00:35<00:12, 54.47it/s]"
     ]
    },
    {
     "name": "stdout",
     "output_type": "stream",
     "text": [
      "mu_max: 0.6424, Ks: 0.3380, Yxs: 0.5431\n",
      "X_data_loss = 0.2094\n",
      "S_data_loss = 0.0300\n",
      "V_data_loss = 0.2865\n",
      "X_IC_loss = 0.0424\n",
      "S_IC_loss = 0.0329\n",
      "V_IC_loss = 0.0193\n",
      "error_ode = 3.2860\n"
     ]
    },
    {
     "name": "stderr",
     "output_type": "stream",
     "text": [
      " 80%|████████  | 2008/2500 [00:39<00:09, 52.36it/s]"
     ]
    },
    {
     "name": "stdout",
     "output_type": "stream",
     "text": [
      "mu_max: 0.6501, Ks: 0.3166, Yxs: 0.5738\n",
      "X_data_loss = 0.1983\n",
      "S_data_loss = 0.0280\n",
      "V_data_loss = 0.3392\n",
      "X_IC_loss = 0.0277\n",
      "S_IC_loss = 0.0325\n",
      "V_IC_loss = 0.0153\n",
      "error_ode = 3.1859\n"
     ]
    },
    {
     "name": "stderr",
     "output_type": "stream",
     "text": [
      " 88%|████████▊ | 2209/2500 [00:43<00:05, 51.14it/s]"
     ]
    },
    {
     "name": "stdout",
     "output_type": "stream",
     "text": [
      "mu_max: 0.6581, Ks: 0.2933, Yxs: 0.5985\n",
      "X_data_loss = 0.1833\n",
      "S_data_loss = 0.0248\n",
      "V_data_loss = 0.3866\n",
      "X_IC_loss = 0.0229\n",
      "S_IC_loss = 0.0300\n",
      "V_IC_loss = 0.0126\n",
      "error_ode = 3.1159\n"
     ]
    },
    {
     "name": "stderr",
     "output_type": "stream",
     "text": [
      " 96%|█████████▋| 2411/2500 [00:47<00:01, 55.33it/s]"
     ]
    },
    {
     "name": "stdout",
     "output_type": "stream",
     "text": [
      "mu_max: 0.6660, Ks: 0.2689, Yxs: 0.6184\n",
      "X_data_loss = 0.1743\n",
      "S_data_loss = 0.0212\n",
      "V_data_loss = 0.4251\n",
      "X_IC_loss = 0.0192\n",
      "S_IC_loss = 0.0263\n",
      "V_IC_loss = 0.0106\n",
      "error_ode = 3.0658\n"
     ]
    },
    {
     "name": "stderr",
     "output_type": "stream",
     "text": [
      "100%|██████████| 2500/2500 [00:49<00:00, 51.01it/s]\n"
     ]
    },
    {
     "data": {
      "image/png": "[encoded data removed]",
      "text/plain": [
       "<Figure size 1000x500 with 1 Axes>"
      ]
     },
     "metadata": {},
     "output_type": "display_data"
    }
   ],
   "source": [
    "repeat = True\n",
    "while repeat:\n",
    "    try:\n",
    "        net, net_df = main(df)\n",
    "        repeat = False\n",
    "    except ValueError:\n",
    "        pass"
   ]
  },
  {
   "cell_type": "code",
   "execution_count": 91,
   "metadata": {},
   "outputs": [
    {
     "data": {
      "text/html": [
       "<div>\n",
       "<style scoped>\n",
       "    .dataframe tbody tr th:only-of-type {\n",
       "        vertical-align: middle;\n",
       "    }\n",
       "\n",
       "    .dataframe tbody tr th {\n",
       "        vertical-align: top;\n",
       "    }\n",
       "\n",
       "    .dataframe thead th {\n",
       "        text-align: right;\n",
       "    }\n",
       "</style>\n",
       "<table border=\"1\" class=\"dataframe\">\n",
       "  <thead>\n",
       "    <tr style=\"text-align: right;\">\n",
       "      <th></th>\n",
       "      <th>RTime</th>\n",
       "      <th>Biomass</th>\n",
       "      <th>Glucose</th>\n",
       "      <th>V</th>\n",
       "    </tr>\n",
       "  </thead>\n",
       "  <tbody>\n",
       "    <tr>\n",
       "      <th>0</th>\n",
       "      <td>4.116667</td>\n",
       "      <td>6.312082</td>\n",
       "      <td>0.166905</td>\n",
       "      <td>1.385968</td>\n",
       "    </tr>\n",
       "    <tr>\n",
       "      <th>1</th>\n",
       "      <td>5.733333</td>\n",
       "      <td>12.920611</td>\n",
       "      <td>0.149131</td>\n",
       "      <td>1.957966</td>\n",
       "    </tr>\n",
       "    <tr>\n",
       "      <th>2</th>\n",
       "      <td>6.533333</td>\n",
       "      <td>16.190815</td>\n",
       "      <td>0.140335</td>\n",
       "      <td>2.241016</td>\n",
       "    </tr>\n",
       "    <tr>\n",
       "      <th>3</th>\n",
       "      <td>7.400000</td>\n",
       "      <td>19.733530</td>\n",
       "      <td>0.130807</td>\n",
       "      <td>2.547654</td>\n",
       "    </tr>\n",
       "    <tr>\n",
       "      <th>4</th>\n",
       "      <td>8.000000</td>\n",
       "      <td>22.186182</td>\n",
       "      <td>0.124211</td>\n",
       "      <td>2.759942</td>\n",
       "    </tr>\n",
       "  </tbody>\n",
       "</table>\n",
       "</div>"
      ],
      "text/plain": [
       "      RTime    Biomass   Glucose         V\n",
       "0  4.116667   6.312082  0.166905  1.385968\n",
       "1  5.733333  12.920611  0.149131  1.957966\n",
       "2  6.533333  16.190815  0.140335  2.241016\n",
       "3  7.400000  19.733530  0.130807  2.547654\n",
       "4  8.000000  22.186182  0.124211  2.759942"
      ]
     },
     "execution_count": 91,
     "metadata": {},
     "output_type": "execute_result"
    }
   ],
   "source": [
    "net_df"
   ]
  },
  {
   "cell_type": "code",
   "execution_count": 92,
   "metadata": {},
   "outputs": [
    {
     "data": {
      "text/html": [
       "<div>\n",
       "<style scoped>\n",
       "    .dataframe tbody tr th:only-of-type {\n",
       "        vertical-align: middle;\n",
       "    }\n",
       "\n",
       "    .dataframe tbody tr th {\n",
       "        vertical-align: top;\n",
       "    }\n",
       "\n",
       "    .dataframe thead th {\n",
       "        text-align: right;\n",
       "    }\n",
       "</style>\n",
       "<table border=\"1\" class=\"dataframe\">\n",
       "  <thead>\n",
       "    <tr style=\"text-align: right;\">\n",
       "      <th></th>\n",
       "      <th>Process</th>\n",
       "      <th>RTime</th>\n",
       "      <th>Glucose</th>\n",
       "      <th>Biomass</th>\n",
       "      <th>Protein</th>\n",
       "      <th>Temperature</th>\n",
       "      <th>Induction</th>\n",
       "      <th>V</th>\n",
       "    </tr>\n",
       "  </thead>\n",
       "  <tbody>\n",
       "    <tr>\n",
       "      <th>BR02</th>\n",
       "      <td>FB</td>\n",
       "      <td>4.116667</td>\n",
       "      <td>0.011</td>\n",
       "      <td>6.175000</td>\n",
       "      <td>0.0</td>\n",
       "      <td>37</td>\n",
       "      <td>0</td>\n",
       "      <td>1.483981</td>\n",
       "    </tr>\n",
       "    <tr>\n",
       "      <th>BR02</th>\n",
       "      <td>FB</td>\n",
       "      <td>5.733333</td>\n",
       "      <td>0.000</td>\n",
       "      <td>12.871429</td>\n",
       "      <td>0.0</td>\n",
       "      <td>37</td>\n",
       "      <td>0</td>\n",
       "      <td>1.559670</td>\n",
       "    </tr>\n",
       "    <tr>\n",
       "      <th>BR02</th>\n",
       "      <td>FB</td>\n",
       "      <td>6.533333</td>\n",
       "      <td>0.000</td>\n",
       "      <td>16.071429</td>\n",
       "      <td>0.0</td>\n",
       "      <td>37</td>\n",
       "      <td>0</td>\n",
       "      <td>1.622434</td>\n",
       "    </tr>\n",
       "    <tr>\n",
       "      <th>BR02</th>\n",
       "      <td>FB</td>\n",
       "      <td>7.400000</td>\n",
       "      <td>0.010</td>\n",
       "      <td>19.550000</td>\n",
       "      <td>0.0</td>\n",
       "      <td>37</td>\n",
       "      <td>0</td>\n",
       "      <td>1.713444</td>\n",
       "    </tr>\n",
       "    <tr>\n",
       "      <th>BR02</th>\n",
       "      <td>FB</td>\n",
       "      <td>8.000000</td>\n",
       "      <td>0.000</td>\n",
       "      <td>23.071429</td>\n",
       "      <td>0.0</td>\n",
       "      <td>37</td>\n",
       "      <td>0</td>\n",
       "      <td>1.779788</td>\n",
       "    </tr>\n",
       "  </tbody>\n",
       "</table>\n",
       "</div>"
      ],
      "text/plain": [
       "     Process     RTime  Glucose    Biomass  Protein  Temperature  Induction  \\\n",
       "BR02      FB  4.116667    0.011   6.175000      0.0           37          0   \n",
       "BR02      FB  5.733333    0.000  12.871429      0.0           37          0   \n",
       "BR02      FB  6.533333    0.000  16.071429      0.0           37          0   \n",
       "BR02      FB  7.400000    0.010  19.550000      0.0           37          0   \n",
       "BR02      FB  8.000000    0.000  23.071429      0.0           37          0   \n",
       "\n",
       "             V  \n",
       "BR02  1.483981  \n",
       "BR02  1.559670  \n",
       "BR02  1.622434  \n",
       "BR02  1.713444  \n",
       "BR02  1.779788  "
      ]
     },
     "execution_count": 92,
     "metadata": {},
     "output_type": "execute_result"
    }
   ],
   "source": [
    "df"
   ]
  }
 ],
 "metadata": {
  "kernelspec": {
   "display_name": "main",
   "language": "python",
   "name": "python3"
  },
  "language_info": {
   "codemirror_mode": {
    "name": "ipython",
    "version": 3
   },
   "file_extension": ".py",
   "mimetype": "text/x-python",
   "name": "python",
   "nbconvert_exporter": "python",
   "pygments_lexer": "ipython3",
   "version": "3.10.12"
  }
 },
 "nbformat": 4,
 "nbformat_minor": 2
}
