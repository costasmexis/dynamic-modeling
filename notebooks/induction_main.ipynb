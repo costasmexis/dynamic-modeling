{
 "cells": [
  {
   "cell_type": "code",
   "execution_count": 1,
   "metadata": {},
   "outputs": [],
   "source": [
    "import sys\n",
    "sys.path.append('../')\n",
    "\n",
    "import matplotlib.pyplot as plt\n",
    "import numpy as np\n",
    "import pandas as pd\n",
    "\n",
    "from src.induction_pinn import PINN, numpy_to_tensor, train, init_weights\n",
    "from src.utils import get_data_and_feed\n",
    "from typing import Optional, Union\n",
    "from scipy.integrate import solve_ivp\n",
    "\n",
    "import torch\n",
    "import torch.nn as nn\n",
    "from tqdm import tqdm \n",
    "\n",
    "pd.options.mode.chained_assignment = None\n",
    "\n",
    "np.set_printoptions(precision=4)\n",
    "\n",
    "%load_ext autoreload\n",
    "%autoreload 2"
   ]
  },
  {
   "cell_type": "code",
   "execution_count": 2,
   "metadata": {},
   "outputs": [],
   "source": [
    "def plot_feed(feeds):\n",
    "    fig, ax = plt.subplots(figsize=(10, 5))\n",
    "    ax.bar(feeds['Time'], feeds['F'], width=feeds['Duration'], align='edge')\n",
    "    ax.set_xlabel('Time (h)')\n",
    "    ax.set_ylabel('Feed (mL/h)')\n",
    "    ax.set_title('Feed vs Time')\n",
    "    plt.show()\n",
    "    \n",
    "def plot_simulation(t=None, y=None, feeds: Optional[pd.DataFrame] = None, full_df: Optional[pd.DataFrame] = None, train_df: Optional[pd.DataFrame] = None, net_df: Optional[pd.DataFrame] = None, title: Optional[str] = None):\n",
    "    \n",
    "    fig, (ax1, ax2) = plt.subplots(2, 1, figsize=(10, 10))\n",
    "    \n",
    "    if t is not None and y is not None:\n",
    "        ax1.plot(t, y[0], label='Biomass (ODE)', alpha=0.6)\n",
    "        ax1.plot(t, y[1], label='Glucose (ODE)', alpha=0.6)\n",
    "        ax2.plot(t, y[3], label='Protein (ODE)', alpha=0.6)\n",
    "    \n",
    "    if full_df is not None:\n",
    "        ax1.scatter(full_df['RTime'], full_df['Glucose'], label='Glucose (EXP)', color='red', alpha=0.2)   \n",
    "        ax1.scatter(full_df['RTime'], full_df['Biomass'], label='Biomass (EXP)', color='green', alpha=0.2)\n",
    "        ax2.scatter(full_df['RTime'], full_df['Protein'], label='Protein (EXP)', color='blue', alpha=0.2)\n",
    "        \n",
    "    if train_df is not None:\n",
    "        ax1.scatter(train_df['RTime'], train_df['Glucose'], label='Glucose (Train)', color='red', alpha=1)   \n",
    "        ax1.scatter(train_df['RTime'], train_df['Biomass'], label='Biomass (Train)', color='green', alpha=1)\n",
    "        ax2.scatter(train_df['RTime'], train_df['Protein'], label='Protein (Train)', color='blue', alpha=1)\n",
    "        \n",
    "    if net_df is not None:\n",
    "        ax1.scatter(net_df['RTime'], net_df['Glucose'], label='Glucose (Predicted)', marker='x', color='red', alpha=0.5)\n",
    "        ax1.scatter(net_df['RTime'], net_df['Biomass'], label='Biomass (Predicted)', marker='x', color='green', alpha=0.5)\n",
    "        ax2.scatter(net_df['RTime'], net_df['Protein'], label='Protein (Predicted)', marker='x', color='blue', alpha=0.5)\n",
    "        \n",
    "    ax1.legend()\n",
    "    ax2.legend()\n",
    "    \n",
    "    plt.xlabel(\"Time (hours)\")\n",
    "    plt.ylabel(\"Concentration\")\n",
    "    plt.title(title)\n",
    "    plt.show()\n",
    " \n",
    "def get_feed(feeds: pd.DataFrame, time: float) -> float:\n",
    "    for _, row in feeds.iterrows():\n",
    "        start_time = row[\"Time\"]\n",
    "        end_time = row[\"Time\"] + row[\"Duration\"]\n",
    "        if start_time <= time < end_time:\n",
    "            return row[\"F\"] / 1000\n",
    "    return 0\n",
    "\n",
    "def simulate(net: nn.Module, scf: int, df: pd.DataFrame, feeds: pd.DataFrame, plot: bool = True):\n",
    "    mu_max = net.mu_max.item()\n",
    "    Ks = net.K_s.item()\n",
    "    Yxs = net.Y_xs.item()\n",
    "    c1 = net.c1.item()\n",
    "    c2 = net.c2.item()\n",
    "    c3 = net.c3.item()\n",
    "    c4 = net.c4.item()\n",
    "    \n",
    "    Sin = 1.43 * 200\n",
    "    \n",
    "    def alpha(t):\n",
    "        if scf == 1:\n",
    "            return c1\n",
    "        elif scf == 2:\n",
    "            return c1 * (1 - np.exp(-c2 * t**2 + c3*t))\n",
    "        elif scf == 3:\n",
    "            return c1 * (1 - np.exp(-c2*t**2)) + c3 * (1 - np.exp(-c4*t**2)) \n",
    "        \n",
    "    def system_ode(t, y):\n",
    "        X, S, V, P = y\n",
    "        mu = mu_max * S / (Ks + S)\n",
    "        F = get_feed(feeds, t)\n",
    "        dXdt = mu * X + F * X / V\n",
    "        dSdt = - mu * X / Yxs + F * (Sin - S) / V\n",
    "        dVdt = F\n",
    "        dPdt = alpha(t) * mu * X - F * P / V\n",
    "        return [dXdt, dSdt, dVdt, dPdt]\n",
    "    \n",
    "    t_start, t_end = df['RTime'].min(), df['RTime'].max()\n",
    "    t_span = (t_start, t_end)\n",
    "    y0 = [df['Biomass'].iloc[0], df['Glucose'].iloc[0], df['V'].iloc[0], df['Protein'].iloc[0]]\n",
    "\n",
    "    t_eval = np.linspace(t_start, t_end, 10000)\n",
    "    sol = solve_ivp(system_ode, t_span=t_span, \\\n",
    "        y0=y0, t_eval=t_eval)\n",
    "    \n",
    "    if plot:\n",
    "        plot_simulation(sol.t, sol.y, feeds=feeds, full_df=df)\n",
    "\n",
    "    for i in range(sol.y.shape[0]):\n",
    "        sol.y[i][sol.y[i] < 0] = 0\n",
    "\n",
    "    return sol\n",
    "\n",
    "def get_predictions_df(net: nn.Module, df: pd.DataFrame):\n",
    "    net_df = pd.DataFrame()\n",
    "    t_test = df['RTime'].values\n",
    "    t_test = numpy_to_tensor(t_test)\n",
    "    net_df[\"RTime\"] = df[\"RTime\"].values\n",
    "    net_df[\"Biomass\"] = net.forward(t_test).detach().cpu().numpy()[:, 0]\n",
    "    net_df[\"Glucose\"] = net.forward(t_test).detach().cpu().numpy()[:, 1]\n",
    "    net_df[\"V\"] = net.forward(t_test).detach().cpu().numpy()[:, 2]\n",
    "    net_df[\"Protein\"] = net.forward(t_test).detach().cpu().numpy()[:, 3]\n",
    "    net_df.loc[net_df['Glucose'] < 0, 'Glucose'] = 0\n",
    "    return net_df"
   ]
  },
  {
   "cell_type": "code",
   "execution_count": 3,
   "metadata": {},
   "outputs": [
    {
     "name": "stdout",
     "output_type": "stream",
     "text": [
      "Dataset shape: (8, 8)\n"
     ]
    }
   ],
   "source": [
    "FILENAME = '../data/data_processed.xlsx'\n",
    "EXPERIMENT = 'BR02'\n",
    "\n",
    "df, feeds = get_data_and_feed(FILENAME, EXPERIMENT)\n",
    "\n",
    "# Get FB and FBI data\n",
    "df = df[df['Process'] == 'FBI']\n",
    "feeds = feeds[feeds['Induction']==1]\n",
    "\n",
    "print(f'Dataset shape: {df.shape}')"
   ]
  },
  {
   "cell_type": "code",
   "execution_count": 4,
   "metadata": {},
   "outputs": [],
   "source": [
    "def main(df: pd.DataFrame, scf: int, epochs: int = 1000, plot: bool = True):\n",
    "    t_start, t_end = df['RTime'].min(), df['RTime'].max()\n",
    "\n",
    "    t_train = numpy_to_tensor(df['RTime'].values)\n",
    "    Biomass_train = numpy_to_tensor(df['Biomass'].values)\n",
    "    Glucose_train = numpy_to_tensor(df['Glucose'].values)\n",
    "    V_train = numpy_to_tensor(df['V'].values)\n",
    "    Protein_train = numpy_to_tensor(df['Protein'].values)\n",
    "    u_train = torch.cat((Biomass_train, Glucose_train, V_train, Protein_train), 1)\n",
    "\n",
    "    net = PINN(input_dim=1, output_dim=4, t_start=t_start, t_end=t_end)\n",
    "    net.apply(init_weights)\n",
    "    \n",
    "    net = train(net, scf, t_train, u_train, df, feeds, num_epochs=epochs, verbose=999)\n",
    "    \n",
    "    net_df = get_predictions_df(net, df)    \n",
    "\n",
    "    sol = simulate(net, scf, df, feeds, plot=False)\n",
    "\n",
    "    title = f\"mu_max: {net.mu_max.item():4f}, Ks: {net.K_s.item():4f}, Yxs: {net.Y_xs.item():.4f}\"\n",
    "    \n",
    "    if plot:\n",
    "        plot_simulation(t=sol.t, y=sol.y, net_df=net_df, train_df=df, full_df=df, title=title)\n",
    "    \n",
    "    return net, net_df, sol"
   ]
  },
  {
   "cell_type": "code",
   "execution_count": 5,
   "metadata": {},
   "outputs": [
    {
     "name": "stdout",
     "output_type": "stream",
     "text": [
      "Model A\n"
     ]
    },
    {
     "name": "stderr",
     "output_type": "stream",
     "text": [
      "  0%|          | 0/2000 [00:00<?, ?it/s]\n"
     ]
    },
    {
     "name": "stdout",
     "output_type": "stream",
     "text": [
      "Model A\n"
     ]
    },
    {
     "name": "stderr",
     "output_type": "stream",
     "text": [
      "  0%|          | 0/2000 [00:00<?, ?it/s]\n"
     ]
    },
    {
     "name": "stdout",
     "output_type": "stream",
     "text": [
      "Model A\n"
     ]
    },
    {
     "name": "stderr",
     "output_type": "stream",
     "text": [
      "  0%|          | 0/2000 [00:00<?, ?it/s]\n"
     ]
    },
    {
     "name": "stdout",
     "output_type": "stream",
     "text": [
      "Model A\n"
     ]
    },
    {
     "name": "stderr",
     "output_type": "stream",
     "text": [
      "  0%|          | 0/2000 [00:00<?, ?it/s]\n"
     ]
    },
    {
     "name": "stdout",
     "output_type": "stream",
     "text": [
      "Model A\n"
     ]
    },
    {
     "name": "stderr",
     "output_type": "stream",
     "text": [
      "  0%|          | 0/2000 [00:00<?, ?it/s]\n"
     ]
    },
    {
     "name": "stdout",
     "output_type": "stream",
     "text": [
      "Model A\n"
     ]
    },
    {
     "name": "stderr",
     "output_type": "stream",
     "text": [
      "  0%|          | 0/2000 [00:00<?, ?it/s]\n"
     ]
    },
    {
     "name": "stdout",
     "output_type": "stream",
     "text": [
      "Model A\n"
     ]
    },
    {
     "name": "stderr",
     "output_type": "stream",
     "text": [
      "  0%|          | 0/2000 [00:00<?, ?it/s]\n"
     ]
    },
    {
     "name": "stdout",
     "output_type": "stream",
     "text": [
      "Model A\n"
     ]
    },
    {
     "name": "stderr",
     "output_type": "stream",
     "text": [
      "  0%|          | 0/2000 [00:00<?, ?it/s]\n"
     ]
    },
    {
     "name": "stdout",
     "output_type": "stream",
     "text": [
      "Model A\n"
     ]
    },
    {
     "name": "stderr",
     "output_type": "stream",
     "text": [
      "  0%|          | 0/2000 [00:00<?, ?it/s]\n"
     ]
    },
    {
     "name": "stdout",
     "output_type": "stream",
     "text": [
      "Model A\n"
     ]
    },
    {
     "name": "stderr",
     "output_type": "stream",
     "text": [
      "  0%|          | 0/2000 [00:00<?, ?it/s]\n"
     ]
    },
    {
     "name": "stdout",
     "output_type": "stream",
     "text": [
      "Model A\n"
     ]
    },
    {
     "name": "stderr",
     "output_type": "stream",
     "text": [
      "  0%|          | 0/2000 [00:00<?, ?it/s]\n"
     ]
    },
    {
     "name": "stdout",
     "output_type": "stream",
     "text": [
      "Model A\n"
     ]
    },
    {
     "name": "stderr",
     "output_type": "stream",
     "text": [
      "  0%|          | 0/2000 [00:00<?, ?it/s]"
     ]
    },
    {
     "name": "stdout",
     "output_type": "stream",
     "text": [
      "mu_max: 0.5005, Ks: 0.4995, Yxs: 0.4995, c1: 0.1005, c2: 0.1000\n",
      "X_data_loss = 694.59\n",
      "S_data_loss = 0.00\n",
      "V_data_loss = 1.61\n",
      "P_data_loss = 1.05\n",
      "X_IC_loss = 569.08\n",
      "S_IC_loss = 0.00\n",
      "V_IC_loss = 2.34\n",
      "P_IC_loss = 0.00\n",
      "error_ode = 86.00\n"
     ]
    },
    {
     "name": "stderr",
     "output_type": "stream",
     "text": [
      " 50%|█████     | 1003/2000 [00:42<00:42, 23.31it/s]"
     ]
    },
    {
     "name": "stdout",
     "output_type": "stream",
     "text": [
      "mu_max: 0.4891, Ks: 0.5103, Yxs: 0.5102, c1: 0.0849, c2: 0.1000\n",
      "X_data_loss = 34.25\n",
      "S_data_loss = 0.00\n",
      "V_data_loss = 0.28\n",
      "P_data_loss = 0.22\n",
      "X_IC_loss = 38.95\n",
      "S_IC_loss = 0.00\n",
      "V_IC_loss = 0.39\n",
      "P_IC_loss = 0.23\n",
      "error_ode = 0.84\n"
     ]
    },
    {
     "name": "stderr",
     "output_type": "stream",
     "text": [
      "100%|██████████| 2000/2000 [01:20<00:00, 24.87it/s]\n"
     ]
    },
    {
     "name": "stdout",
     "output_type": "stream",
     "text": [
      "Model B\n"
     ]
    },
    {
     "name": "stderr",
     "output_type": "stream",
     "text": [
      "  0%|          | 3/2000 [00:00<01:32, 21.67it/s]"
     ]
    },
    {
     "name": "stdout",
     "output_type": "stream",
     "text": [
      "mu_max: 0.5005, Ks: 0.4995, Yxs: 0.4995, c1: 0.1005, c2: 0.1005\n",
      "X_data_loss = 689.94\n",
      "S_data_loss = 0.36\n",
      "V_data_loss = 2.21\n",
      "P_data_loss = 0.52\n",
      "X_IC_loss = 566.57\n",
      "S_IC_loss = 0.13\n",
      "V_IC_loss = 2.77\n",
      "P_IC_loss = 0.04\n",
      "error_ode = 667.39\n"
     ]
    },
    {
     "name": "stderr",
     "output_type": "stream",
     "text": [
      " 50%|█████     | 1003/2000 [00:36<00:32, 30.87it/s]"
     ]
    },
    {
     "name": "stdout",
     "output_type": "stream",
     "text": [
      "mu_max: 0.4522, Ks: 0.5543, Yxs: 0.5493, c1: 0.0710, c2: 0.0703\n",
      "X_data_loss = 5.56\n",
      "S_data_loss = 0.01\n",
      "V_data_loss = 0.15\n",
      "P_data_loss = 0.17\n",
      "X_IC_loss = 5.25\n",
      "S_IC_loss = 0.01\n",
      "V_IC_loss = 0.14\n",
      "P_IC_loss = 0.09\n",
      "error_ode = 2.67\n"
     ]
    },
    {
     "name": "stderr",
     "output_type": "stream",
     "text": [
      "100%|██████████| 2000/2000 [01:13<00:00, 27.08it/s]\n"
     ]
    },
    {
     "name": "stdout",
     "output_type": "stream",
     "text": [
      "Model C\n"
     ]
    },
    {
     "name": "stderr",
     "output_type": "stream",
     "text": [
      "  0%|          | 2/2000 [00:00<02:16, 14.63it/s]"
     ]
    },
    {
     "name": "stdout",
     "output_type": "stream",
     "text": [
      "mu_max: 0.5005, Ks: 0.4995, Yxs: 0.4995, c1: 0.0995, c2: 0.0995\n",
      "X_data_loss = 676.41\n",
      "S_data_loss = 0.29\n",
      "V_data_loss = 0.25\n",
      "P_data_loss = 1.36\n",
      "X_IC_loss = 559.25\n",
      "S_IC_loss = 0.10\n",
      "V_IC_loss = 0.52\n",
      "P_IC_loss = 0.01\n",
      "error_ode = 2.72\n"
     ]
    },
    {
     "name": "stderr",
     "output_type": "stream",
     "text": [
      " 50%|█████     | 1003/2000 [00:37<00:43, 22.96it/s]"
     ]
    },
    {
     "name": "stdout",
     "output_type": "stream",
     "text": [
      "mu_max: 0.4925, Ks: 0.5074, Yxs: 0.5072, c1: 0.0900, c2: 0.0025\n",
      "X_data_loss = 34.55\n",
      "S_data_loss = 0.00\n",
      "V_data_loss = 0.24\n",
      "P_data_loss = 0.22\n",
      "X_IC_loss = 39.91\n",
      "S_IC_loss = 0.00\n",
      "V_IC_loss = 0.41\n",
      "P_IC_loss = 0.21\n",
      "error_ode = 0.87\n"
     ]
    },
    {
     "name": "stderr",
     "output_type": "stream",
     "text": [
      "100%|██████████| 2000/2000 [01:14<00:00, 26.88it/s]\n"
     ]
    }
   ],
   "source": [
    "repeat = True\n",
    "while repeat:\n",
    "    try:\n",
    "        print('Model A')\n",
    "        net_A, net_df_A, sol_A = main(df, scf=1, epochs=2000, plot=False)\n",
    "        repeat = False\n",
    "    except ValueError:\n",
    "        pass\n",
    "    \n",
    "repeat = True\n",
    "while repeat:\n",
    "    try:\n",
    "        print('Model B')\n",
    "        net_B, net_df_B, sol_B = main(df, scf=2, epochs=2000, plot=False)\n",
    "        repeat = False\n",
    "    except ValueError:\n",
    "        pass\n",
    "    \n",
    "repeat = True\n",
    "while repeat:\n",
    "    try:\n",
    "        print('Model C')\n",
    "        net_C, net_df_C, sol_C = main(df, scf=3, epochs=2000, plot=False)\n",
    "        repeat = False\n",
    "    except ValueError:\n",
    "        pass"
   ]
  },
  {
   "cell_type": "code",
   "execution_count": 12,
   "metadata": {},
   "outputs": [
    {
     "data": {
      "image/png": "[encoded data removed]",
      "text/plain": [
       "<Figure size 2500x1200 with 2 Axes>"
      ]
     },
     "metadata": {},
     "output_type": "display_data"
    }
   ],
   "source": [
    "def plot_model_intelligence(sol_A: Union[solve_ivp, None] = None, \n",
    "                            sol_B: Union[solve_ivp, None] = None, \n",
    "                            sol_C: Union[solve_ivp, None] = None,\n",
    "                            net_df_A: Union[pd.DataFrame, None] = None, \n",
    "                            net_df_B: Union[pd.DataFrame, None] = None, \n",
    "                            net_df_C: Union[pd.DataFrame, None] = None,\n",
    "                            full_df: Union[pd.DataFrame, None] = None, \n",
    "                            train_df: Union[pd.DataFrame, None] = None): \n",
    "    \n",
    "    fig, (ax1, ax2) = plt.subplots(2, 1, figsize=(25, 12))\n",
    "    \n",
    "    # Plot for Model A\n",
    "    # ax1.plot(sol_A.t, sol_A.y[0], label='Biomass (ODE) A', color='red', alpha=0.6)\n",
    "    # ax1.plot(sol_A.t, sol_A.y[1], label='Glucose (ODE) A', color='red', linestyle='--', alpha=0.6)\n",
    "    # ax2.plot(sol_A.t, sol_A.y[3], label='Protein (ODE) A', color='red', alpha=0.6)\n",
    "    ax1.scatter(net_df_A['RTime'], net_df_A['Glucose'], label='Glucose (Predicted) A', marker='x', color='red', alpha=0.5)\n",
    "    ax1.scatter(net_df_A['RTime'], net_df_A['Biomass'], label='Biomass (Predicted) A', marker='^', color='red', alpha=0.5)\n",
    "    ax2.scatter(net_df_A['RTime'], net_df_A['Protein'], label='Protein (Predicted) A', marker='s', color='red', alpha=0.5)\n",
    "    \n",
    "    # Plot for Model B\n",
    "    # ax1.plot(sol_B.t, sol_B.y[0], label='Biomass (ODE) B', color='green', alpha=0.6)\n",
    "    # ax1.plot(sol_B.t, sol_B.y[1], label='Glucose (ODE) B', color='green', linestyle='--', alpha=0.6)\n",
    "    # ax2.plot(sol_B.t, sol_B.y[3], label='Protein (ODE) B', color='green', alpha=0.6)\n",
    "    ax1.scatter(net_df_B['RTime'], net_df_B['Glucose'], label='Glucose (Predicted) B', marker='x', color='green', alpha=0.5)\n",
    "    ax1.scatter(net_df_B['RTime'], net_df_B['Biomass'], label='Biomass (Predicted) B', marker='^', color='green', alpha=0.5)\n",
    "    ax2.scatter(net_df_B['RTime'], net_df_B['Protein'], label='Protein (Predicted) B', marker='s', color='green', alpha=0.5)\n",
    "    \n",
    "    # Plot for Model C\n",
    "    # ax1.plot(sol_C.t, sol_C.y[0], label='Biomass (ODE) C', color='blue', alpha=0.6)\n",
    "    # ax1.plot(sol_C.t, sol_C.y[1], label='Glucose (ODE) C', color='blue', linestyle='--', alpha=0.6)\n",
    "    # ax2.plot(sol_C.t, sol_C.y[3], label='Protein (ODE) C', color='blue', alpha=0.6)\n",
    "    ax1.scatter(net_df_C['RTime'], net_df_C['Glucose'], label='Glucose (Predicted) C', marker='x', color='blue', alpha=0.5)\n",
    "    ax1.scatter(net_df_C['RTime'], net_df_C['Biomass'], label='Biomass (Predicted) C', marker='^', color='blue', alpha=0.5)\n",
    "    ax2.scatter(net_df_C['RTime'], net_df_C['Protein'], label='Protein (Predicted) C', marker='s', color='blue', alpha=0.5)\n",
    "\n",
    "    # Experimental Data\n",
    "    ax1.scatter(full_df['RTime'], full_df['Glucose'], label='Glucose (EXP)', color='purple', alpha=0.2)\n",
    "    ax1.scatter(full_df['RTime'], full_df['Biomass'], label='Biomass (EXP)', color='brown', alpha=0.2)\n",
    "    ax2.scatter(full_df['RTime'], full_df['Protein'], label='Protein (EXP)', color='black', alpha=0.2)\n",
    "    \n",
    "    ax1.scatter(train_df['RTime'], train_df['Glucose'], label='Glucose (EXP) Train', color='purple', alpha=1)\n",
    "    ax1.scatter(train_df['RTime'], train_df['Biomass'], label='Biomass (EXP) Train', color='brown', alpha=1)\n",
    "    ax2.scatter(train_df['RTime'], train_df['Protein'], label='Protein (EXP) Train', color='black', alpha=1)\n",
    "   \n",
    "    ax1.legend(fontsize=8, markerscale=0.5)\n",
    "    ax2.legend(fontsize=8, markerscale=0.5)\n",
    "    ax1.title.set_text('Model Intelligence') \n",
    "    ax1.set_xlabel(\"Time (hours)\")\n",
    "    ax1.set_ylabel(\"Concentration\")\n",
    "    ax2.set_xlabel(\"Time (hours)\")\n",
    "    ax2.set_ylabel(\"Concentration\")\n",
    "    plt.show()\n",
    "\n",
    "plot_model_intelligence(sol_A=sol_A, sol_B=sol_B, sol_C=sol_C,\n",
    "                        net_df_A=net_df_A, net_df_B=net_df_B, net_df_C=net_df_C,\n",
    "                        full_df=df, train_df=df)"
   ]
  },
  {
   "cell_type": "code",
   "execution_count": null,
   "metadata": {},
   "outputs": [],
   "source": []
  },
  {
   "cell_type": "code",
   "execution_count": null,
   "metadata": {},
   "outputs": [],
   "source": []
  },
  {
   "cell_type": "code",
   "execution_count": null,
   "metadata": {},
   "outputs": [],
   "source": []
  },
  {
   "cell_type": "code",
   "execution_count": 7,
   "metadata": {},
   "outputs": [
    {
     "ename": "NameError",
     "evalue": "name 'net_df' is not defined",
     "output_type": "error",
     "traceback": [
      "\u001b[0;31m---------------------------------------------------------------------------\u001b[0m",
      "\u001b[0;31mNameError\u001b[0m                                 Traceback (most recent call last)",
      "Cell \u001b[0;32mIn[7], line 1\u001b[0m\n\u001b[0;32m----> 1\u001b[0m \u001b[43mnet_df\u001b[49m\n",
      "\u001b[0;31mNameError\u001b[0m: name 'net_df' is not defined"
     ]
    }
   ],
   "source": [
    "net_df"
   ]
  },
  {
   "cell_type": "code",
   "execution_count": null,
   "metadata": {},
   "outputs": [],
   "source": [
    "df.drop(columns=['Process', 'Temperature', 'Induction']).reset_index(drop=True)"
   ]
  }
 ],
 "metadata": {
  "kernelspec": {
   "display_name": "main",
   "language": "python",
   "name": "python3"
  },
  "language_info": {
   "codemirror_mode": {
    "name": "ipython",
    "version": 3
   },
   "file_extension": ".py",
   "mimetype": "text/x-python",
   "name": "python",
   "nbconvert_exporter": "python",
   "pygments_lexer": "ipython3",
   "version": "3.10.12"
  }
 },
 "nbformat": 4,
 "nbformat_minor": 2
}
