{
 "cells": [
  {
   "cell_type": "code",
   "execution_count": 157,
   "metadata": {},
   "outputs": [
    {
     "name": "stdout",
     "output_type": "stream",
     "text": [
      "The autoreload extension is already loaded. To reload it, use:\n",
      "  %reload_ext autoreload\n"
     ]
    }
   ],
   "source": [
    "import sys\n",
    "sys.path.append('../')\n",
    "\n",
    "import matplotlib.pyplot as plt\n",
    "import numpy as np\n",
    "import pandas as pd\n",
    "\n",
    "from src.induction_pinn import PINN, numpy_to_tensor, train\n",
    "from src.utils import get_data_and_feed\n",
    "from typing import Optional, Union\n",
    "from scipy.integrate import solve_ivp\n",
    "\n",
    "import torch\n",
    "import torch.nn as nn\n",
    "from tqdm import tqdm \n",
    "\n",
    "pd.options.mode.chained_assignment = None\n",
    "\n",
    "np.set_printoptions(precision=4)\n",
    "\n",
    "%load_ext autoreload\n",
    "%autoreload 2"
   ]
  },
  {
   "cell_type": "code",
   "execution_count": 158,
   "metadata": {},
   "outputs": [],
   "source": [
    "def plot_feed(feeds):\n",
    "    fig, ax = plt.subplots(figsize=(10, 5))\n",
    "    ax.bar(feeds['Time'], feeds['F'], width=feeds['Duration'], align='edge')\n",
    "    ax.set_xlabel('Time (h)')\n",
    "    ax.set_ylabel('Feed (mL/h)')\n",
    "    ax.set_title('Feed vs Time')\n",
    "    plt.show()\n",
    "    \n",
    "def plot_simulation(t: Optional[list] = None, y: Optional[list] = None, full_df: Optional[pd.DataFrame] = None, train_df: Optional[pd.DataFrame] = None, net_df: Optional[pd.DataFrame] = None, title: Optional[str] = None):\n",
    "    fig, (ax1, ax2, ax3) = plt.subplots(3, 1, figsize=(10, 10))\n",
    "    \n",
    "    if t is not None and y is not None:\n",
    "        ax1.plot(t, y[0], label='Biomass (ODE)', alpha=0.6)\n",
    "        ax1.plot(t, y[1], label='Glucose (ODE)', alpha=0.6)\n",
    "        ax2.plot(t, y[2], label='Protein (ODE)', alpha=0.6)\n",
    "        ax3.plot(t, y[3], label='Volume (ODE)', alpha=0.6)\n",
    "    \n",
    "    if full_df is not None:\n",
    "        ax1.scatter(full_df['RTime'], full_df['Glucose'], label='Glucose (EXP)', color='red', alpha=0.2)   \n",
    "        ax1.scatter(full_df['RTime'], full_df['Biomass'], label='Biomass (EXP)', color='green', alpha=0.2)\n",
    "        ax2.scatter(full_df['RTime'], full_df['Protein'], label='Protein (EXP)', color='blue', alpha=0.2)\n",
    "        ax3.scatter(full_df['RTime'], full_df['V'], label='Volume (EXP)', color='purple', alpha=0.2)\n",
    "    \n",
    "    if train_df is not None:\n",
    "        ax1.scatter(train_df['RTime'], train_df['Glucose'], label='Glucose (Train)', color='red', alpha=1)   \n",
    "        ax1.scatter(train_df['RTime'], train_df['Biomass'], label='Biomass (Train)', color='green', alpha=1)\n",
    "        ax2.scatter(train_df['RTime'], train_df['Protein'], label='Protein (Train)', color='blue', alpha=1)\n",
    "        ax3.scatter(train_df['RTime'], train_df['V'], label='Volume (Train)', color='purple', alpha=1)\n",
    "    \n",
    "    if net_df is not None:\n",
    "        ax1.scatter(net_df['RTime'], net_df['Glucose'], label='Glucose (Predicted)', marker='x', color='red', alpha=0.5)\n",
    "        ax1.scatter(net_df['RTime'], net_df['Biomass'], label='Biomass (Predicted)', marker='x', color='green', alpha=0.5)\n",
    "        ax2.scatter(net_df['RTime'], net_df['Protein'], label='Protein (Predicted)', marker='x', color='blue', alpha=0.5)\n",
    "        ax3.scatter(net_df['RTime'], net_df['V'], label='Volume (Predicted)', marker='x', color='purple', alpha=0.5)\n",
    "\n",
    "    ax1.set_xlabel(\"Time (hours)\")\n",
    "    ax1.set_ylabel(\"Concentration\")\n",
    "    ax1.legend()\n",
    "    \n",
    "    ax2.set_xlabel(\"Time (hours)\")\n",
    "    ax2.set_ylabel(\"Concentration\")\n",
    "    ax2.legend()\n",
    "\n",
    "    ax3.set_xlabel(\"Time (hours)\")\n",
    "    ax3.set_ylabel(\"Volume\")\n",
    "    ax3.legend()\n",
    "        \n",
    "    plt.show()\n",
    " \n",
    "def get_feed(feeds: pd.DataFrame, time: float) -> float:\n",
    "    for _, row in feeds.iterrows():\n",
    "        start_time = row[\"Time\"]\n",
    "        end_time = row[\"Time\"] + row[\"Duration\"]\n",
    "        if start_time <= time < end_time:\n",
    "            return row[\"F\"] / 1000\n",
    "    return 0\n",
    "\n",
    "def simulate(df: pd.DataFrame, feeds: pd.DataFrame, \\\n",
    "             mu_max, Ks, Yxs, c1, c2, plot: bool = True):\n",
    "    \n",
    "    mu_max = mu_max\n",
    "    Ks = Ks\n",
    "    Yxs = Yxs\n",
    "    Sin = 1.43 * 200\n",
    "\n",
    "    def alpha(t):\n",
    "        return c1 * (1 - np.exp(-c2 * t**2))\n",
    "\n",
    "    def system_ode(t, y):\n",
    "        X, S, P, V = y\n",
    "        mu = mu_max * S / (Ks + S)\n",
    "        F = get_feed(feeds, t)\n",
    "        dXdt = mu * X + F * X / V\n",
    "        dSdt = - mu * X / Yxs + F * (Sin - S) / V\n",
    "        dPdt = alpha(t) * X - P * F / V\n",
    "        dVdt = F\n",
    "        return [dXdt, dSdt, dPdt, dVdt]\n",
    "    \n",
    "    t_start, t_end = df['RTime'].min(), df['RTime'].max()\n",
    "    t_span = (t_start, t_end)\n",
    "    y0 = [df['Biomass'].iloc[0], df['Glucose'].iloc[0], \\\n",
    "          df['Protein'].iloc[0], df['V'].iloc[0]]\n",
    "\n",
    "    t_eval = np.linspace(t_start, t_end, 10000)\n",
    "    sol = solve_ivp(system_ode, t_span=t_span, \\\n",
    "        y0=y0, t_eval=t_eval)\n",
    "    \n",
    "    if plot:\n",
    "        plot_simulation(sol.t, sol.y, full_df=df)\n",
    "\n",
    "    for i in range(sol.y.shape[0]):\n",
    "        sol.y[i][sol.y[i] < 0] = 0\n",
    "\n",
    "    return sol\n",
    "\n",
    "def get_predictions_df(net: nn.Module, df: pd.DataFrame):\n",
    "    net_df = pd.DataFrame(columns=['RTime', 'Biomass', 'Glucose'])\n",
    "    t_test = df['RTime'].values\n",
    "    t_test = numpy_to_tensor(t_test)\n",
    "    net_df[\"RTime\"] = df[\"RTime\"].values\n",
    "    net_df[\"Biomass\"] = net.forward(t_test).detach().cpu().numpy()[:, 0]\n",
    "    net_df[\"Glucose\"] = net.forward(t_test).detach().cpu().numpy()[:, 1]\n",
    "    net_df[\"V\"] = net.forward(t_test).detach().cpu().numpy()[:, 2]\n",
    "    net_df[\"Protein\"] = net.forward(t_test).detach().cpu().numpy()[:, 3]\n",
    "    net_df.loc[net_df['Glucose'] < 0, 'Glucose'] = 0\n",
    "    return net_df"
   ]
  },
  {
   "cell_type": "code",
   "execution_count": 159,
   "metadata": {},
   "outputs": [
    {
     "name": "stdout",
     "output_type": "stream",
     "text": [
      "Dataset shape: (6, 8)\n"
     ]
    }
   ],
   "source": [
    "FILENAME = '../data/data_processed.xlsx'\n",
    "EXPERIMENT = 'BR04'\n",
    "\n",
    "df, feeds = get_data_and_feed(FILENAME, EXPERIMENT)\n",
    "\n",
    "# Only FED-BATCH-INDUCTION data\n",
    "df = df[df['Process'] == 'FBI']\n",
    "feeds = feeds[feeds['Induction']==1]\n",
    "\n",
    "print(f'Dataset shape: {df.shape}')"
   ]
  },
  {
   "cell_type": "code",
   "execution_count": 160,
   "metadata": {},
   "outputs": [],
   "source": [
    "def main(df: pd.DataFrame, num_epochs: int = 2500):\n",
    "    t_start, t_end = df['RTime'].min(), df['RTime'].max()\n",
    "\n",
    "    t_train = numpy_to_tensor(df['RTime'].values)\n",
    "    Biomass_train = numpy_to_tensor(df['Biomass'].values)\n",
    "    Glucose_train = numpy_to_tensor(df['Glucose'].values)\n",
    "    V_train = numpy_to_tensor(df['V'].values)\n",
    "    Protein_train = numpy_to_tensor(df['Protein'].values)\n",
    "    u_train = torch.cat((Biomass_train, Glucose_train, V_train, Protein_train), 1)\n",
    "\n",
    "    net = PINN(input_dim=1, output_dim=4, t_start=t_start, t_end=t_end)\n",
    "\n",
    "    net = train(net, t_train, u_train, df, feeds, \\\n",
    "                num_epochs=num_epochs, verbose=True)\n",
    "\n",
    "    net_df = get_predictions_df(net, df)     \n",
    "\n",
    "    sol = simulate(df, feeds, net.mu_max.item(), net.K_s.item(), net.Y_xs.item(), \\\n",
    "               c1=net.c1.item(), c2=net.c2.item(), plot=False)\n",
    "\n",
    "    title = f'c1 = {net.c1.item():.4f}, c2 = {net.c2.item():.4f}'\n",
    "    plot_simulation(full_df=df, net_df=net_df, t=sol.t, y=sol.y, title=title)\n",
    "    \n",
    "    return net, net_df"
   ]
  },
  {
   "cell_type": "code",
   "execution_count": 161,
   "metadata": {},
   "outputs": [],
   "source": [
    "def V(t):\n",
    "    return 31/1000 * (t-9.933333) + 1.422819\n",
    "\n",
    "df['V'] = V(df['RTime'])"
   ]
  },
  {
   "cell_type": "code",
   "execution_count": null,
   "metadata": {},
   "outputs": [],
   "source": []
  },
  {
   "cell_type": "code",
   "execution_count": 166,
   "metadata": {},
   "outputs": [
    {
     "name": "stdout",
     "output_type": "stream",
     "text": [
      "Running for 7 data points\n"
     ]
    },
    {
     "name": "stderr",
     "output_type": "stream",
     "text": [
      "  0%|          | 0/2500 [00:00<?, ?it/s]"
     ]
    },
    {
     "name": "stderr",
     "output_type": "stream",
     "text": [
      "  0%|          | 2/2500 [00:00<03:45, 11.09it/s]"
     ]
    },
    {
     "name": "stdout",
     "output_type": "stream",
     "text": [
      "X_data_loss: 204.44029235839844\n",
      "S_data_loss: 1.0661698579788208\n",
      "V_data_loss: 2.3699967861175537\n",
      "P_data_loss: 0.008381408639252186\n",
      "X_IC_loss: 181.38694763183594\n",
      "S_IC_loss: 0.6497958898544312\n",
      "V_IC_loss: 2.1081597805023193\n",
      "P_IC_loss: 0.021655822172760963\n",
      "tensor([-0.0291, -0.0324, -0.0351, -0.0380, -0.0412, -0.0438],\n",
      "       grad_fn=<SelectBackward0>)\n"
     ]
    },
    {
     "name": "stderr",
     "output_type": "stream",
     "text": [
      "  1%|          | 22/2500 [00:03<07:16,  5.67it/s]\n"
     ]
    },
    {
     "ename": "KeyboardInterrupt",
     "evalue": "",
     "output_type": "error",
     "traceback": [
      "\u001b[0;31m---------------------------------------------------------------------------\u001b[0m",
      "\u001b[0;31mKeyboardInterrupt\u001b[0m                         Traceback (most recent call last)",
      "Cell \u001b[0;32mIn[166], line 4\u001b[0m\n\u001b[1;32m      2\u001b[0m \u001b[38;5;28mprint\u001b[39m(\u001b[38;5;124mf\u001b[39m\u001b[38;5;124m'\u001b[39m\u001b[38;5;124mRunning for \u001b[39m\u001b[38;5;132;01m{\u001b[39;00mi\u001b[38;5;132;01m}\u001b[39;00m\u001b[38;5;124m data points\u001b[39m\u001b[38;5;124m'\u001b[39m)\n\u001b[1;32m      3\u001b[0m df_ \u001b[38;5;241m=\u001b[39m df\u001b[38;5;241m.\u001b[39miloc[:i]\n\u001b[0;32m----> 4\u001b[0m net, net_df \u001b[38;5;241m=\u001b[39m \u001b[43mmain\u001b[49m\u001b[43m(\u001b[49m\u001b[43mdf_\u001b[49m\u001b[43m,\u001b[49m\u001b[43m \u001b[49m\u001b[43mnum_epochs\u001b[49m\u001b[38;5;241;43m=\u001b[39;49m\u001b[38;5;241;43m2500\u001b[39;49m\u001b[43m)\u001b[49m\n",
      "Cell \u001b[0;32mIn[160], line 13\u001b[0m, in \u001b[0;36mmain\u001b[0;34m(df, num_epochs)\u001b[0m\n\u001b[1;32m      9\u001b[0m u_train \u001b[38;5;241m=\u001b[39m torch\u001b[38;5;241m.\u001b[39mcat((Biomass_train, Glucose_train, V_train, Protein_train), \u001b[38;5;241m1\u001b[39m)\n\u001b[1;32m     11\u001b[0m net \u001b[38;5;241m=\u001b[39m PINN(input_dim\u001b[38;5;241m=\u001b[39m\u001b[38;5;241m1\u001b[39m, output_dim\u001b[38;5;241m=\u001b[39m\u001b[38;5;241m4\u001b[39m, t_start\u001b[38;5;241m=\u001b[39mt_start, t_end\u001b[38;5;241m=\u001b[39mt_end)\n\u001b[0;32m---> 13\u001b[0m net \u001b[38;5;241m=\u001b[39m \u001b[43mtrain\u001b[49m\u001b[43m(\u001b[49m\u001b[43mnet\u001b[49m\u001b[43m,\u001b[49m\u001b[43m \u001b[49m\u001b[43mt_train\u001b[49m\u001b[43m,\u001b[49m\u001b[43m \u001b[49m\u001b[43mu_train\u001b[49m\u001b[43m,\u001b[49m\u001b[43m \u001b[49m\u001b[43mdf\u001b[49m\u001b[43m,\u001b[49m\u001b[43m \u001b[49m\u001b[43mfeeds\u001b[49m\u001b[43m,\u001b[49m\u001b[43m \u001b[49m\u001b[43m\\\u001b[49m\n\u001b[1;32m     14\u001b[0m \u001b[43m            \u001b[49m\u001b[43mnum_epochs\u001b[49m\u001b[38;5;241;43m=\u001b[39;49m\u001b[43mnum_epochs\u001b[49m\u001b[43m,\u001b[49m\u001b[43m \u001b[49m\u001b[43mverbose\u001b[49m\u001b[38;5;241;43m=\u001b[39;49m\u001b[38;5;28;43;01mTrue\u001b[39;49;00m\u001b[43m)\u001b[49m\n\u001b[1;32m     16\u001b[0m net_df \u001b[38;5;241m=\u001b[39m get_predictions_df(net, df)     \n\u001b[1;32m     18\u001b[0m sol \u001b[38;5;241m=\u001b[39m simulate(df, feeds, net\u001b[38;5;241m.\u001b[39mmu_max\u001b[38;5;241m.\u001b[39mitem(), net\u001b[38;5;241m.\u001b[39mK_s\u001b[38;5;241m.\u001b[39mitem(), net\u001b[38;5;241m.\u001b[39mY_xs\u001b[38;5;241m.\u001b[39mitem(), \\\n\u001b[1;32m     19\u001b[0m            c1\u001b[38;5;241m=\u001b[39mnet\u001b[38;5;241m.\u001b[39mc1\u001b[38;5;241m.\u001b[39mitem(), c2\u001b[38;5;241m=\u001b[39mnet\u001b[38;5;241m.\u001b[39mc2\u001b[38;5;241m.\u001b[39mitem(), plot\u001b[38;5;241m=\u001b[39m\u001b[38;5;28;01mFalse\u001b[39;00m)\n",
      "File \u001b[0;32m~/dynamic-modeling/notebooks/../src/induction_pinn.py:154\u001b[0m, in \u001b[0;36mtrain\u001b[0;34m(net, t_train, u_train, df, feeds, num_epochs, verbose)\u001b[0m\n\u001b[1;32m    151\u001b[0m loss_pde \u001b[38;5;241m=\u001b[39m loss_ode(net, feeds, df[\u001b[38;5;124m\"\u001b[39m\u001b[38;5;124mRTime\u001b[39m\u001b[38;5;124m\"\u001b[39m]\u001b[38;5;241m.\u001b[39mmin(), df[\u001b[38;5;124m\"\u001b[39m\u001b[38;5;124mRTime\u001b[39m\u001b[38;5;124m\"\u001b[39m]\u001b[38;5;241m.\u001b[39mmax())\n\u001b[1;32m    153\u001b[0m total_loss \u001b[38;5;241m=\u001b[39m loss_data \u001b[38;5;241m+\u001b[39m loss_pde \u001b[38;5;241m+\u001b[39m loss_ic\n\u001b[0;32m--> 154\u001b[0m \u001b[43mtotal_loss\u001b[49m\u001b[38;5;241;43m.\u001b[39;49m\u001b[43mbackward\u001b[49m\u001b[43m(\u001b[49m\u001b[43m)\u001b[49m\n\u001b[1;32m    155\u001b[0m optimizer\u001b[38;5;241m.\u001b[39mstep()\n\u001b[1;32m    157\u001b[0m \u001b[38;5;28;01mif\u001b[39;00m verbose \u001b[38;5;129;01mand\u001b[39;00m epoch \u001b[38;5;241m%\u001b[39m \u001b[38;5;241m250\u001b[39m \u001b[38;5;241m==\u001b[39m \u001b[38;5;241m0\u001b[39m:\n",
      "File \u001b[0;32m~/env/main/lib/python3.10/site-packages/torch/_tensor.py:522\u001b[0m, in \u001b[0;36mTensor.backward\u001b[0;34m(self, gradient, retain_graph, create_graph, inputs)\u001b[0m\n\u001b[1;32m    512\u001b[0m \u001b[38;5;28;01mif\u001b[39;00m has_torch_function_unary(\u001b[38;5;28mself\u001b[39m):\n\u001b[1;32m    513\u001b[0m     \u001b[38;5;28;01mreturn\u001b[39;00m handle_torch_function(\n\u001b[1;32m    514\u001b[0m         Tensor\u001b[38;5;241m.\u001b[39mbackward,\n\u001b[1;32m    515\u001b[0m         (\u001b[38;5;28mself\u001b[39m,),\n\u001b[0;32m   (...)\u001b[0m\n\u001b[1;32m    520\u001b[0m         inputs\u001b[38;5;241m=\u001b[39minputs,\n\u001b[1;32m    521\u001b[0m     )\n\u001b[0;32m--> 522\u001b[0m \u001b[43mtorch\u001b[49m\u001b[38;5;241;43m.\u001b[39;49m\u001b[43mautograd\u001b[49m\u001b[38;5;241;43m.\u001b[39;49m\u001b[43mbackward\u001b[49m\u001b[43m(\u001b[49m\n\u001b[1;32m    523\u001b[0m \u001b[43m    \u001b[49m\u001b[38;5;28;43mself\u001b[39;49m\u001b[43m,\u001b[49m\u001b[43m \u001b[49m\u001b[43mgradient\u001b[49m\u001b[43m,\u001b[49m\u001b[43m \u001b[49m\u001b[43mretain_graph\u001b[49m\u001b[43m,\u001b[49m\u001b[43m \u001b[49m\u001b[43mcreate_graph\u001b[49m\u001b[43m,\u001b[49m\u001b[43m \u001b[49m\u001b[43minputs\u001b[49m\u001b[38;5;241;43m=\u001b[39;49m\u001b[43minputs\u001b[49m\n\u001b[1;32m    524\u001b[0m \u001b[43m\u001b[49m\u001b[43m)\u001b[49m\n",
      "File \u001b[0;32m~/env/main/lib/python3.10/site-packages/torch/autograd/__init__.py:266\u001b[0m, in \u001b[0;36mbackward\u001b[0;34m(tensors, grad_tensors, retain_graph, create_graph, grad_variables, inputs)\u001b[0m\n\u001b[1;32m    261\u001b[0m     retain_graph \u001b[38;5;241m=\u001b[39m create_graph\n\u001b[1;32m    263\u001b[0m \u001b[38;5;66;03m# The reason we repeat the same comment below is that\u001b[39;00m\n\u001b[1;32m    264\u001b[0m \u001b[38;5;66;03m# some Python versions print out the first line of a multi-line function\u001b[39;00m\n\u001b[1;32m    265\u001b[0m \u001b[38;5;66;03m# calls in the traceback and some print out the last line\u001b[39;00m\n\u001b[0;32m--> 266\u001b[0m \u001b[43mVariable\u001b[49m\u001b[38;5;241;43m.\u001b[39;49m\u001b[43m_execution_engine\u001b[49m\u001b[38;5;241;43m.\u001b[39;49m\u001b[43mrun_backward\u001b[49m\u001b[43m(\u001b[49m\u001b[43m  \u001b[49m\u001b[38;5;66;43;03m# Calls into the C++ engine to run the backward pass\u001b[39;49;00m\n\u001b[1;32m    267\u001b[0m \u001b[43m    \u001b[49m\u001b[43mtensors\u001b[49m\u001b[43m,\u001b[49m\n\u001b[1;32m    268\u001b[0m \u001b[43m    \u001b[49m\u001b[43mgrad_tensors_\u001b[49m\u001b[43m,\u001b[49m\n\u001b[1;32m    269\u001b[0m \u001b[43m    \u001b[49m\u001b[43mretain_graph\u001b[49m\u001b[43m,\u001b[49m\n\u001b[1;32m    270\u001b[0m \u001b[43m    \u001b[49m\u001b[43mcreate_graph\u001b[49m\u001b[43m,\u001b[49m\n\u001b[1;32m    271\u001b[0m \u001b[43m    \u001b[49m\u001b[43minputs\u001b[49m\u001b[43m,\u001b[49m\n\u001b[1;32m    272\u001b[0m \u001b[43m    \u001b[49m\u001b[43mallow_unreachable\u001b[49m\u001b[38;5;241;43m=\u001b[39;49m\u001b[38;5;28;43;01mTrue\u001b[39;49;00m\u001b[43m,\u001b[49m\n\u001b[1;32m    273\u001b[0m \u001b[43m    \u001b[49m\u001b[43maccumulate_grad\u001b[49m\u001b[38;5;241;43m=\u001b[39;49m\u001b[38;5;28;43;01mTrue\u001b[39;49;00m\u001b[43m,\u001b[49m\n\u001b[1;32m    274\u001b[0m \u001b[43m\u001b[49m\u001b[43m)\u001b[49m\n",
      "\u001b[0;31mKeyboardInterrupt\u001b[0m: "
     ]
    }
   ],
   "source": [
    "i = 7\n",
    "print(f'Running for {i} data points')\n",
    "df_ = df.iloc[:i]\n",
    "net, net_df = main(df_, num_epochs=2500)"
   ]
  },
  {
   "cell_type": "code",
   "execution_count": null,
   "metadata": {},
   "outputs": [
    {
     "name": "stdout",
     "output_type": "stream",
     "text": [
      "c1=0.002346951048821211, c2=0.00561975734308362\n"
     ]
    }
   ],
   "source": [
    "print(f'c1={net.c1.item()}, c2={net.c2.item()}')"
   ]
  },
  {
   "cell_type": "code",
   "execution_count": null,
   "metadata": {},
   "outputs": [
    {
     "data": {
      "text/html": [
       "<div>\n",
       "<style scoped>\n",
       "    .dataframe tbody tr th:only-of-type {\n",
       "        vertical-align: middle;\n",
       "    }\n",
       "\n",
       "    .dataframe tbody tr th {\n",
       "        vertical-align: top;\n",
       "    }\n",
       "\n",
       "    .dataframe thead th {\n",
       "        text-align: right;\n",
       "    }\n",
       "</style>\n",
       "<table border=\"1\" class=\"dataframe\">\n",
       "  <thead>\n",
       "    <tr style=\"text-align: right;\">\n",
       "      <th></th>\n",
       "      <th>RTime</th>\n",
       "      <th>Biomass</th>\n",
       "      <th>Glucose</th>\n",
       "      <th>V</th>\n",
       "      <th>Protein</th>\n",
       "    </tr>\n",
       "  </thead>\n",
       "  <tbody>\n",
       "    <tr>\n",
       "      <th>0</th>\n",
       "      <td>9.933333</td>\n",
       "      <td>27.703373</td>\n",
       "      <td>0.024228</td>\n",
       "      <td>1.505409</td>\n",
       "      <td>0.110385</td>\n",
       "    </tr>\n",
       "    <tr>\n",
       "      <th>1</th>\n",
       "      <td>11.033333</td>\n",
       "      <td>30.653744</td>\n",
       "      <td>0.022353</td>\n",
       "      <td>1.664382</td>\n",
       "      <td>0.162012</td>\n",
       "    </tr>\n",
       "    <tr>\n",
       "      <th>2</th>\n",
       "      <td>11.966667</td>\n",
       "      <td>33.157093</td>\n",
       "      <td>0.020762</td>\n",
       "      <td>1.799267</td>\n",
       "      <td>0.205817</td>\n",
       "    </tr>\n",
       "    <tr>\n",
       "      <th>3</th>\n",
       "      <td>12.966667</td>\n",
       "      <td>35.839252</td>\n",
       "      <td>0.019058</td>\n",
       "      <td>1.943787</td>\n",
       "      <td>0.252751</td>\n",
       "    </tr>\n",
       "    <tr>\n",
       "      <th>4</th>\n",
       "      <td>14.050000</td>\n",
       "      <td>38.744926</td>\n",
       "      <td>0.017211</td>\n",
       "      <td>2.100350</td>\n",
       "      <td>0.303594</td>\n",
       "    </tr>\n",
       "    <tr>\n",
       "      <th>5</th>\n",
       "      <td>14.933333</td>\n",
       "      <td>41.114166</td>\n",
       "      <td>0.015705</td>\n",
       "      <td>2.228009</td>\n",
       "      <td>0.345051</td>\n",
       "    </tr>\n",
       "  </tbody>\n",
       "</table>\n",
       "</div>"
      ],
      "text/plain": [
       "       RTime    Biomass   Glucose         V   Protein\n",
       "0   9.933333  27.703373  0.024228  1.505409  0.110385\n",
       "1  11.033333  30.653744  0.022353  1.664382  0.162012\n",
       "2  11.966667  33.157093  0.020762  1.799267  0.205817\n",
       "3  12.966667  35.839252  0.019058  1.943787  0.252751\n",
       "4  14.050000  38.744926  0.017211  2.100350  0.303594\n",
       "5  14.933333  41.114166  0.015705  2.228009  0.345051"
      ]
     },
     "execution_count": 94,
     "metadata": {},
     "output_type": "execute_result"
    }
   ],
   "source": [
    "net_df"
   ]
  }
 ],
 "metadata": {
  "kernelspec": {
   "display_name": "main",
   "language": "python",
   "name": "python3"
  },
  "language_info": {
   "codemirror_mode": {
    "name": "ipython",
    "version": 3
   },
   "file_extension": ".py",
   "mimetype": "text/x-python",
   "name": "python",
   "nbconvert_exporter": "python",
   "pygments_lexer": "ipython3",
   "version": "3.10.12"
  }
 },
 "nbformat": 4,
 "nbformat_minor": 2
}
