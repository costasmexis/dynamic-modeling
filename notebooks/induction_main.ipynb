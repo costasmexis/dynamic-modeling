{
 "cells": [
  {
   "cell_type": "code",
   "execution_count": 25,
   "metadata": {},
   "outputs": [
    {
     "name": "stdout",
     "output_type": "stream",
     "text": [
      "The autoreload extension is already loaded. To reload it, use:\n",
      "  %reload_ext autoreload\n"
     ]
    }
   ],
   "source": [
    "import sys\n",
    "sys.path.append('../')\n",
    "\n",
    "import matplotlib.pyplot as plt\n",
    "import numpy as np\n",
    "import pandas as pd\n",
    "\n",
    "from src.induction_pinn import PINN, numpy_to_tensor, train\n",
    "from src.utils import get_data_and_feed\n",
    "from typing import Optional, Union\n",
    "from scipy.integrate import solve_ivp\n",
    "\n",
    "import torch\n",
    "import torch.nn as nn\n",
    "from tqdm import tqdm \n",
    "\n",
    "pd.options.mode.chained_assignment = None\n",
    "\n",
    "np.set_printoptions(precision=4)\n",
    "\n",
    "%load_ext autoreload\n",
    "%autoreload 2"
   ]
  },
  {
   "cell_type": "code",
   "execution_count": 26,
   "metadata": {},
   "outputs": [],
   "source": [
    "def plot_feed(feeds):\n",
    "    fig, ax = plt.subplots(figsize=(10, 5))\n",
    "    ax.bar(feeds['Time'], feeds['F'], width=feeds['Duration'], align='edge')\n",
    "    ax.set_xlabel('Time (h)')\n",
    "    ax.set_ylabel('Feed (mL/h)')\n",
    "    ax.set_title('Feed vs Time')\n",
    "    plt.show()\n",
    "    \n",
    "def plot_simulation(t: Optional[list] = None, y: Optional[list] = None, full_df: Optional[pd.DataFrame] = None, train_df: Optional[pd.DataFrame] = None, net_df: Optional[pd.DataFrame] = None, title: Optional[str] = None):\n",
    "    fig, (ax1, ax2, ax3) = plt.subplots(3, 1, figsize=(10, 10))\n",
    "    \n",
    "    if t is not None and y is not None:\n",
    "        ax1.plot(t, y[0], label='Biomass (ODE)', alpha=0.6)\n",
    "        ax1.plot(t, y[1], label='Glucose (ODE)', alpha=0.6)\n",
    "        ax2.plot(t, y[2], label='Protein (ODE)', alpha=0.6)\n",
    "        ax3.plot(t, y[3], label='Volume (ODE)', alpha=0.6)\n",
    "    \n",
    "    if full_df is not None:\n",
    "        ax1.scatter(full_df['RTime'], full_df['Glucose'], label='Glucose (EXP)', color='red', alpha=0.2)   \n",
    "        ax1.scatter(full_df['RTime'], full_df['Biomass'], label='Biomass (EXP)', color='green', alpha=0.2)\n",
    "        ax2.scatter(full_df['RTime'], full_df['Protein'], label='Protein (EXP)', color='blue', alpha=0.2)\n",
    "        ax3.scatter(full_df['RTime'], full_df['V'], label='Volume (EXP)', color='purple', alpha=0.2)\n",
    "    \n",
    "    if train_df is not None:\n",
    "        ax1.scatter(train_df['RTime'], train_df['Glucose'], label='Glucose (Train)', color='red', alpha=1)   \n",
    "        ax1.scatter(train_df['RTime'], train_df['Biomass'], label='Biomass (Train)', color='green', alpha=1)\n",
    "        ax2.scatter(train_df['RTime'], train_df['Protein'], label='Protein (Train)', color='blue', alpha=1)\n",
    "        ax3.scatter(train_df['RTime'], train_df['V'], label='Volume (Train)', color='purple', alpha=1)\n",
    "    \n",
    "    if net_df is not None:\n",
    "        ax1.scatter(net_df['RTime'], net_df['Glucose'], label='Glucose (Predicted)', marker='x', color='red', alpha=0.5)\n",
    "        ax1.scatter(net_df['RTime'], net_df['Biomass'], label='Biomass (Predicted)', marker='x', color='green', alpha=0.5)\n",
    "        ax2.scatter(net_df['RTime'], net_df['Protein'], label='Protein (Predicted)', marker='x', color='blue', alpha=0.5)\n",
    "        ax3.scatter(net_df['RTime'], net_df['V'], label='Volume (Predicted)', marker='x', color='purple', alpha=0.5)\n",
    "\n",
    "    ax1.set_xlabel(\"Time (hours)\")\n",
    "    ax1.set_ylabel(\"Concentration\")\n",
    "    ax1.legend()\n",
    "    \n",
    "    ax2.set_xlabel(\"Time (hours)\")\n",
    "    ax2.set_ylabel(\"Concentration\")\n",
    "    ax2.legend()\n",
    "\n",
    "    ax3.set_xlabel(\"Time (hours)\")\n",
    "    ax3.set_ylabel(\"Volume\")\n",
    "    ax3.legend()\n",
    "        \n",
    "    plt.show()\n",
    " \n",
    "def get_feed(feeds: pd.DataFrame, time: float) -> float:\n",
    "    for _, row in feeds.iterrows():\n",
    "        start_time = row[\"Time\"]\n",
    "        end_time = row[\"Time\"] + row[\"Duration\"]\n",
    "        if start_time <= time < end_time:\n",
    "            return row[\"F\"] / 1000\n",
    "    return 0\n",
    "\n",
    "def simulate(df: pd.DataFrame, feeds: pd.DataFrame, \\\n",
    "             mu_max, Ks, Yxs, c1, c2, plot: bool = True):\n",
    "    \n",
    "    mu_max = mu_max\n",
    "    Ks = Ks\n",
    "    Yxs = Yxs\n",
    "    Sin = 1.43 * 200\n",
    "\n",
    "    def alpha(t):\n",
    "        return c1 * (1 - np.exp(-c2 * t**2))\n",
    "\n",
    "    def system_ode(t, y):\n",
    "        X, S, P, V = y\n",
    "        mu = mu_max * S / (Ks + S)\n",
    "        F = get_feed(feeds, t)\n",
    "        dXdt = mu * X + F * X / V\n",
    "        dSdt = - mu * X / Yxs + F * (Sin - S) / V\n",
    "        dPdt = alpha(t) * X - P * F / V\n",
    "        dVdt = F\n",
    "        return [dXdt, dSdt, dPdt, dVdt]\n",
    "    \n",
    "    t_start, t_end = df['RTime'].min(), df['RTime'].max()\n",
    "    t_span = (t_start, t_end)\n",
    "    y0 = [df['Biomass'].iloc[0], df['Glucose'].iloc[0], \\\n",
    "          df['Protein'].iloc[0], df['V'].iloc[0]]\n",
    "\n",
    "    t_eval = np.linspace(t_start, t_end, 10000)\n",
    "    sol = solve_ivp(system_ode, t_span=t_span, \\\n",
    "        y0=y0, t_eval=t_eval)\n",
    "    \n",
    "    if plot:\n",
    "        plot_simulation(sol.t, sol.y, full_df=df)\n",
    "\n",
    "    for i in range(sol.y.shape[0]):\n",
    "        sol.y[i][sol.y[i] < 0] = 0\n",
    "\n",
    "    return sol\n",
    "\n",
    "def get_predictions_df(net: nn.Module, df: pd.DataFrame):\n",
    "    net_df = pd.DataFrame(columns=['RTime', 'Biomass', 'Glucose'])\n",
    "    t_test = df['RTime'].values\n",
    "    t_test = numpy_to_tensor(t_test)\n",
    "    net_df[\"RTime\"] = df[\"RTime\"].values\n",
    "    net_df[\"Biomass\"] = net.forward(t_test).detach().cpu().numpy()[:, 0]\n",
    "    net_df[\"Glucose\"] = net.forward(t_test).detach().cpu().numpy()[:, 1]\n",
    "    net_df[\"V\"] = net.forward(t_test).detach().cpu().numpy()[:, 2]\n",
    "    net_df[\"Protein\"] = net.forward(t_test).detach().cpu().numpy()[:, 3]\n",
    "    net_df.loc[net_df['Glucose'] < 0, 'Glucose'] = 0\n",
    "    return net_df"
   ]
  },
  {
   "cell_type": "code",
   "execution_count": 27,
   "metadata": {},
   "outputs": [
    {
     "name": "stdout",
     "output_type": "stream",
     "text": [
      "Dataset shape: (6, 8)\n"
     ]
    }
   ],
   "source": [
    "FILENAME = '../data/data_processed.xlsx'\n",
    "EXPERIMENT = 'BR04'\n",
    "\n",
    "df, feeds = get_data_and_feed(FILENAME, EXPERIMENT)\n",
    "\n",
    "# Only FED-BATCH-INDUCTION data\n",
    "df = df[df['Process'] == 'FBI']\n",
    "feeds = feeds[feeds['Induction']==1]\n",
    "\n",
    "print(f'Dataset shape: {df.shape}')"
   ]
  },
  {
   "cell_type": "code",
   "execution_count": 28,
   "metadata": {},
   "outputs": [],
   "source": [
    "def main(df: pd.DataFrame, num_epochs: int = 2500):\n",
    "    t_start, t_end = df['RTime'].min(), df['RTime'].max()\n",
    "\n",
    "    t_train = numpy_to_tensor(df['RTime'].values)\n",
    "    Biomass_train = numpy_to_tensor(df['Biomass'].values)\n",
    "    Glucose_train = numpy_to_tensor(df['Glucose'].values)\n",
    "    V_train = numpy_to_tensor(df['V'].values)\n",
    "    Protein_train = numpy_to_tensor(df['Protein'].values)\n",
    "    u_train = torch.cat((Biomass_train, Glucose_train, V_train, Protein_train), 1)\n",
    "\n",
    "    net = PINN(input_dim=1, output_dim=4, t_start=t_start, t_end=t_end)\n",
    "\n",
    "    net = train(net, t_train, u_train, df, feeds, \\\n",
    "                num_epochs=num_epochs, verbose=True)\n",
    "\n",
    "    net_df = get_predictions_df(net, df)     \n",
    "\n",
    "    sol = simulate(df, feeds, net.mu_max.item(), net.K_s.item(), net.Y_xs.item(), \\\n",
    "               c1=net.c1.item(), c2=net.c2.item(), plot=False)\n",
    "\n",
    "    title = f'c1 = {net.c1.item():.4f}, c2 = {net.c2.item():.4f}'\n",
    "    plot_simulation(full_df=df, net_df=net_df, t=sol.t, y=sol.y, title=title)\n",
    "    \n",
    "    return net, net_df"
   ]
  },
  {
   "cell_type": "code",
   "execution_count": 29,
   "metadata": {},
   "outputs": [
    {
     "data": {
      "text/html": [
       "<div>\n",
       "<style scoped>\n",
       "    .dataframe tbody tr th:only-of-type {\n",
       "        vertical-align: middle;\n",
       "    }\n",
       "\n",
       "    .dataframe tbody tr th {\n",
       "        vertical-align: top;\n",
       "    }\n",
       "\n",
       "    .dataframe thead th {\n",
       "        text-align: right;\n",
       "    }\n",
       "</style>\n",
       "<table border=\"1\" class=\"dataframe\">\n",
       "  <thead>\n",
       "    <tr style=\"text-align: right;\">\n",
       "      <th></th>\n",
       "      <th>Process</th>\n",
       "      <th>RTime</th>\n",
       "      <th>Glucose</th>\n",
       "      <th>Biomass</th>\n",
       "      <th>Protein</th>\n",
       "      <th>Temperature</th>\n",
       "      <th>Induction</th>\n",
       "      <th>V</th>\n",
       "    </tr>\n",
       "  </thead>\n",
       "  <tbody>\n",
       "    <tr>\n",
       "      <th>BR04</th>\n",
       "      <td>FBI</td>\n",
       "      <td>9.933333</td>\n",
       "      <td>0.000</td>\n",
       "      <td>30.714286</td>\n",
       "      <td>0.092910</td>\n",
       "      <td>33</td>\n",
       "      <td>1</td>\n",
       "      <td>1.422819</td>\n",
       "    </tr>\n",
       "    <tr>\n",
       "      <th>BR04</th>\n",
       "      <td>FBI</td>\n",
       "      <td>11.033333</td>\n",
       "      <td>0.061</td>\n",
       "      <td>31.585714</td>\n",
       "      <td>0.171464</td>\n",
       "      <td>33</td>\n",
       "      <td>1</td>\n",
       "      <td>1.456919</td>\n",
       "    </tr>\n",
       "    <tr>\n",
       "      <th>BR04</th>\n",
       "      <td>FBI</td>\n",
       "      <td>11.966667</td>\n",
       "      <td>0.000</td>\n",
       "      <td>32.960714</td>\n",
       "      <td>0.194065</td>\n",
       "      <td>33</td>\n",
       "      <td>1</td>\n",
       "      <td>1.485852</td>\n",
       "    </tr>\n",
       "    <tr>\n",
       "      <th>BR04</th>\n",
       "      <td>FBI</td>\n",
       "      <td>12.966667</td>\n",
       "      <td>0.000</td>\n",
       "      <td>33.563095</td>\n",
       "      <td>0.222978</td>\n",
       "      <td>33</td>\n",
       "      <td>1</td>\n",
       "      <td>1.516852</td>\n",
       "    </tr>\n",
       "    <tr>\n",
       "      <th>BR04</th>\n",
       "      <td>FBI</td>\n",
       "      <td>14.050000</td>\n",
       "      <td>0.006</td>\n",
       "      <td>33.396429</td>\n",
       "      <td>0.298919</td>\n",
       "      <td>33</td>\n",
       "      <td>1</td>\n",
       "      <td>1.550436</td>\n",
       "    </tr>\n",
       "    <tr>\n",
       "      <th>BR04</th>\n",
       "      <td>FBI</td>\n",
       "      <td>14.933333</td>\n",
       "      <td>0.000</td>\n",
       "      <td>34.017857</td>\n",
       "      <td>0.387269</td>\n",
       "      <td>33</td>\n",
       "      <td>1</td>\n",
       "      <td>1.577819</td>\n",
       "    </tr>\n",
       "  </tbody>\n",
       "</table>\n",
       "</div>"
      ],
      "text/plain": [
       "     Process      RTime  Glucose    Biomass   Protein  Temperature  Induction  \\\n",
       "BR04     FBI   9.933333    0.000  30.714286  0.092910           33          1   \n",
       "BR04     FBI  11.033333    0.061  31.585714  0.171464           33          1   \n",
       "BR04     FBI  11.966667    0.000  32.960714  0.194065           33          1   \n",
       "BR04     FBI  12.966667    0.000  33.563095  0.222978           33          1   \n",
       "BR04     FBI  14.050000    0.006  33.396429  0.298919           33          1   \n",
       "BR04     FBI  14.933333    0.000  34.017857  0.387269           33          1   \n",
       "\n",
       "             V  \n",
       "BR04  1.422819  \n",
       "BR04  1.456919  \n",
       "BR04  1.485852  \n",
       "BR04  1.516852  \n",
       "BR04  1.550436  \n",
       "BR04  1.577819  "
      ]
     },
     "execution_count": 29,
     "metadata": {},
     "output_type": "execute_result"
    }
   ],
   "source": [
    "def V(t):\n",
    "    return 31/1000 * (t-9.933333) + 1.422819\n",
    "\n",
    "df['V'] = V(df['RTime'])\n",
    "df"
   ]
  },
  {
   "cell_type": "code",
   "execution_count": 30,
   "metadata": {},
   "outputs": [
    {
     "name": "stdout",
     "output_type": "stream",
     "text": [
      "Running for 7 data points\n"
     ]
    },
    {
     "name": "stderr",
     "output_type": "stream",
     "text": [
      "  0%|          | 2/1000 [00:00<01:12, 13.70it/s]"
     ]
    },
    {
     "name": "stdout",
     "output_type": "stream",
     "text": [
      "X_data_loss: 1084.2598876953125\n",
      "S_data_loss: 0.06129554286599159\n",
      "V_data_loss: 37.19172286987305\n",
      "P_data_loss: 0.08169283717870712\n",
      "X_IC_loss: 953.171875\n",
      "S_IC_loss: 0.034776173532009125\n",
      "V_IC_loss: 35.89453887939453\n",
      "P_IC_loss: 0.0990850180387497\n",
      "tensor([0.2246, 0.2494, 0.2705, 0.2932, 0.3176, 0.3376],\n",
      "       grad_fn=<SelectBackward0>)\n"
     ]
    },
    {
     "name": "stderr",
     "output_type": "stream",
     "text": [
      "  0%|          | 4/1000 [00:00<01:38, 10.15it/s]"
     ]
    },
    {
     "name": "stderr",
     "output_type": "stream",
     "text": [
      " 25%|██▌       | 252/1000 [00:42<02:07,  5.85it/s]"
     ]
    },
    {
     "name": "stdout",
     "output_type": "stream",
     "text": [
      "X_data_loss: 1052.3428955078125\n",
      "S_data_loss: 2.353586435317993\n",
      "V_data_loss: 1.0015896558761597\n",
      "P_data_loss: 0.0036932446528226137\n",
      "X_IC_loss: 929.203369140625\n",
      "S_IC_loss: 1.4914450645446777\n",
      "V_IC_loss: 2.9620237350463867\n",
      "P_IC_loss: 0.008096450008451939\n",
      "tensor([1.0786, 1.1948, 1.2933, 1.3989, 1.5133, 1.6066],\n",
      "       grad_fn=<SelectBackward0>)\n"
     ]
    },
    {
     "name": "stderr",
     "output_type": "stream",
     "text": [
      " 50%|█████     | 501/1000 [01:25<01:32,  5.38it/s]"
     ]
    },
    {
     "name": "stdout",
     "output_type": "stream",
     "text": [
      "X_data_loss: 816.3237915039062\n",
      "S_data_loss: 2.8088080883026123\n",
      "V_data_loss: 11.809711456298828\n",
      "P_data_loss: 0.0030206458177417517\n",
      "X_IC_loss: 750.6949462890625\n",
      "S_IC_loss: 1.779409646987915\n",
      "V_IC_loss: 2.1818127632141113\n",
      "P_IC_loss: 0.006502992939203978\n",
      "tensor([1.7182, 1.9036, 2.0609, 2.2295, 2.4121, 2.5609],\n",
      "       grad_fn=<SelectBackward0>)\n"
     ]
    },
    {
     "name": "stderr",
     "output_type": "stream",
     "text": [
      " 75%|███████▌  | 751/1000 [02:10<00:44,  5.60it/s]"
     ]
    },
    {
     "name": "stdout",
     "output_type": "stream",
     "text": [
      "X_data_loss: 11.310589790344238\n",
      "S_data_loss: 0.0006216616602614522\n",
      "V_data_loss: 1.202551245689392\n",
      "P_data_loss: 0.0024686455726623535\n",
      "X_IC_loss: 18.916032791137695\n",
      "S_IC_loss: 0.00012038022396154702\n",
      "V_IC_loss: 0.2873293459415436\n",
      "P_IC_loss: 0.005376901943236589\n",
      "tensor([1.3156, 1.4573, 1.5774, 1.7062, 1.8457, 1.9595],\n",
      "       grad_fn=<SelectBackward0>)\n"
     ]
    },
    {
     "name": "stderr",
     "output_type": "stream",
     "text": [
      "100%|██████████| 1000/1000 [02:54<00:00,  5.74it/s]\n"
     ]
    },
    {
     "data": {
      "image/png": "[encoded data removed]",
      "text/plain": [
       "<Figure size 1000x1000 with 3 Axes>"
      ]
     },
     "metadata": {},
     "output_type": "display_data"
    }
   ],
   "source": [
    "i = 7\n",
    "print(f'Running for {i} data points')\n",
    "df_ = df.iloc[:i]\n",
    "net, net_df = main(df_, num_epochs=1000)"
   ]
  },
  {
   "cell_type": "code",
   "execution_count": 33,
   "metadata": {},
   "outputs": [
    {
     "name": "stdout",
     "output_type": "stream",
     "text": [
      "c1=0.02580498345196247, c2=0.00022022186021786183\n"
     ]
    }
   ],
   "source": [
    "print(f'c1={net.c1.item()}, c2={net.c2.item()}')"
   ]
  },
  {
   "cell_type": "code",
   "execution_count": 34,
   "metadata": {},
   "outputs": [
    {
     "data": {
      "text/html": [
       "<div>\n",
       "<style scoped>\n",
       "    .dataframe tbody tr th:only-of-type {\n",
       "        vertical-align: middle;\n",
       "    }\n",
       "\n",
       "    .dataframe tbody tr th {\n",
       "        vertical-align: top;\n",
       "    }\n",
       "\n",
       "    .dataframe thead th {\n",
       "        text-align: right;\n",
       "    }\n",
       "</style>\n",
       "<table border=\"1\" class=\"dataframe\">\n",
       "  <thead>\n",
       "    <tr style=\"text-align: right;\">\n",
       "      <th></th>\n",
       "      <th>RTime</th>\n",
       "      <th>Biomass</th>\n",
       "      <th>Glucose</th>\n",
       "      <th>V</th>\n",
       "      <th>Protein</th>\n",
       "    </tr>\n",
       "  </thead>\n",
       "  <tbody>\n",
       "    <tr>\n",
       "      <th>0</th>\n",
       "      <td>9.933333</td>\n",
       "      <td>27.689905</td>\n",
       "      <td>0.013731</td>\n",
       "      <td>1.331354</td>\n",
       "      <td>0.155603</td>\n",
       "    </tr>\n",
       "    <tr>\n",
       "      <th>1</th>\n",
       "      <td>11.033333</td>\n",
       "      <td>30.692684</td>\n",
       "      <td>0.015610</td>\n",
       "      <td>1.474932</td>\n",
       "      <td>0.188943</td>\n",
       "    </tr>\n",
       "    <tr>\n",
       "      <th>2</th>\n",
       "      <td>11.966667</td>\n",
       "      <td>33.240501</td>\n",
       "      <td>0.017204</td>\n",
       "      <td>1.596755</td>\n",
       "      <td>0.217232</td>\n",
       "    </tr>\n",
       "    <tr>\n",
       "      <th>3</th>\n",
       "      <td>12.966667</td>\n",
       "      <td>35.970303</td>\n",
       "      <td>0.018912</td>\n",
       "      <td>1.727280</td>\n",
       "      <td>0.247542</td>\n",
       "    </tr>\n",
       "    <tr>\n",
       "      <th>4</th>\n",
       "      <td>14.050000</td>\n",
       "      <td>38.927578</td>\n",
       "      <td>0.020763</td>\n",
       "      <td>1.868682</td>\n",
       "      <td>0.280379</td>\n",
       "    </tr>\n",
       "    <tr>\n",
       "      <th>5</th>\n",
       "      <td>14.933333</td>\n",
       "      <td>41.338902</td>\n",
       "      <td>0.022272</td>\n",
       "      <td>1.983981</td>\n",
       "      <td>0.307154</td>\n",
       "    </tr>\n",
       "  </tbody>\n",
       "</table>\n",
       "</div>"
      ],
      "text/plain": [
       "       RTime    Biomass   Glucose         V   Protein\n",
       "0   9.933333  27.689905  0.013731  1.331354  0.155603\n",
       "1  11.033333  30.692684  0.015610  1.474932  0.188943\n",
       "2  11.966667  33.240501  0.017204  1.596755  0.217232\n",
       "3  12.966667  35.970303  0.018912  1.727280  0.247542\n",
       "4  14.050000  38.927578  0.020763  1.868682  0.280379\n",
       "5  14.933333  41.338902  0.022272  1.983981  0.307154"
      ]
     },
     "execution_count": 34,
     "metadata": {},
     "output_type": "execute_result"
    }
   ],
   "source": [
    "net_df"
   ]
  }
 ],
 "metadata": {
  "kernelspec": {
   "display_name": "main",
   "language": "python",
   "name": "python3"
  },
  "language_info": {
   "codemirror_mode": {
    "name": "ipython",
    "version": 3
   },
   "file_extension": ".py",
   "mimetype": "text/x-python",
   "name": "python",
   "nbconvert_exporter": "python",
   "pygments_lexer": "ipython3",
   "version": "3.10.12"
  }
 },
 "nbformat": 4,
 "nbformat_minor": 2
}
