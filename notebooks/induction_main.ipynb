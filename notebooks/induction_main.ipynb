{
 "cells": [
  {
   "cell_type": "code",
   "execution_count": 166,
   "metadata": {},
   "outputs": [
    {
     "name": "stdout",
     "output_type": "stream",
     "text": [
      "The autoreload extension is already loaded. To reload it, use:\n",
      "  %reload_ext autoreload\n"
     ]
    }
   ],
   "source": [
    "import sys\n",
    "sys.path.append('../')\n",
    "\n",
    "import matplotlib.pyplot as plt\n",
    "import numpy as np\n",
    "import pandas as pd\n",
    "\n",
    "from src.induction_pinn import PINN, numpy_to_tensor, train\n",
    "from src.utils import get_data_and_feed\n",
    "from typing import Optional, Union\n",
    "from scipy.integrate import solve_ivp\n",
    "\n",
    "import torch\n",
    "import torch.nn as nn\n",
    "from tqdm import tqdm \n",
    "\n",
    "pd.options.mode.chained_assignment = None\n",
    "\n",
    "np.set_printoptions(precision=4)\n",
    "\n",
    "%load_ext autoreload\n",
    "%autoreload 2"
   ]
  },
  {
   "cell_type": "code",
   "execution_count": 182,
   "metadata": {},
   "outputs": [],
   "source": [
    "def plot_feed(feeds):\n",
    "    fig, ax = plt.subplots(figsize=(10, 5))\n",
    "    ax.bar(feeds['Time'], feeds['F'], width=feeds['Duration'], align='edge')\n",
    "    ax.set_xlabel('Time (h)')\n",
    "    ax.set_ylabel('Feed (mL/h)')\n",
    "    ax.set_title('Feed vs Time')\n",
    "    plt.show()\n",
    "    \n",
    "def plot_simulation(t=None, y=None, feeds: Optional[pd.DataFrame] = None, full_df: Optional[pd.DataFrame] = None, train_df: Optional[pd.DataFrame] = None, net_df: Optional[pd.DataFrame] = None, title: Optional[str] = None):\n",
    "    \n",
    "    fig, (ax1, ax2) = plt.subplots(2, 1, figsize=(10, 10))\n",
    "    \n",
    "    if t is not None and y is not None:\n",
    "        ax1.plot(t, y[0], label='Biomass (ODE)', alpha=0.6)\n",
    "        ax1.plot(t, y[1], label='Glucose (ODE)', alpha=0.6)\n",
    "        ax2.plot(t, y[3], label='Protein (ODE)', alpha=0.6)\n",
    "    \n",
    "    if full_df is not None:\n",
    "        ax1.scatter(full_df['RTime'], full_df['Glucose'], label='Glucose (EXP)', color='red', alpha=0.2)   \n",
    "        ax1.scatter(full_df['RTime'], full_df['Biomass'], label='Biomass (EXP)', color='green', alpha=0.2)\n",
    "        ax2.scatter(full_df['RTime'], full_df['Protein'], label='Protein (EXP)', color='blue', alpha=0.2)\n",
    "        \n",
    "    if train_df is not None:\n",
    "        ax1.scatter(train_df['RTime'], train_df['Glucose'], label='Glucose (Train)', color='red', alpha=1)   \n",
    "        ax1.scatter(train_df['RTime'], train_df['Biomass'], label='Biomass (Train)', color='green', alpha=1)\n",
    "        ax2.scatter(train_df['RTime'], train_df['Protein'], label='Protein (Train)', color='blue', alpha=1)\n",
    "        \n",
    "    if net_df is not None:\n",
    "        ax1.scatter(net_df['RTime'], net_df['Glucose'], label='Glucose (Predicted)', marker='x', color='red', alpha=0.5)\n",
    "        ax1.scatter(net_df['RTime'], net_df['Biomass'], label='Biomass (Predicted)', marker='x', color='green', alpha=0.5)\n",
    "        ax2.scatter(net_df['RTime'], net_df['Protein'], label='Protein (Predicted)', marker='x', color='blue', alpha=0.5)\n",
    "        \n",
    "    ax1.legend()\n",
    "    ax2.legend()\n",
    "    \n",
    "    plt.xlabel(\"Time (hours)\")\n",
    "    plt.ylabel(\"Concentration\")\n",
    "    plt.title(title)\n",
    "    plt.show()\n",
    " \n",
    "def get_feed(feeds: pd.DataFrame, time: float) -> float:\n",
    "    for _, row in feeds.iterrows():\n",
    "        start_time = row[\"Time\"]\n",
    "        end_time = row[\"Time\"] + row[\"Duration\"]\n",
    "        if start_time <= time < end_time:\n",
    "            return row[\"F\"] / 1000\n",
    "    return 0\n",
    "\n",
    "def simulate(net: nn.Module, df: pd.DataFrame, feeds: pd.DataFrame, plot: bool = True):\n",
    "    mu_max = net.mu_max.item()\n",
    "    Ks = net.K_s.item()\n",
    "    Yxs = net.Y_xs.item()\n",
    "    c1 = net.c1.item()\n",
    "    Sin = 1.43 * 200\n",
    "    \n",
    "    def system_ode(t, y):\n",
    "        X, S, V, P = y\n",
    "        mu = mu_max * S / (Ks + S)\n",
    "        F = get_feed(feeds, t)\n",
    "        dXdt = mu * X + F * X / V\n",
    "        dSdt = - mu * X / Yxs + F * (Sin - S) / V\n",
    "        dVdt = F\n",
    "        dPdt = c1 * mu * X - F * P / V\n",
    "        return [dXdt, dSdt, dVdt, dPdt]\n",
    "    \n",
    "    t_start, t_end = df['RTime'].min(), df['RTime'].max()\n",
    "    t_span = (t_start, t_end)\n",
    "    y0 = [df['Biomass'].iloc[0], df['Glucose'].iloc[0], df['V'].iloc[0], df['Protein'].iloc[0]]\n",
    "\n",
    "    t_eval = np.linspace(t_start, t_end, 10000)\n",
    "    sol = solve_ivp(system_ode, t_span=t_span, \\\n",
    "        y0=y0, t_eval=t_eval)\n",
    "    \n",
    "    if plot:\n",
    "        plot_simulation(sol.t, sol.y, feeds=feeds, full_df=df)\n",
    "\n",
    "    for i in range(sol.y.shape[0]):\n",
    "        sol.y[i][sol.y[i] < 0] = 0\n",
    "\n",
    "    return sol\n",
    "\n",
    "def get_predictions_df(net: nn.Module, df: pd.DataFrame):\n",
    "    net_df = pd.DataFrame()\n",
    "    t_test = df['RTime'].values\n",
    "    t_test = numpy_to_tensor(t_test)\n",
    "    net_df[\"RTime\"] = df[\"RTime\"].values\n",
    "    net_df[\"Biomass\"] = net.forward(t_test).detach().cpu().numpy()[:, 0]\n",
    "    net_df[\"Glucose\"] = net.forward(t_test).detach().cpu().numpy()[:, 1]\n",
    "    net_df[\"V\"] = net.forward(t_test).detach().cpu().numpy()[:, 2]\n",
    "    net_df[\"Protein\"] = net.forward(t_test).detach().cpu().numpy()[:, 3]\n",
    "    net_df.loc[net_df['Glucose'] < 0, 'Glucose'] = 0\n",
    "    return net_df"
   ]
  },
  {
   "cell_type": "code",
   "execution_count": 183,
   "metadata": {},
   "outputs": [
    {
     "name": "stdout",
     "output_type": "stream",
     "text": [
      "Dataset shape: (8, 8)\n"
     ]
    }
   ],
   "source": [
    "FILENAME = '../data/data_processed.xlsx'\n",
    "EXPERIMENT = 'BR02'\n",
    "\n",
    "df, feeds = get_data_and_feed(FILENAME, EXPERIMENT)\n",
    "\n",
    "# Get FB and FBI data\n",
    "df = df[df['Process'] == 'FBI']\n",
    "feeds = feeds[feeds['Induction']==1]\n",
    "\n",
    "print(f'Dataset shape: {df.shape}')"
   ]
  },
  {
   "cell_type": "code",
   "execution_count": 193,
   "metadata": {},
   "outputs": [],
   "source": [
    "def main(df: pd.DataFrame, epochs: int = 1000):\n",
    "    t_start, t_end = df['RTime'].min(), df['RTime'].max()\n",
    "\n",
    "    t_train = numpy_to_tensor(df['RTime'].values)\n",
    "    Biomass_train = numpy_to_tensor(df['Biomass'].values)\n",
    "    Glucose_train = numpy_to_tensor(df['Glucose'].values)\n",
    "    V_train = numpy_to_tensor(df['V'].values)\n",
    "    Protein_train = numpy_to_tensor(df['Protein'].values)\n",
    "    u_train = torch.cat((Biomass_train, Glucose_train, V_train, Protein_train), 1)\n",
    "\n",
    "    net = PINN(input_dim=1, output_dim=4, t_start=t_start, t_end=t_end)\n",
    "\n",
    "    net = train(net, t_train, u_train, df, feeds, num_epochs=epochs, verbose=500)\n",
    "\n",
    "    net_df = get_predictions_df(net, df)    \n",
    "\n",
    "    sol = simulate(net, df, feeds, plot=False)\n",
    "\n",
    "    title = f\"mu_max: {net.mu_max.item():4f}, Ks: {net.K_s.item():4f}, Yxs: {net.Y_xs.item():.4f}\"\n",
    "    plot_simulation(t=sol.t, y=sol.y, net_df=net_df, train_df=df, full_df=df, title=title)\n",
    "    \n",
    "    return net, net_df"
   ]
  },
  {
   "cell_type": "code",
   "execution_count": 194,
   "metadata": {},
   "outputs": [
    {
     "name": "stderr",
     "output_type": "stream",
     "text": [
      "  0%|          | 0/2000 [00:00<?, ?it/s]\n",
      "  0%|          | 0/2000 [00:00<?, ?it/s]\n",
      "  0%|          | 0/2000 [00:00<?, ?it/s]\n",
      "  0%|          | 0/2000 [00:00<?, ?it/s]"
     ]
    },
    {
     "name": "stderr",
     "output_type": "stream",
     "text": [
      "  0%|          | 0/2000 [00:00<?, ?it/s]\n",
      "  0%|          | 0/2000 [00:00<?, ?it/s]\n",
      "  0%|          | 0/2000 [00:00<?, ?it/s]\n",
      "  0%|          | 6/2000 [00:00<00:37, 52.75it/s]"
     ]
    },
    {
     "name": "stdout",
     "output_type": "stream",
     "text": [
      "mu_max: 0.5005, Ks: 0.4995, Yxs: 0.4995,                 c1: 0.1005\n",
      "X_data_loss = 687.3774\n",
      "S_data_loss = 0.0061\n",
      "V_data_loss = 1.1981\n",
      "P_data_loss = 0.6527\n",
      "X_IC_loss = 566.4313\n",
      "S_IC_loss = 0.0018\n",
      "V_IC_loss = 2.1477\n",
      "error_ode = 40.1468\n"
     ]
    },
    {
     "name": "stderr",
     "output_type": "stream",
     "text": [
      " 26%|██▌       | 511/2000 [00:09<00:25, 59.46it/s]"
     ]
    },
    {
     "name": "stdout",
     "output_type": "stream",
     "text": [
      "mu_max: 0.4793, Ks: 0.5223, Yxs: 0.5301,                 c1: 0.0808\n",
      "X_data_loss = 24.3556\n",
      "S_data_loss = 0.0019\n",
      "V_data_loss = 0.2141\n",
      "P_data_loss = 0.2325\n",
      "X_IC_loss = 26.1415\n",
      "S_IC_loss = 0.0056\n",
      "V_IC_loss = 0.3988\n",
      "error_ode = 0.2598\n"
     ]
    },
    {
     "name": "stderr",
     "output_type": "stream",
     "text": [
      " 50%|█████     | 1010/2000 [00:18<00:16, 60.40it/s]"
     ]
    },
    {
     "name": "stdout",
     "output_type": "stream",
     "text": [
      "mu_max: 0.4265, Ks: 0.5761, Yxs: 0.5784,                 c1: 0.0546\n",
      "X_data_loss = 0.5295\n",
      "S_data_loss = 0.0014\n",
      "V_data_loss = 0.1645\n",
      "P_data_loss = 0.2331\n",
      "X_IC_loss = 0.4376\n",
      "S_IC_loss = 0.0030\n",
      "V_IC_loss = 0.0366\n",
      "error_ode = 0.1728\n"
     ]
    },
    {
     "name": "stderr",
     "output_type": "stream",
     "text": [
      " 75%|███████▌  | 1508/2000 [00:27<00:08, 60.02it/s]"
     ]
    },
    {
     "name": "stdout",
     "output_type": "stream",
     "text": [
      "mu_max: 0.4257, Ks: 0.5770, Yxs: 0.5703,                 c1: 0.1009\n",
      "X_data_loss = 0.0394\n",
      "S_data_loss = 0.0013\n",
      "V_data_loss = 0.0925\n",
      "P_data_loss = 0.0992\n",
      "X_IC_loss = 0.0018\n",
      "S_IC_loss = 0.0023\n",
      "V_IC_loss = 0.0005\n",
      "error_ode = 0.2767\n"
     ]
    },
    {
     "name": "stderr",
     "output_type": "stream",
     "text": [
      "100%|██████████| 2000/2000 [00:35<00:00, 55.94it/s]\n"
     ]
    },
    {
     "data": {
      "image/png": "[encoded data removed]",
      "text/plain": [
       "<Figure size 1000x1000 with 2 Axes>"
      ]
     },
     "metadata": {},
     "output_type": "display_data"
    }
   ],
   "source": [
    "repeat = True\n",
    "while repeat:\n",
    "    try:\n",
    "        net, net_df = main(df, epochs=2000)\n",
    "        repeat = False\n",
    "    except ValueError:\n",
    "        pass"
   ]
  },
  {
   "cell_type": "code",
   "execution_count": 195,
   "metadata": {},
   "outputs": [
    {
     "data": {
      "text/html": [
       "<div>\n",
       "<style scoped>\n",
       "    .dataframe tbody tr th:only-of-type {\n",
       "        vertical-align: middle;\n",
       "    }\n",
       "\n",
       "    .dataframe tbody tr th {\n",
       "        vertical-align: top;\n",
       "    }\n",
       "\n",
       "    .dataframe thead th {\n",
       "        text-align: right;\n",
       "    }\n",
       "</style>\n",
       "<table border=\"1\" class=\"dataframe\">\n",
       "  <thead>\n",
       "    <tr style=\"text-align: right;\">\n",
       "      <th></th>\n",
       "      <th>RTime</th>\n",
       "      <th>Biomass</th>\n",
       "      <th>Glucose</th>\n",
       "      <th>V</th>\n",
       "      <th>Protein</th>\n",
       "    </tr>\n",
       "  </thead>\n",
       "  <tbody>\n",
       "    <tr>\n",
       "      <th>0</th>\n",
       "      <td>9.283333</td>\n",
       "      <td>23.937317</td>\n",
       "      <td>0.045576</td>\n",
       "      <td>1.777963</td>\n",
       "      <td>-0.052336</td>\n",
       "    </tr>\n",
       "    <tr>\n",
       "      <th>1</th>\n",
       "      <td>11.033333</td>\n",
       "      <td>24.689451</td>\n",
       "      <td>0.044111</td>\n",
       "      <td>1.788389</td>\n",
       "      <td>0.240302</td>\n",
       "    </tr>\n",
       "    <tr>\n",
       "      <th>2</th>\n",
       "      <td>13.150000</td>\n",
       "      <td>25.599178</td>\n",
       "      <td>0.042338</td>\n",
       "      <td>1.801000</td>\n",
       "      <td>0.594255</td>\n",
       "    </tr>\n",
       "    <tr>\n",
       "      <th>3</th>\n",
       "      <td>15.150000</td>\n",
       "      <td>26.458757</td>\n",
       "      <td>0.040663</td>\n",
       "      <td>1.812915</td>\n",
       "      <td>0.928699</td>\n",
       "    </tr>\n",
       "    <tr>\n",
       "      <th>4</th>\n",
       "      <td>17.100000</td>\n",
       "      <td>27.296850</td>\n",
       "      <td>0.039031</td>\n",
       "      <td>1.824534</td>\n",
       "      <td>1.254780</td>\n",
       "    </tr>\n",
       "    <tr>\n",
       "      <th>5</th>\n",
       "      <td>18.150000</td>\n",
       "      <td>27.748133</td>\n",
       "      <td>0.038152</td>\n",
       "      <td>1.830790</td>\n",
       "      <td>1.430363</td>\n",
       "    </tr>\n",
       "    <tr>\n",
       "      <th>6</th>\n",
       "      <td>19.166667</td>\n",
       "      <td>28.185083</td>\n",
       "      <td>0.037300</td>\n",
       "      <td>1.836847</td>\n",
       "      <td>1.600373</td>\n",
       "    </tr>\n",
       "    <tr>\n",
       "      <th>7</th>\n",
       "      <td>20.133333</td>\n",
       "      <td>28.600552</td>\n",
       "      <td>0.036491</td>\n",
       "      <td>1.842606</td>\n",
       "      <td>1.762019</td>\n",
       "    </tr>\n",
       "  </tbody>\n",
       "</table>\n",
       "</div>"
      ],
      "text/plain": [
       "       RTime    Biomass   Glucose         V   Protein\n",
       "0   9.283333  23.937317  0.045576  1.777963 -0.052336\n",
       "1  11.033333  24.689451  0.044111  1.788389  0.240302\n",
       "2  13.150000  25.599178  0.042338  1.801000  0.594255\n",
       "3  15.150000  26.458757  0.040663  1.812915  0.928699\n",
       "4  17.100000  27.296850  0.039031  1.824534  1.254780\n",
       "5  18.150000  27.748133  0.038152  1.830790  1.430363\n",
       "6  19.166667  28.185083  0.037300  1.836847  1.600373\n",
       "7  20.133333  28.600552  0.036491  1.842606  1.762019"
      ]
     },
     "execution_count": 195,
     "metadata": {},
     "output_type": "execute_result"
    }
   ],
   "source": [
    "net_df"
   ]
  },
  {
   "cell_type": "code",
   "execution_count": 196,
   "metadata": {},
   "outputs": [
    {
     "data": {
      "text/html": [
       "<div>\n",
       "<style scoped>\n",
       "    .dataframe tbody tr th:only-of-type {\n",
       "        vertical-align: middle;\n",
       "    }\n",
       "\n",
       "    .dataframe tbody tr th {\n",
       "        vertical-align: top;\n",
       "    }\n",
       "\n",
       "    .dataframe thead th {\n",
       "        text-align: right;\n",
       "    }\n",
       "</style>\n",
       "<table border=\"1\" class=\"dataframe\">\n",
       "  <thead>\n",
       "    <tr style=\"text-align: right;\">\n",
       "      <th></th>\n",
       "      <th>RTime</th>\n",
       "      <th>Glucose</th>\n",
       "      <th>Biomass</th>\n",
       "      <th>Protein</th>\n",
       "      <th>V</th>\n",
       "    </tr>\n",
       "  </thead>\n",
       "  <tbody>\n",
       "    <tr>\n",
       "      <th>0</th>\n",
       "      <td>9.283333</td>\n",
       "      <td>0.000</td>\n",
       "      <td>23.982143</td>\n",
       "      <td>0.131010</td>\n",
       "      <td>1.738042</td>\n",
       "    </tr>\n",
       "    <tr>\n",
       "      <th>1</th>\n",
       "      <td>11.033333</td>\n",
       "      <td>0.011</td>\n",
       "      <td>24.714286</td>\n",
       "      <td>0.315045</td>\n",
       "      <td>1.700264</td>\n",
       "    </tr>\n",
       "    <tr>\n",
       "      <th>2</th>\n",
       "      <td>13.150000</td>\n",
       "      <td>0.011</td>\n",
       "      <td>25.246429</td>\n",
       "      <td>0.462354</td>\n",
       "      <td>1.666463</td>\n",
       "    </tr>\n",
       "    <tr>\n",
       "      <th>3</th>\n",
       "      <td>15.150000</td>\n",
       "      <td>0.005</td>\n",
       "      <td>26.812800</td>\n",
       "      <td>0.620946</td>\n",
       "      <td>1.631697</td>\n",
       "    </tr>\n",
       "    <tr>\n",
       "      <th>4</th>\n",
       "      <td>17.100000</td>\n",
       "      <td>0.000</td>\n",
       "      <td>27.314286</td>\n",
       "      <td>0.952321</td>\n",
       "      <td>1.596226</td>\n",
       "    </tr>\n",
       "    <tr>\n",
       "      <th>5</th>\n",
       "      <td>18.150000</td>\n",
       "      <td>0.006</td>\n",
       "      <td>27.653571</td>\n",
       "      <td>1.255040</td>\n",
       "      <td>1.549573</td>\n",
       "    </tr>\n",
       "    <tr>\n",
       "      <th>6</th>\n",
       "      <td>19.166667</td>\n",
       "      <td>0.009</td>\n",
       "      <td>28.039286</td>\n",
       "      <td>1.695873</td>\n",
       "      <td>1.506909</td>\n",
       "    </tr>\n",
       "    <tr>\n",
       "      <th>7</th>\n",
       "      <td>20.133333</td>\n",
       "      <td>0.000</td>\n",
       "      <td>28.417857</td>\n",
       "      <td>2.318808</td>\n",
       "      <td>1.462388</td>\n",
       "    </tr>\n",
       "  </tbody>\n",
       "</table>\n",
       "</div>"
      ],
      "text/plain": [
       "       RTime  Glucose    Biomass   Protein         V\n",
       "0   9.283333    0.000  23.982143  0.131010  1.738042\n",
       "1  11.033333    0.011  24.714286  0.315045  1.700264\n",
       "2  13.150000    0.011  25.246429  0.462354  1.666463\n",
       "3  15.150000    0.005  26.812800  0.620946  1.631697\n",
       "4  17.100000    0.000  27.314286  0.952321  1.596226\n",
       "5  18.150000    0.006  27.653571  1.255040  1.549573\n",
       "6  19.166667    0.009  28.039286  1.695873  1.506909\n",
       "7  20.133333    0.000  28.417857  2.318808  1.462388"
      ]
     },
     "execution_count": 196,
     "metadata": {},
     "output_type": "execute_result"
    }
   ],
   "source": [
    "df.drop(columns=['Process', 'Temperature', 'Induction']).reset_index(drop=True)"
   ]
  }
 ],
 "metadata": {
  "kernelspec": {
   "display_name": "main",
   "language": "python",
   "name": "python3"
  },
  "language_info": {
   "codemirror_mode": {
    "name": "ipython",
    "version": 3
   },
   "file_extension": ".py",
   "mimetype": "text/x-python",
   "name": "python",
   "nbconvert_exporter": "python",
   "pygments_lexer": "ipython3",
   "version": "3.10.12"
  }
 },
 "nbformat": 4,
 "nbformat_minor": 2
}
