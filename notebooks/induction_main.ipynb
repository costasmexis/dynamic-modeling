{
 "cells": [
  {
   "cell_type": "code",
   "execution_count": 301,
   "metadata": {},
   "outputs": [
    {
     "name": "stdout",
     "output_type": "stream",
     "text": [
      "The autoreload extension is already loaded. To reload it, use:\n",
      "  %reload_ext autoreload\n"
     ]
    }
   ],
   "source": [
    "import sys\n",
    "sys.path.append('../')\n",
    "\n",
    "import matplotlib.pyplot as plt\n",
    "import numpy as np\n",
    "import pandas as pd\n",
    "\n",
    "from src.induction_pinn import PINN, numpy_to_tensor, train\n",
    "from src.utils import get_data_and_feed\n",
    "from typing import Optional, Union\n",
    "from scipy.integrate import solve_ivp\n",
    "\n",
    "import torch\n",
    "import torch.nn as nn\n",
    "from tqdm import tqdm \n",
    "\n",
    "pd.options.mode.chained_assignment = None\n",
    "\n",
    "np.set_printoptions(precision=4)\n",
    "\n",
    "%load_ext autoreload\n",
    "%autoreload 2"
   ]
  },
  {
   "cell_type": "code",
   "execution_count": 302,
   "metadata": {},
   "outputs": [],
   "source": [
    "def plot_feed(feeds):\n",
    "    fig, ax = plt.subplots(figsize=(10, 5))\n",
    "    ax.bar(feeds['Time'], feeds['F'], width=feeds['Duration'], align='edge')\n",
    "    ax.set_xlabel('Time (h)')\n",
    "    ax.set_ylabel('Feed (mL/h)')\n",
    "    ax.set_title('Feed vs Time')\n",
    "    plt.show()\n",
    "    \n",
    "def plot_simulation(t: Optional[list] = None, y: Optional[list] = None, full_df: Optional[pd.DataFrame] = None, train_df: Optional[pd.DataFrame] = None, net_df: Optional[pd.DataFrame] = None, title: Optional[str] = None):\n",
    "    fig, (ax1, ax2) = plt.subplots(2, 1, figsize=(10, 10))\n",
    "    \n",
    "    if t is not None and y is not None:\n",
    "        ax1.plot(t, y[0], label='Biomass (ODE)', alpha=0.6)\n",
    "        ax1.plot(t, y[1], label='Glucose (ODE)', alpha=0.6)\n",
    "        # ax2.plot(t, y[2], label='Protein (ODE)', alpha=0.6)\n",
    "    \n",
    "    if full_df is not None:\n",
    "        ax1.scatter(full_df['RTime'], full_df['Glucose'], label='Glucose (EXP)', color='red', alpha=0.2)   \n",
    "        ax1.scatter(full_df['RTime'], full_df['Biomass'], label='Biomass (EXP)', color='green', alpha=0.2)\n",
    "        ax2.scatter(full_df['RTime'], full_df['Protein'], label='Protein (EXP)', color='blue', alpha=0.2)\n",
    "    \n",
    "    if train_df is not None:\n",
    "        ax1.scatter(train_df['RTime'], train_df['Glucose'], label='Glucose (Train)', color='red', alpha=1)   \n",
    "        ax1.scatter(train_df['RTime'], train_df['Biomass'], label='Biomass (Train)', color='green', alpha=1)\n",
    "        ax2.scatter(train_df['RTime'], train_df['Protein'], label='Protein (Train)', color='blue', alpha=1)\n",
    "    \n",
    "    if net_df is not None:\n",
    "        ax1.scatter(net_df['RTime'], net_df['Glucose'], label='Glucose (Predicted)', marker='x', color='red', alpha=0.5)\n",
    "        ax1.scatter(net_df['RTime'], net_df['Biomass'], label='Biomass (Predicted)', marker='x', color='green', alpha=0.5)\n",
    "        # ax2.scatter(net_df['RTime'], net_df['Protein'], label='Protein (Predicted)', marker='x', color='blue', alpha=0.5)\n",
    "\n",
    "    ax1.set_xlabel(\"Time (hours)\")\n",
    "    ax1.set_ylabel(\"Concentration\")\n",
    "    ax1.legend()\n",
    "    \n",
    "    ax2.set_xlabel(\"Time (hours)\")\n",
    "    ax2.set_ylabel(\"Concentration\")\n",
    "    ax2.legend()\n",
    "    \n",
    "    plt.title(title)\n",
    "    plt.show()\n",
    " \n",
    "def get_feed(feeds: pd.DataFrame, time: float) -> float:\n",
    "    for _, row in feeds.iterrows():\n",
    "        start_time = row[\"Time\"]\n",
    "        end_time = row[\"Time\"] + row[\"Duration\"]\n",
    "        if start_time <= time < end_time:\n",
    "            return row[\"F\"] / 1000\n",
    "    return 0\n",
    "\n",
    "def simulate(df: pd.DataFrame, feeds: pd.DataFrame, \\\n",
    "             mu_max, Ks, Yxs, c1, c2, plot: bool = True):\n",
    "    \n",
    "    mu_max = mu_max\n",
    "    Ks = Ks\n",
    "    Yxs = Yxs\n",
    "    Sin = 1.43 * 200\n",
    "\n",
    "    def alpha(t):\n",
    "        return c1 * (1 - np.exp(-c2 * t**2))\n",
    "\n",
    "    def system_ode(t, y):\n",
    "        X, S, P, V = y\n",
    "        mu = mu_max * S / (Ks + S)\n",
    "        F = get_feed(feeds, t)\n",
    "        dXdt = mu * X + F * X / V\n",
    "        dSdt = - mu * X / Yxs + F * (Sin - S) / V\n",
    "        dPdt = alpha(t) * X - P * F / V\n",
    "        dVdt = F\n",
    "        return [dXdt, dSdt, dPdt, dVdt]\n",
    "    \n",
    "    t_start, t_end = df['RTime'].min(), df['RTime'].max()\n",
    "    t_span = (t_start, t_end)\n",
    "    y0 = [df['Biomass'].iloc[0], df['Glucose'].iloc[0], \\\n",
    "          df['Protein'].iloc[0], df['V'].iloc[0]]\n",
    "\n",
    "    t_eval = np.linspace(t_start, t_end, 10000)\n",
    "    sol = solve_ivp(system_ode, t_span=t_span, \\\n",
    "        y0=y0, t_eval=t_eval)\n",
    "    \n",
    "    if plot:\n",
    "        plot_simulation(sol.t, sol.y, full_df=df)\n",
    "\n",
    "    for i in range(sol.y.shape[0]):\n",
    "        sol.y[i][sol.y[i] < 0] = 0\n",
    "\n",
    "    return sol\n",
    "\n",
    "def get_predictions_df(net: nn.Module, df: pd.DataFrame):\n",
    "    net_df = pd.DataFrame(columns=['RTime', 'Biomass', 'Glucose'])\n",
    "    t_test = df['RTime'].values\n",
    "    t_test = numpy_to_tensor(t_test)\n",
    "    net_df[\"RTime\"] = df[\"RTime\"].values\n",
    "    net_df[\"Biomass\"] = net.forward(t_test).detach().cpu().numpy()[:, 0]\n",
    "    net_df[\"Glucose\"] = net.forward(t_test).detach().cpu().numpy()[:, 1]\n",
    "    net_df[\"V\"] = net.forward(t_test).detach().cpu().numpy()[:, 2]\n",
    "    # net_df[\"Protein\"] = net.forward(t_test).detach().cpu().numpy()[:, 2]\n",
    "    net_df.loc[net_df['Glucose'] < 0, 'Glucose'] = 0\n",
    "    return net_df"
   ]
  },
  {
   "cell_type": "code",
   "execution_count": 303,
   "metadata": {},
   "outputs": [
    {
     "name": "stdout",
     "output_type": "stream",
     "text": [
      "Dataset shape: (6, 8)\n"
     ]
    }
   ],
   "source": [
    "FILENAME = '../data/data_processed.xlsx'\n",
    "EXPERIMENT = 'BR04'\n",
    "\n",
    "df, feeds = get_data_and_feed(FILENAME, EXPERIMENT)\n",
    "\n",
    "# Only FED-BATCH-INDUCTION data\n",
    "df = df[df['Process'] == 'FBI']\n",
    "feeds = feeds[feeds['Induction']==1]\n",
    "\n",
    "print(f'Dataset shape: {df.shape}')"
   ]
  },
  {
   "cell_type": "code",
   "execution_count": 304,
   "metadata": {},
   "outputs": [],
   "source": [
    "def main(df: pd.DataFrame, num_epochs: int = 2500):\n",
    "    t_start, t_end = df['RTime'].min(), df['RTime'].max()\n",
    "\n",
    "    t_train = numpy_to_tensor(df['RTime'].values)\n",
    "    Biomass_train = numpy_to_tensor(df['Biomass'].values)\n",
    "    Glucose_train = numpy_to_tensor(df['Glucose'].values)\n",
    "    Protein_train = numpy_to_tensor(df['Protein'].values)\n",
    "    V_train = numpy_to_tensor(df['V'].values)\n",
    "    u_train = torch.cat((Biomass_train, Glucose_train, V_train), 1)\n",
    "\n",
    "    net = PINN(input_dim=1, output_dim=3, t_start=t_start, t_end=t_end)\n",
    "\n",
    "    net = train(net, t_train, u_train, df, feeds, \\\n",
    "                num_epochs=num_epochs, verbose=True)\n",
    "\n",
    "    net_df = get_predictions_df(net, df)     \n",
    "\n",
    "    sol = simulate(df, feeds, net.mu_max.item(), net.K_s.item(), net.Y_xs.item(), \\\n",
    "               c1=net.c1.item(), c2=net.c2.item(), plot=False)\n",
    "\n",
    "    title = f'c1 = {net.c1.item():.4f}, c2 = {net.c2.item():.4f}'\n",
    "    plot_simulation(full_df=df, net_df=net_df, t=sol.t, y=sol.y, title=title)\n",
    "    \n",
    "    return net, net_df"
   ]
  },
  {
   "cell_type": "code",
   "execution_count": 305,
   "metadata": {},
   "outputs": [],
   "source": [
    "def V(t):\n",
    "    return 31/1000 * (t-9.933333) + 1.422819\n",
    "\n",
    "df['V'] = V(df['RTime'])"
   ]
  },
  {
   "cell_type": "code",
   "execution_count": 306,
   "metadata": {},
   "outputs": [
    {
     "data": {
      "text/html": [
       "<div>\n",
       "<style scoped>\n",
       "    .dataframe tbody tr th:only-of-type {\n",
       "        vertical-align: middle;\n",
       "    }\n",
       "\n",
       "    .dataframe tbody tr th {\n",
       "        vertical-align: top;\n",
       "    }\n",
       "\n",
       "    .dataframe thead th {\n",
       "        text-align: right;\n",
       "    }\n",
       "</style>\n",
       "<table border=\"1\" class=\"dataframe\">\n",
       "  <thead>\n",
       "    <tr style=\"text-align: right;\">\n",
       "      <th></th>\n",
       "      <th>Process</th>\n",
       "      <th>RTime</th>\n",
       "      <th>Glucose</th>\n",
       "      <th>Biomass</th>\n",
       "      <th>Protein</th>\n",
       "      <th>Temperature</th>\n",
       "      <th>Induction</th>\n",
       "      <th>V</th>\n",
       "    </tr>\n",
       "  </thead>\n",
       "  <tbody>\n",
       "    <tr>\n",
       "      <th>BR04</th>\n",
       "      <td>FBI</td>\n",
       "      <td>9.933333</td>\n",
       "      <td>0.000</td>\n",
       "      <td>30.714286</td>\n",
       "      <td>0.092910</td>\n",
       "      <td>33</td>\n",
       "      <td>1</td>\n",
       "      <td>1.422819</td>\n",
       "    </tr>\n",
       "    <tr>\n",
       "      <th>BR04</th>\n",
       "      <td>FBI</td>\n",
       "      <td>11.033333</td>\n",
       "      <td>0.061</td>\n",
       "      <td>31.585714</td>\n",
       "      <td>0.171464</td>\n",
       "      <td>33</td>\n",
       "      <td>1</td>\n",
       "      <td>1.456919</td>\n",
       "    </tr>\n",
       "    <tr>\n",
       "      <th>BR04</th>\n",
       "      <td>FBI</td>\n",
       "      <td>11.966667</td>\n",
       "      <td>0.000</td>\n",
       "      <td>32.960714</td>\n",
       "      <td>0.194065</td>\n",
       "      <td>33</td>\n",
       "      <td>1</td>\n",
       "      <td>1.485852</td>\n",
       "    </tr>\n",
       "    <tr>\n",
       "      <th>BR04</th>\n",
       "      <td>FBI</td>\n",
       "      <td>12.966667</td>\n",
       "      <td>0.000</td>\n",
       "      <td>33.563095</td>\n",
       "      <td>0.222978</td>\n",
       "      <td>33</td>\n",
       "      <td>1</td>\n",
       "      <td>1.516852</td>\n",
       "    </tr>\n",
       "    <tr>\n",
       "      <th>BR04</th>\n",
       "      <td>FBI</td>\n",
       "      <td>14.050000</td>\n",
       "      <td>0.006</td>\n",
       "      <td>33.396429</td>\n",
       "      <td>0.298919</td>\n",
       "      <td>33</td>\n",
       "      <td>1</td>\n",
       "      <td>1.550436</td>\n",
       "    </tr>\n",
       "    <tr>\n",
       "      <th>BR04</th>\n",
       "      <td>FBI</td>\n",
       "      <td>14.933333</td>\n",
       "      <td>0.000</td>\n",
       "      <td>34.017857</td>\n",
       "      <td>0.387269</td>\n",
       "      <td>33</td>\n",
       "      <td>1</td>\n",
       "      <td>1.577819</td>\n",
       "    </tr>\n",
       "  </tbody>\n",
       "</table>\n",
       "</div>"
      ],
      "text/plain": [
       "     Process      RTime  Glucose    Biomass   Protein  Temperature  Induction  \\\n",
       "BR04     FBI   9.933333    0.000  30.714286  0.092910           33          1   \n",
       "BR04     FBI  11.033333    0.061  31.585714  0.171464           33          1   \n",
       "BR04     FBI  11.966667    0.000  32.960714  0.194065           33          1   \n",
       "BR04     FBI  12.966667    0.000  33.563095  0.222978           33          1   \n",
       "BR04     FBI  14.050000    0.006  33.396429  0.298919           33          1   \n",
       "BR04     FBI  14.933333    0.000  34.017857  0.387269           33          1   \n",
       "\n",
       "             V  \n",
       "BR04  1.422819  \n",
       "BR04  1.456919  \n",
       "BR04  1.485852  \n",
       "BR04  1.516852  \n",
       "BR04  1.550436  \n",
       "BR04  1.577819  "
      ]
     },
     "execution_count": 306,
     "metadata": {},
     "output_type": "execute_result"
    }
   ],
   "source": [
    "df"
   ]
  },
  {
   "cell_type": "code",
   "execution_count": 307,
   "metadata": {},
   "outputs": [
    {
     "name": "stderr",
     "output_type": "stream",
     "text": [
      "  0%|          | 0/5000 [00:00<?, ?it/s]"
     ]
    },
    {
     "name": "stdout",
     "output_type": "stream",
     "text": [
      "V_data_loss: 1.5160189867019653\n",
      "V_IC_loss: 1.386703372001648\n",
      "tensor([0.2452, 0.2562, 0.2660, 0.2763, 0.2870, 0.2954],\n",
      "       grad_fn=<SelectBackward0>)\n"
     ]
    },
    {
     "name": "stderr",
     "output_type": "stream",
     "text": [
      " 20%|██        | 1011/5000 [00:18<01:07, 58.91it/s]"
     ]
    },
    {
     "name": "stdout",
     "output_type": "stream",
     "text": [
      "V_data_loss: 0.23678801953792572\n",
      "V_IC_loss: 0.020966196432709694\n",
      "tensor([1.5676, 1.7305, 1.8689, 2.0172, 2.1778, 2.3088],\n",
      "       grad_fn=<SelectBackward0>)\n"
     ]
    },
    {
     "name": "stderr",
     "output_type": "stream",
     "text": [
      " 40%|████      | 2007/5000 [00:36<00:48, 61.33it/s]"
     ]
    },
    {
     "name": "stdout",
     "output_type": "stream",
     "text": [
      "V_data_loss: 0.13064147531986237\n",
      "V_IC_loss: 0.0018005210440605879\n",
      "tensor([1.4653, 1.6160, 1.7439, 1.8810, 2.0295, 2.1506],\n",
      "       grad_fn=<SelectBackward0>)\n"
     ]
    },
    {
     "name": "stderr",
     "output_type": "stream",
     "text": [
      " 60%|██████    | 3011/5000 [00:53<00:33, 58.63it/s]"
     ]
    },
    {
     "name": "stdout",
     "output_type": "stream",
     "text": [
      "V_data_loss: 0.12879933416843414\n",
      "V_IC_loss: 0.001963923219591379\n",
      "tensor([1.4671, 1.6165, 1.7431, 1.8788, 2.0257, 2.1456],\n",
      "       grad_fn=<SelectBackward0>)\n"
     ]
    },
    {
     "name": "stderr",
     "output_type": "stream",
     "text": [
      " 80%|████████  | 4011/5000 [01:11<00:16, 59.01it/s]"
     ]
    },
    {
     "name": "stdout",
     "output_type": "stream",
     "text": [
      "V_data_loss: 0.13409341871738434\n",
      "V_IC_loss: 0.0030636561568826437\n",
      "tensor([1.4782, 1.6268, 1.7527, 1.8875, 2.0336, 2.1528],\n",
      "       grad_fn=<SelectBackward0>)\n"
     ]
    },
    {
     "name": "stderr",
     "output_type": "stream",
     "text": [
      "100%|██████████| 5000/5000 [01:29<00:00, 56.10it/s]\n"
     ]
    },
    {
     "data": {
      "image/png": "[encoded data removed]",
      "text/plain": [
       "<Figure size 1000x1000 with 2 Axes>"
      ]
     },
     "metadata": {},
     "output_type": "display_data"
    }
   ],
   "source": [
    "net, net_df = main(df, num_epochs=5000)"
   ]
  }
 ],
 "metadata": {
  "kernelspec": {
   "display_name": "main",
   "language": "python",
   "name": "python3"
  },
  "language_info": {
   "codemirror_mode": {
    "name": "ipython",
    "version": 3
   },
   "file_extension": ".py",
   "mimetype": "text/x-python",
   "name": "python",
   "nbconvert_exporter": "python",
   "pygments_lexer": "ipython3",
   "version": "3.10.12"
  }
 },
 "nbformat": 4,
 "nbformat_minor": 2
}
