{
 "cells": [
  {
   "cell_type": "code",
   "execution_count": 2,
   "metadata": {},
   "outputs": [],
   "source": [
    "%load_ext autoreload\n",
    "%autoreload 2"
   ]
  },
  {
   "cell_type": "code",
   "execution_count": null,
   "metadata": {},
   "outputs": [],
   "source": [
    "import numpy as np\n",
    "from machinelearning import main\n",
    "from system_ode import GetDataset\n",
    "from sklearn.metrics import mean_squared_error\n",
    "import torch\n",
    "\n",
    "# set seed for reproducibility\n",
    "np.random.seed(0)\n",
    "\n",
    "first_point = 15\n",
    "last_point = 20\n",
    "\n",
    "# Get dataset\n",
    "full_df = GetDataset(alpha=[0.3, 0.5, 0.1], noise=True)\n",
    "# Specify train dataset\n",
    "train_df = full_df[first_point:last_point].copy()\n",
    "print(f'Train dataset shape: {train_df.shape}')\n",
    "\n",
    "net_A, u_pred_A, error_P_A, error_dP_A = main(train_df, full_df, num_epochs=50000, model='A', t_start=train_df['RTime'].values[0], t_end=train_df['RTime'].values[-1])  \n",
    "net_B, u_pred_B, error_P_B, error_dP_B = main(train_df, full_df, num_epochs=50000, model='B', t_start=train_df['RTime'].values[0], t_end=train_df['RTime'].values[-1])  \n",
    "net_C, u_pred_C, error_P_C, error_dP_C = main(train_df, full_df, num_epochs=50000, model='C', t_start=train_df['RTime'].values[0], t_end=train_df['RTime'].values[-1])  \n",
    "\n",
    "# Save trained torch model\n",
    "torch.save(net_A, f'./output/net_A_{first_point}-{last_point}.pth')\n",
    "torch.save(net_B, f'./output/net_B_{first_point}-{last_point}.pth')\n",
    "torch.save(net_C, f'./output/net_C_{first_point}-{last_point}.pth')\n",
    "\n",
    "# Save predictions \n",
    "u_pred_A.to_csv(f'./output/u_pred_A_{first_point}-{last_point}.csv', index=False)\n",
    "u_pred_B.to_csv(f'./output/u_pred_B_{first_point}-{last_point}.csv', index=False)\n",
    "u_pred_C.to_csv(f'./output/u_pred_C_{first_point}-{last_point}.csv', index=False)\n",
    "\n",
    "with open(f'./output/report_{first_point}-{last_point}.txt', 'w') as report_file:\n",
    "    report_file.write('Model A\\n')\n",
    "    report_file.write(f' * MSE P = {error_P_A:.4f}\\n')\n",
    "    report_file.write(f' * MSE dP = {error_dP_A:.4f}\\n')\n",
    "    report_file.write(f' * mu_max = {net_A.mu_max.item():.4f}\\n')\n",
    "    report_file.write(f' * alpha = {net_A.alpha.item():.4f}\\n')\n",
    "\n",
    "    report_file.write('Model B\\n')\n",
    "    report_file.write(f' * MSE P = {error_P_B:.4f}\\n')\n",
    "    report_file.write(f' * MSE dP = {error_dP_B:.4f}\\n')\n",
    "    report_file.write(f' * mu_max = {net_B.mu_max.item():.4f}\\n')\n",
    "    report_file.write(f' * alpha = {net_B.alpha.item():.4f}\\n')\n",
    "\n",
    "    report_file.write('Model C\\n')\n",
    "    report_file.write(f' * MSE P = {error_P_C:.4f}\\n')\n",
    "    report_file.write(f' * MSE dP = {error_dP_C:.4f}\\n')\n",
    "    report_file.write(f' * mu_max = {net_C.mu_max.item():.4f}\\n')\n",
    "    report_file.write(f' * alpha = {net_C.alpha.item():.4f}\\n')\n",
    "    report_file.write(f' * beta = {net_C.beta.item():.4f}\\n')\n",
    "\n"
   ]
  }
 ],
 "metadata": {
  "kernelspec": {
   "display_name": "main",
   "language": "python",
   "name": "python3"
  },
  "language_info": {
   "codemirror_mode": {
    "name": "ipython",
    "version": 3
   },
   "file_extension": ".py",
   "mimetype": "text/x-python",
   "name": "python",
   "nbconvert_exporter": "python",
   "pygments_lexer": "ipython3",
   "version": "3.10.12"
  }
 },
 "nbformat": 4,
 "nbformat_minor": 2
}
