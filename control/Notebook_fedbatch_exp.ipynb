{
 "cells": [
  {
   "cell_type": "code",
   "execution_count": 78,
   "metadata": {},
   "outputs": [
    {
     "name": "stdout",
     "output_type": "stream",
     "text": [
      "The autoreload extension is already loaded. To reload it, use:\n",
      "  %reload_ext autoreload\n"
     ]
    }
   ],
   "source": [
    "%load_ext autoreload\n",
    "%autoreload 2"
   ]
  },
  {
   "cell_type": "code",
   "execution_count": 79,
   "metadata": {},
   "outputs": [
    {
     "name": "stdout",
     "output_type": "stream",
     "text": [
      "Using device: cuda\n"
     ]
    }
   ],
   "source": [
    "import sys\n",
    "\n",
    "sys.path.append(\"../\")\n",
    "\n",
    "import os\n",
    "\n",
    "import matplotlib.pyplot as plt\n",
    "import numpy as np\n",
    "import pandas as pd\n",
    "import torch\n",
    "from machinelearning_control_fedbatch import generate_dataset, main\n",
    "\n",
    "from src.utils import get_data_and_feed, plot_experiment\n",
    "\n",
    "FILENAME = '../data/data_processed.xlsx'\n",
    "EXPERIMENT = 'BR01'\n",
    "S_IN = 1.43 * 200\n",
    "\n",
    "np.set_printoptions(suppress=True)\n",
    "torch.set_printoptions(sci_mode=False)\n",
    "\n",
    "device = torch.device(\"cuda\" if torch.cuda.is_available() else \"cpu\")\n",
    "print(f'Using device: {device}')"
   ]
  },
  {
   "cell_type": "code",
   "execution_count": null,
   "metadata": {},
   "outputs": [],
   "source": [
    "full_df, feeds = get_data_and_feed(\n",
    "    file_name=FILENAME, experiment=EXPERIMENT, keep_only=\"FB\"\n",
    ")\n",
    "\n",
    "full_df['Biomass'].iloc[1] = 5.0\n",
    "\n",
    "# add new line to full_df to simulate an extra data point\n",
    "new_row = pd.DataFrame([{\"Process\": \"FB\", \"RTime\": 5.85, \"V\": 1.56, \"Biomass\": 5.8, \"Glucose\": 0.013, \"Protein\": 0.0}])\n",
    "full_df = pd.concat([full_df, new_row], ignore_index=True)\n",
    "full_df.sort_values(by=\"RTime\", inplace=True)\n",
    "\n",
    "T_FB = full_df[\"RTime\"].iloc[0] # Time of fed-batch\n",
    "T_START = 0\n",
    "T_END = full_df[\"RTime\"].iloc[-1] - T_FB  # End of experiment\n",
    "\n",
    "# inlet flowrate\n",
    "def Fs(t):\n",
    "    if t <= 4.73 - T_FB:\n",
    "        return 0.017\n",
    "    elif t <= 7.33 - T_FB:\n",
    "        return 0.031\n",
    "    elif t <= 9.17 - T_FB:\n",
    "        return 0.060\n",
    "    elif t <= 9.78 - T_FB:\n",
    "        return 0.031\n",
    "    else:\n",
    "        return 0.017\n",
    "\n",
    "# Get initial volume\n",
    "V0 = full_df[\"V\"].iloc[0]\n",
    "\n",
    "# Normalize time\n",
    "full_df[\"RTime\"] = full_df[\"RTime\"] - T_FB\n",
    "feeds[\"Time\"] = feeds[\"Time\"] - T_FB\n",
    "\n",
    "print(f\"Dataset shape: {full_df.shape}\")\n",
    "\n",
    "plot_experiment(full_df, title='')"
   ]
  },
  {
   "cell_type": "code",
   "execution_count": null,
   "metadata": {},
   "outputs": [],
   "source": [
    "from scipy.interpolate import interp1d\n",
    "\n",
    "# Define the new RTime points for interpolation\n",
    "new_RTime = np.arange(0, 6, 0.5)\n",
    "\n",
    "# Create interpolation functions for V, Biomass, and Glucose\n",
    "interp_V = interp1d(full_df['RTime'], full_df['V'], kind='linear', fill_value='extrapolate')\n",
    "interp_Biomass = interp1d(full_df['RTime'], full_df['Biomass'], kind='linear', fill_value='extrapolate')\n",
    "interp_Glucose = interp1d(full_df['RTime'], full_df['Glucose'], kind='linear', fill_value='extrapolate')\n",
    "\n",
    "# Interpolate the values at new RTime points\n",
    "new_V = interp_V(new_RTime)\n",
    "new_Biomass = interp_Biomass(new_RTime)\n",
    "new_Glucose = interp_Glucose(new_RTime)\n",
    "\n",
    "# Create a DataFrame for the interpolated results\n",
    "full_df = pd.DataFrame({\n",
    "    'RTime': new_RTime,\n",
    "    'V': new_V,\n",
    "    'Biomass': new_Biomass,\n",
    "    'Glucose': new_Glucose,\n",
    "    'Induction': [0] * len(new_RTime)\n",
    "})\n",
    "\n",
    "plot_experiment(full_df, title='Interpolated data')"
   ]
  },
  {
   "cell_type": "code",
   "execution_count": null,
   "metadata": {},
   "outputs": [],
   "source": [
    "full_df[['RTime', 'Biomass', 'Glucose', 'V']].describe().T[['min', 'max', 'mean']]"
   ]
  },
  {
   "cell_type": "code",
   "execution_count": null,
   "metadata": {},
   "outputs": [],
   "source": [
    "# Get dataset (multiple initial conditions)\n",
    "in_train, out_train = generate_dataset(data=full_df, num_points=1000)"
   ]
  },
  {
   "cell_type": "code",
   "execution_count": null,
   "metadata": {},
   "outputs": [],
   "source": [
    "# parameter values\n",
    "mumax = 0.7267     # 1/hour\n",
    "Ks = 0.1634          # g/liter\n",
    "Yxs = 0.3983         # g/g\n",
    "Sin = 1.43 * 200  # g/liter\n",
    "\n",
    "t_start = full_df['RTime'].iloc[0]\n",
    "t_end = full_df['RTime'].iloc[-1]\n",
    "\n",
    "# initial conditions\n",
    "V0 = full_df['V'].iloc[0]\n",
    "S0 = full_df['Glucose'].iloc[0]\n",
    "X0 = full_df['Biomass'].iloc[0]\n",
    "\n",
    "print(f'T_start = {t_start}')\n",
    "print(f'T_end = {t_end}')"
   ]
  },
  {
   "cell_type": "code",
   "execution_count": null,
   "metadata": {},
   "outputs": [],
   "source": [
    "if os.path.exists('pinc_trained_exp.pth'):\n",
    "    net = torch.load(\"pinc_trained_exp.pth\")\n",
    "    print('Model loaded')\n",
    "else:\n",
    "    # Train network\n",
    "    net = main(full_df, in_train, out_train, t_start, t_end, Sin, mumax, Ks, Yxs, verbose=10)\n",
    "    torch.save(net, \"pinc_trained_exp.pth\")"
   ]
  },
  {
   "cell_type": "markdown",
   "metadata": {},
   "source": [
    "# Autoregression"
   ]
  },
  {
   "cell_type": "code",
   "execution_count": 80,
   "metadata": {},
   "outputs": [
    {
     "data": {
      "text/plain": [
       "PINN(\n",
       "  (input): Linear(in_features=5, out_features=128, bias=True)\n",
       "  (fc1): Linear(in_features=128, out_features=1024, bias=True)\n",
       "  (fc2): Linear(in_features=1024, out_features=1024, bias=True)\n",
       "  (fc3): Linear(in_features=1024, out_features=128, bias=True)\n",
       "  (output): Linear(in_features=128, out_features=3, bias=True)\n",
       ")"
      ]
     },
     "execution_count": 80,
     "metadata": {},
     "output_type": "execute_result"
    }
   ],
   "source": [
    "# Load the trained net\n",
    "net = torch.load(\"pinc_trained_exp_v1.pth\")\n",
    "net"
   ]
  },
  {
   "cell_type": "code",
   "execution_count": 81,
   "metadata": {},
   "outputs": [],
   "source": [
    "import torch\n",
    "from machinelearning_control_fedbatch import numpy_to_tensor\n",
    "\n",
    "DEVICE = torch.device(\"cuda\" if torch.cuda.is_available() else \"cpu\")\n",
    "\n",
    "full_df['F'] = full_df['RTime'].apply(Fs)\n",
    "\n",
    "T_s = 0.5\n",
    "t_test = numpy_to_tensor(np.array([full_df[\"RTime\"].values]))\n",
    "X_test = numpy_to_tensor(np.array([full_df[\"Biomass\"].values]))\n",
    "S_test = numpy_to_tensor(np.array([full_df[\"Glucose\"].values]))\n",
    "V_test = numpy_to_tensor(np.array([full_df[\"V\"].values]))\n",
    "F_test = numpy_to_tensor(np.array([full_df[\"F\"].values]))\n",
    "u_test = torch.cat([t_test, X_test, S_test, F_test], dim=1)\n",
    "x_test = torch.cat([X_test, S_test], dim=1)"
   ]
  },
  {
   "cell_type": "code",
   "execution_count": 82,
   "metadata": {},
   "outputs": [],
   "source": [
    "X_0 = X_test[0]\n",
    "S_0 = S_test[0]\n",
    "V_0 = V_test[0]\n",
    "F_0 = F_test[0]\n",
    "\n",
    "X_preds = []\n",
    "S_preds = []\n",
    "V_preds = []\n",
    "\n",
    "for i in range(len(u_test)):\n",
    "\n",
    "    if i == 0:\n",
    "        X_preds.append(X_0.item())\n",
    "        S_preds.append(S_0.item())\n",
    "        V_preds.append(V_0.item())\n",
    "        continue\n",
    "\n",
    "    x_k = net.forward(torch.tensor([T_s, X_0, S_0, V_0, F_0], dtype=torch.float32).to(DEVICE))\n",
    "    X_0 = X_test[i]\n",
    "    S_0 = S_test[i]\n",
    "    V_0 = V_test[i]\n",
    "    F_0 = F_test[i]\n",
    "    X_preds.append(x_k[0].item())\n",
    "    S_preds.append(x_k[1].item())\n",
    "    V_preds.append(x_k[2].item())"
   ]
  },
  {
   "cell_type": "code",
   "execution_count": 83,
   "metadata": {},
   "outputs": [],
   "source": [
    "t_test = t_test.detach().cpu().numpy()\n",
    "X_test = X_test.detach().cpu().numpy()\n",
    "S_test = S_test.detach().cpu().numpy()\n",
    "V_test = V_test.detach().cpu().numpy()"
   ]
  },
  {
   "cell_type": "code",
   "execution_count": 84,
   "metadata": {},
   "outputs": [
    {
     "data": {
      "image/png": "[encoded data removed]",
      "text/plain": [
       "<Figure size 1000x500 with 2 Axes>"
      ]
     },
     "metadata": {},
     "output_type": "display_data"
    }
   ],
   "source": [
    "plt.figure(figsize=(10, 5))\n",
    "plt.scatter(t_test, X_test, s=10, label=\"X\")\n",
    "plt.scatter(t_test, S_test, s=10, label=\"S\")\n",
    "\n",
    "plt.plot(t_test, X_preds, marker='x', label=\"X_pred\")\n",
    "plt.plot(t_test, S_preds, marker='x', label=\"S_pred\")\n",
    "plt.ylabel(\"Concentration (g/L)\")\n",
    "plt.legend(loc=\"best\") \n",
    "\n",
    "# Add vertical lines for feed\n",
    "for i in range(len(feeds)):\n",
    "    plt.axvline(x=feeds[\"Time\"].iloc[i], color='b', alpha=0.2, linestyle='--')\n",
    "\n",
    "# plot the feed rate in secondary y-axis\n",
    "plt.twinx()\n",
    "t_f = np.linspace(0, 5.5, 1000)\n",
    "plt.plot(t_f, [Fs(t) for t in t_f], color='gray', alpha=0.5)\n",
    "plt.ylabel(\"Flow rate (L/h)\")\n",
    "\n",
    "plt.xticks(np.arange(0, 6, 0.5))\n",
    "plt.xlabel(\"Time (h)\")\n",
    "plt.show()"
   ]
  },
  {
   "cell_type": "code",
   "execution_count": null,
   "metadata": {},
   "outputs": [],
   "source": []
  }
 ],
 "metadata": {
  "kernelspec": {
   "display_name": "main",
   "language": "python",
   "name": "python3"
  },
  "language_info": {
   "codemirror_mode": {
    "name": "ipython",
    "version": 3
   },
   "file_extension": ".py",
   "mimetype": "text/x-python",
   "name": "python",
   "nbconvert_exporter": "python",
   "pygments_lexer": "ipython3",
   "version": "3.10.12"
  }
 },
 "nbformat": 4,
 "nbformat_minor": 2
}
