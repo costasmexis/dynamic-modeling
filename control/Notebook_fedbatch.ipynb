{
 "cells": [
  {
   "cell_type": "code",
   "execution_count": 1,
   "metadata": {},
   "outputs": [],
   "source": [
    "%load_ext autoreload\n",
    "%autoreload 2"
   ]
  },
  {
   "cell_type": "code",
   "execution_count": 18,
   "metadata": {},
   "outputs": [],
   "source": [
    "import sys\n",
    "\n",
    "sys.path.append(\"../\")\n",
    "\n",
    "import pandas as pd\n",
    "import numpy as np\n",
    "import matplotlib.pyplot as plt\n",
    "import torch\n",
    "\n",
    "from system_ode_fedbatch import generate_data\n",
    "from machinelearning_control_fedbatch import main, generate_dataset\n",
    "\n",
    "np.set_printoptions(suppress=True)\n",
    "torch.set_printoptions(sci_mode=False)"
   ]
  },
  {
   "cell_type": "code",
   "execution_count": 3,
   "metadata": {},
   "outputs": [
    {
     "data": {
      "image/png": "[encoded data removed]",
      "text/plain": [
       "<Figure size 1200x400 with 1 Axes>"
      ]
     },
     "metadata": {},
     "output_type": "display_data"
    }
   ],
   "source": [
    "full_df = generate_data()\n",
    "\n",
    "plt.figure(figsize=(12, 4))\n",
    "plt.scatter(full_df['RTime'], full_df['Biomass'], s=10, label='Biomass')\n",
    "plt.scatter(full_df['RTime'], full_df['Glucose'], s=10, label='Glucose')\n",
    "for i in range(1, len(full_df)):\n",
    "    if full_df[\"F\"].iloc[i] != full_df[\"F\"].iloc[i - 1]:\n",
    "        plt.axvline(x=full_df[\"RTime\"].iloc[i], color='black', linestyle='--', linewidth=0.5)\n",
    "plt.xlabel('Time (h)')\n",
    "plt.ylabel('Concentration (g/L)')\n",
    "plt.legend()\n",
    "plt.title('Experimental data')\n",
    "plt.show()"
   ]
  },
  {
   "cell_type": "code",
   "execution_count": 4,
   "metadata": {},
   "outputs": [
    {
     "name": "stdout",
     "output_type": "stream",
     "text": [
      "Dataset shape: (25, 4)\n"
     ]
    }
   ],
   "source": [
    "# Get dataset (multiple initial conditions)\n",
    "in_train, out_train = generate_dataset(full_df)"
   ]
  },
  {
   "cell_type": "code",
   "execution_count": 6,
   "metadata": {},
   "outputs": [
    {
     "name": "stdout",
     "output_type": "stream",
     "text": [
      "T_start = 0.0\n",
      "T_end = 10.5\n"
     ]
    }
   ],
   "source": [
    "# parameter values\n",
    "mumax = 0.84     # 1/hour\n",
    "Ks = 0.2          # g/liter\n",
    "Yxs = 0.5         # g/g\n",
    "Sin = 1.43 * 200  # g/liter\n",
    "\n",
    "# initial conditions\n",
    "t_start = full_df['RTime'].iloc[0]\n",
    "t_end = full_df['RTime'].iloc[-1]\n",
    "V0 = full_df['V'].iloc[0]\n",
    "S0 = full_df['Glucose'].iloc[0]\n",
    "X0 = full_df['Biomass'].iloc[0]\n",
    "\n",
    "print(f'T_start = {t_start}')\n",
    "print(f'T_end = {t_end}')"
   ]
  },
  {
   "cell_type": "code",
   "execution_count": 74,
   "metadata": {},
   "outputs": [
    {
     "ename": "TypeError",
     "evalue": "unsupported operand type(s) for /: 'Tensor' and 'list'",
     "output_type": "error",
     "traceback": [
      "\u001b[0;31m---------------------------------------------------------------------------\u001b[0m",
      "\u001b[0;31mTypeError\u001b[0m                                 Traceback (most recent call last)",
      "Cell \u001b[0;32mIn[74], line 27\u001b[0m\n\u001b[1;32m     24\u001b[0m mu \u001b[38;5;241m=\u001b[39m mu_max \u001b[38;5;241m*\u001b[39m S_pred \u001b[38;5;241m/\u001b[39m (K_s \u001b[38;5;241m+\u001b[39m S_pred)\n\u001b[1;32m     26\u001b[0m error_dXdt \u001b[38;5;241m=\u001b[39m dXdt_pred \u001b[38;5;241m-\u001b[39m mu \u001b[38;5;241m*\u001b[39m X_pred \u001b[38;5;66;03m#+ X_pred * F_col / V_col\u001b[39;00m\n\u001b[0;32m---> 27\u001b[0m error_dSdt \u001b[38;5;241m=\u001b[39m dSdt_pred \u001b[38;5;241m+\u001b[39m mu \u001b[38;5;241m*\u001b[39m X_pred \u001b[38;5;241m/\u001b[39m Y_xs \u001b[38;5;241m-\u001b[39m \u001b[43mF_col\u001b[49m\u001b[43m \u001b[49m\u001b[38;5;241;43m/\u001b[39;49m\u001b[43m \u001b[49m\u001b[43mV_col\u001b[49m \u001b[38;5;241m*\u001b[39m (Sin \u001b[38;5;241m-\u001b[39m S_pred)\n\u001b[1;32m     29\u001b[0m error_ode \u001b[38;5;241m=\u001b[39m error_ode \u001b[38;5;241m+\u001b[39m torch\u001b[38;5;241m.\u001b[39mmean(\u001b[38;5;241m0.5\u001b[39m\u001b[38;5;241m*\u001b[39merror_dXdt\u001b[38;5;241m*\u001b[39m\u001b[38;5;241m*\u001b[39m\u001b[38;5;241m2\u001b[39m \u001b[38;5;241m+\u001b[39m \u001b[38;5;241m0.5\u001b[39m\u001b[38;5;241m*\u001b[39merror_dSdt\u001b[38;5;241m*\u001b[39m\u001b[38;5;241m*\u001b[39m\u001b[38;5;241m2\u001b[39m)\n",
      "\u001b[0;31mTypeError\u001b[0m: unsupported operand type(s) for /: 'Tensor' and 'list'"
     ]
    }
   ],
   "source": [
    "from system_ode_fedbatch import get_volume\n",
    "from machinelearning_control_fedbatch import numpy_to_tensor, grad\n",
    "\n",
    "mu_max = mumax\n",
    "K_s = Ks\n",
    "Y_xs = Yxs\n",
    "\n",
    "t_col = numpy_to_tensor(np.linspace(t_start, t_end, 10))\n",
    "X0_col = numpy_to_tensor([X0] * 10)\n",
    "S0_col = numpy_to_tensor([S0] * 10)\n",
    "F_col = numpy_to_tensor([0.015] * 10)\n",
    "V_col = [get_volume(t) for t in t_col]\n",
    "\n",
    "u_col = torch.cat([t_col, X0_col, S0_col, F_col], dim=1)\n",
    "\n",
    "preds = net.forward(u_col)\n",
    "\n",
    "X_pred = preds[:, 0].view(-1, 1)\n",
    "S_pred = preds[:, 1].view(-1, 1)\n",
    "\n",
    "dXdt_pred = grad(X_pred, t_col)[0]\n",
    "dSdt_pred = grad(S_pred, t_col)[0]\n",
    "\n",
    "mu = mu_max * S_pred / (K_s + S_pred)\n",
    "\n",
    "error_dXdt = dXdt_pred - mu * X_pred + X_pred * F_col / V_col\n",
    "error_dSdt = dSdt_pred + mu * X_pred / Y_xs - F_col / V_col * (Sin - S_pred)\n",
    "\n",
    "error_ode = error_ode + torch.mean(0.5*error_dXdt**2 + 0.5*error_dSdt**2)\n"
   ]
  },
  {
   "cell_type": "code",
   "execution_count": 9,
   "metadata": {},
   "outputs": [
    {
     "name": "stdout",
     "output_type": "stream",
     "text": [
      "Epoch 0, Loss_data: 6.1265, Loss_ode: 0.0000\n",
      "Epoch 10, Loss_data: 0.0843, Loss_ode: 0.0000\n",
      "Epoch 20, Loss_data: 0.0294, Loss_ode: 0.0000\n",
      "Epoch 30, Loss_data: 0.0521, Loss_ode: 0.0000\n",
      "Epoch 40, Loss_data: 0.0515, Loss_ode: 0.0000\n",
      "Epoch 50, Loss_data: 0.0386, Loss_ode: 0.0000\n",
      "Epoch 60, Loss_data: 0.0312, Loss_ode: 0.0000\n",
      "Epoch 70, Loss_data: 0.0288, Loss_ode: 0.0000\n",
      "Epoch 80, Loss_data: 0.0280, Loss_ode: 0.0000\n",
      "Epoch 90, Loss_data: 0.0275, Loss_ode: 0.0000\n",
      "Epoch 100, Loss_data: 0.0271, Loss_ode: 0.0000\n",
      "Epoch 110, Loss_data: 0.0266, Loss_ode: 0.0000\n",
      "Epoch 120, Loss_data: 0.0261, Loss_ode: 0.0000\n",
      "Epoch 130, Loss_data: 0.0255, Loss_ode: 0.0000\n",
      "Epoch 140, Loss_data: 0.0249, Loss_ode: 0.0000\n",
      "Epoch 150, Loss_data: 0.0242, Loss_ode: 0.0000\n",
      "Epoch 160, Loss_data: 0.0233, Loss_ode: 0.0000\n",
      "Epoch 170, Loss_data: 0.0224, Loss_ode: 0.0000\n",
      "Epoch 180, Loss_data: 0.0213, Loss_ode: 0.0000\n",
      "Epoch 190, Loss_data: 0.0201, Loss_ode: 0.0000\n",
      "Epoch 200, Loss_data: 0.0188, Loss_ode: 0.0000\n",
      "Epoch 210, Loss_data: 0.0173, Loss_ode: 0.0000\n",
      "Epoch 220, Loss_data: 0.0156, Loss_ode: 0.0000\n",
      "Epoch 230, Loss_data: 0.0137, Loss_ode: 0.0000\n",
      "Epoch 240, Loss_data: 0.0117, Loss_ode: 0.0000\n",
      "Epoch 250, Loss_data: 0.0095, Loss_ode: 0.0000\n",
      "Epoch 260, Loss_data: 0.0072, Loss_ode: 0.0000\n",
      "Epoch 270, Loss_data: 0.0051, Loss_ode: 0.0000\n",
      "Epoch 280, Loss_data: 0.0032, Loss_ode: 0.0000\n",
      "Epoch 290, Loss_data: 0.0017, Loss_ode: 0.0000\n",
      "Epoch 300, Loss_data: 0.0008, Loss_ode: 0.0000\n",
      "Epoch 310, Loss_data: 0.0004, Loss_ode: 0.0000\n",
      "Epoch 320, Loss_data: 0.0002, Loss_ode: 0.0000\n",
      "Epoch 330, Loss_data: 0.0002, Loss_ode: 0.0000\n",
      "Epoch 340, Loss_data: 0.0001, Loss_ode: 0.0000\n",
      "Epoch 350, Loss_data: 0.0001, Loss_ode: 0.0000\n",
      "Epoch 360, Loss_data: 0.0001, Loss_ode: 0.0000\n",
      "Epoch 370, Loss_data: 0.0001, Loss_ode: 0.0000\n",
      "Epoch 380, Loss_data: 0.0001, Loss_ode: 0.0000\n",
      "Epoch 390, Loss_data: 0.0001, Loss_ode: 0.0000\n",
      "Epoch 400, Loss_data: 0.0001, Loss_ode: 0.0000\n",
      "Epoch 410, Loss_data: 0.0000, Loss_ode: 0.0000\n",
      "Epoch 420, Loss_data: 0.0000, Loss_ode: 0.0000\n",
      "Epoch 430, Loss_data: 0.0000, Loss_ode: 0.0000\n",
      "Epoch 440, Loss_data: 0.0000, Loss_ode: 0.0000\n",
      "Epoch 450, Loss_data: 0.0000, Loss_ode: 0.0000\n",
      "Epoch 460, Loss_data: 0.0000, Loss_ode: 0.0000\n",
      "Epoch 470, Loss_data: 0.0000, Loss_ode: 0.0000\n",
      "Epoch 480, Loss_data: 0.0000, Loss_ode: 0.0000\n",
      "Epoch 490, Loss_data: 0.0000, Loss_ode: 0.0000\n",
      "Epoch 500, Loss_data: 0.0000, Loss_ode: 0.0000\n",
      "Epoch 510, Loss_data: 0.0000, Loss_ode: 0.0000\n",
      "Epoch 520, Loss_data: 0.0000, Loss_ode: 0.0000\n",
      "Epoch 530, Loss_data: 0.0000, Loss_ode: 0.0000\n",
      "Epoch 540, Loss_data: 0.0000, Loss_ode: 0.0000\n",
      "Epoch 550, Loss_data: 0.0000, Loss_ode: 0.0000\n",
      "Epoch 560, Loss_data: 0.0000, Loss_ode: 0.0000\n",
      "Epoch 570, Loss_data: 0.0000, Loss_ode: 0.0000\n",
      "Epoch 580, Loss_data: 0.0000, Loss_ode: 0.0000\n",
      "Epoch 590, Loss_data: 0.0000, Loss_ode: 0.0000\n",
      "Epoch 600, Loss_data: 0.0000, Loss_ode: 0.0000\n",
      "Epoch 610, Loss_data: 0.0000, Loss_ode: 0.0000\n",
      "Epoch 620, Loss_data: 0.0000, Loss_ode: 0.0000\n",
      "Epoch 630, Loss_data: 0.0000, Loss_ode: 0.0000\n",
      "Epoch 640, Loss_data: 0.0000, Loss_ode: 0.0000\n",
      "Epoch 650, Loss_data: 0.0000, Loss_ode: 0.0000\n",
      "Epoch 660, Loss_data: 0.0000, Loss_ode: 0.0000\n",
      "Epoch 670, Loss_data: 0.0000, Loss_ode: 0.0000\n",
      "Epoch 680, Loss_data: 0.0000, Loss_ode: 0.0000\n",
      "Epoch 690, Loss_data: 0.0000, Loss_ode: 0.0000\n",
      "Epoch 700, Loss_data: 0.0000, Loss_ode: 0.0000\n",
      "Epoch 710, Loss_data: 0.0000, Loss_ode: 0.0000\n",
      "Epoch 720, Loss_data: 0.0000, Loss_ode: 0.0000\n",
      "Epoch 730, Loss_data: 0.0000, Loss_ode: 0.0000\n",
      "Epoch 740, Loss_data: 0.0000, Loss_ode: 0.0000\n",
      "Epoch 750, Loss_data: 0.0000, Loss_ode: 0.0000\n",
      "Epoch 760, Loss_data: 0.0000, Loss_ode: 0.0000\n",
      "Epoch 770, Loss_data: 0.0000, Loss_ode: 0.0000\n",
      "Epoch 780, Loss_data: 0.0000, Loss_ode: 0.0000\n",
      "Epoch 790, Loss_data: 0.0000, Loss_ode: 0.0000\n",
      "Epoch 800, Loss_data: 0.0000, Loss_ode: 0.0000\n",
      "Epoch 810, Loss_data: 0.0000, Loss_ode: 0.0000\n",
      "Epoch 820, Loss_data: 0.0000, Loss_ode: 0.0000\n",
      "Epoch 830, Loss_data: 0.0000, Loss_ode: 0.0000\n",
      "Epoch 840, Loss_data: 0.0000, Loss_ode: 0.0000\n",
      "Epoch 850, Loss_data: 0.0000, Loss_ode: 0.0000\n",
      "Epoch 860, Loss_data: 0.0000, Loss_ode: 0.0000\n",
      "Epoch 870, Loss_data: 0.0000, Loss_ode: 0.0000\n",
      "Epoch 880, Loss_data: 0.0000, Loss_ode: 0.0000\n",
      "Epoch 890, Loss_data: 0.0000, Loss_ode: 0.0000\n",
      "Epoch 900, Loss_data: 0.0000, Loss_ode: 0.0000\n",
      "Epoch 910, Loss_data: 0.0000, Loss_ode: 0.0000\n",
      "Epoch 920, Loss_data: 0.0000, Loss_ode: 0.0000\n",
      "Epoch 930, Loss_data: 0.0000, Loss_ode: 0.0000\n",
      "Epoch 940, Loss_data: 0.0000, Loss_ode: 0.0000\n",
      "Epoch 950, Loss_data: 0.0000, Loss_ode: 0.0000\n",
      "Epoch 960, Loss_data: 0.0000, Loss_ode: 0.0000\n",
      "Epoch 970, Loss_data: 0.0000, Loss_ode: 0.0000\n",
      "Epoch 980, Loss_data: 0.0000, Loss_ode: 0.0000\n",
      "Epoch 990, Loss_data: 0.0000, Loss_ode: 0.0000\n",
      "Epoch 1000, Loss_data: 0.0000, Loss_ode: 0.0000\n",
      "Epoch 1010, Loss_data: 0.0000, Loss_ode: 0.0000\n",
      "Epoch 1020, Loss_data: 0.0000, Loss_ode: 0.0000\n",
      "Epoch 1030, Loss_data: 0.0000, Loss_ode: 0.0000\n",
      "Epoch 1040, Loss_data: 0.0000, Loss_ode: 0.0000\n",
      "Epoch 1050, Loss_data: 0.0000, Loss_ode: 0.0000\n",
      "Epoch 1060, Loss_data: 0.0000, Loss_ode: 0.0000\n",
      "Epoch 1070, Loss_data: 0.0000, Loss_ode: 0.0000\n",
      "Epoch 1080, Loss_data: 0.0000, Loss_ode: 0.0000\n",
      "Epoch 1090, Loss_data: 0.0000, Loss_ode: 0.0000\n",
      "Epoch 1100, Loss_data: 0.0000, Loss_ode: 0.0000\n",
      "Epoch 1110, Loss_data: 0.0000, Loss_ode: 0.0000\n",
      "Epoch 1120, Loss_data: 0.0000, Loss_ode: 0.0000\n",
      "Epoch 1130, Loss_data: 0.0000, Loss_ode: 0.0000\n",
      "Epoch 1140, Loss_data: 0.0000, Loss_ode: 0.0000\n",
      "Epoch 1150, Loss_data: 0.0000, Loss_ode: 0.0000\n",
      "Epoch 1160, Loss_data: 0.0000, Loss_ode: 0.0000\n",
      "Epoch 1170, Loss_data: 0.0000, Loss_ode: 0.0000\n",
      "Epoch 1180, Loss_data: 0.0000, Loss_ode: 0.0000\n",
      "Epoch 1190, Loss_data: 0.0000, Loss_ode: 0.0000\n",
      "Epoch 1200, Loss_data: 0.0000, Loss_ode: 0.0000\n",
      "Epoch 1210, Loss_data: 0.0000, Loss_ode: 0.0000\n",
      "Epoch 1220, Loss_data: 0.0000, Loss_ode: 0.0000\n",
      "Epoch 1230, Loss_data: 0.0000, Loss_ode: 0.0000\n",
      "Epoch 1240, Loss_data: 0.0000, Loss_ode: 0.0000\n",
      "Epoch 1250, Loss_data: 0.0000, Loss_ode: 0.0000\n",
      "Epoch 1260, Loss_data: 0.0000, Loss_ode: 0.0000\n",
      "Epoch 1270, Loss_data: 0.0000, Loss_ode: 0.0000\n",
      "Epoch 1280, Loss_data: 0.0000, Loss_ode: 0.0000\n",
      "Epoch 1290, Loss_data: 0.0000, Loss_ode: 0.0000\n",
      "Epoch 1300, Loss_data: 0.0000, Loss_ode: 0.0000\n",
      "Epoch 1310, Loss_data: 0.0000, Loss_ode: 0.0000\n",
      "Epoch 1320, Loss_data: 0.0000, Loss_ode: 0.0000\n",
      "Early stopping at epoch 1324\n"
     ]
    }
   ],
   "source": [
    "net = main(in_train, out_train, t_start, t_end, Sin, S0, mumax, Ks, Yxs, verbose=10)"
   ]
  },
  {
   "cell_type": "code",
   "execution_count": 10,
   "metadata": {},
   "outputs": [],
   "source": [
    "# pickle save the trained net\n",
    "torch.save(net, \"pinc_trained.pth\")"
   ]
  },
  {
   "cell_type": "markdown",
   "metadata": {},
   "source": [
    "# Autoregression"
   ]
  },
  {
   "cell_type": "code",
   "execution_count": 15,
   "metadata": {},
   "outputs": [],
   "source": [
    "from machinelearning_control_fedbatch import numpy_to_tensor\n",
    "import torch\n",
    "\n",
    "DEVICE = torch.device(\"cuda\" if torch.cuda.is_available() else \"cpu\")\n",
    "\n",
    "T_s = full_df['RTime'].iloc[1]\n",
    "t_test = numpy_to_tensor(np.array([full_df[\"RTime\"].values]))\n",
    "X_test = numpy_to_tensor(np.array([full_df[\"Biomass\"].values]))\n",
    "S_test = numpy_to_tensor(np.array([full_df[\"Glucose\"].values]))\n",
    "F_test = numpy_to_tensor(np.array([full_df[\"F\"].values]))\n",
    "u_test = torch.cat([t_test, X_test, S_test, F_test], dim=1)\n",
    "x_test = torch.cat([X_test, S_test], dim=1)"
   ]
  },
  {
   "cell_type": "code",
   "execution_count": 39,
   "metadata": {},
   "outputs": [
    {
     "name": "stderr",
     "output_type": "stream",
     "text": [
      "/tmp/ipykernel_2565639/3139698385.py:8: DeprecationWarning: Conversion of an array with ndim > 0 to a scalar is deprecated, and will error in future. Ensure you extract a single element from your array before performing this operation. (Deprecated NumPy 1.25.)\n",
      "  x_k = net.forward(torch.tensor([T_s, X_0, S_0, F_0], dtype=torch.float32).to(DEVICE))\n"
     ]
    }
   ],
   "source": [
    "X_0 = X_test[0]\n",
    "S_0 = S_test[0]\n",
    "F_0 = F_test[0]\n",
    "\n",
    "X_preds = []\n",
    "S_preds = []\n",
    "for i in range(len(u_test)):\n",
    "    x_k = net.forward(torch.tensor([T_s, X_0, S_0, F_0], dtype=torch.float32).to(DEVICE))\n",
    "    X_0 = X_test[i]\n",
    "    S_0 = S_test[i]\n",
    "    F_0 = F_test[i]\n",
    "    X_preds.append(x_k[0].item())\n",
    "    S_preds.append(x_k[1].item())\n",
    "\n"
   ]
  },
  {
   "cell_type": "code",
   "execution_count": 31,
   "metadata": {},
   "outputs": [],
   "source": [
    "t_test = t_test.detach().cpu().numpy()\n",
    "X_test = X_test.detach().cpu().numpy()\n",
    "S_test = S_test.detach().cpu().numpy()"
   ]
  },
  {
   "cell_type": "code",
   "execution_count": 32,
   "metadata": {},
   "outputs": [
    {
     "data": {
      "image/png": "[encoded data removed]",
      "text/plain": [
       "<Figure size 1000x500 with 1 Axes>"
      ]
     },
     "metadata": {},
     "output_type": "display_data"
    }
   ],
   "source": [
    "plt.figure(figsize=(10, 5))\n",
    "plt.scatter(t_test, X_test, s=10, label=\"X\")\n",
    "plt.scatter(t_test, S_test, s=10, label=\"S\")\n",
    "\n",
    "plt.plot(t_test, X_preds, marker='x', label=\"X_pred\")\n",
    "plt.plot(t_test, S_preds, marker='x', label=\"S_pred\")\n",
    "\n",
    "plt.xlabel(\"Time (h)\")\n",
    "plt.ylabel(\"Concentration (g/L)\")\n",
    "plt.legend()\n",
    "plt.show()"
   ]
  },
  {
   "cell_type": "code",
   "execution_count": null,
   "metadata": {},
   "outputs": [],
   "source": []
  }
 ],
 "metadata": {
  "kernelspec": {
   "display_name": "main",
   "language": "python",
   "name": "python3"
  },
  "language_info": {
   "codemirror_mode": {
    "name": "ipython",
    "version": 3
   },
   "file_extension": ".py",
   "mimetype": "text/x-python",
   "name": "python",
   "nbconvert_exporter": "python",
   "pygments_lexer": "ipython3",
   "version": "3.10.12"
  }
 },
 "nbformat": 4,
 "nbformat_minor": 2
}
