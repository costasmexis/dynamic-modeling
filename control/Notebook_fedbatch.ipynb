{
 "cells": [
  {
   "cell_type": "code",
   "execution_count": 1,
   "metadata": {},
   "outputs": [],
   "source": [
    "%load_ext autoreload\n",
    "%autoreload 2"
   ]
  },
  {
   "cell_type": "code",
   "execution_count": 2,
   "metadata": {},
   "outputs": [],
   "source": [
    "import sys\n",
    "\n",
    "sys.path.append(\"../\")\n",
    "\n",
    "import pandas as pd\n",
    "import numpy as np\n",
    "import matplotlib.pyplot as plt\n",
    "\n",
    "from system_ode_fedbatch import generate_data\n",
    "from machinelearning_control_fedbatch import main, generate_dataset"
   ]
  },
  {
   "cell_type": "code",
   "execution_count": 3,
   "metadata": {},
   "outputs": [
    {
     "data": {
      "image/png": "[encoded data removed]",
      "text/plain": [
       "<Figure size 1200x400 with 1 Axes>"
      ]
     },
     "metadata": {},
     "output_type": "display_data"
    }
   ],
   "source": [
    "full_df = generate_data()\n",
    "\n",
    "plt.figure(figsize=(12, 4))\n",
    "plt.scatter(full_df['RTime'], full_df['Biomass'], s=10, label='Biomass')\n",
    "plt.scatter(full_df['RTime'], full_df['Glucose'], s=10, label='Glucose')\n",
    "for i in range(1, len(full_df)):\n",
    "    if full_df[\"F\"].iloc[i] != full_df[\"F\"].iloc[i - 1]:\n",
    "        plt.axvline(x=full_df[\"RTime\"].iloc[i], color='black', linestyle='--', linewidth=0.5)\n",
    "plt.xlabel('Time (h)')\n",
    "plt.ylabel('Concentration (g/L)')\n",
    "plt.legend()\n",
    "plt.title('Experimental data')\n",
    "plt.show()"
   ]
  },
  {
   "cell_type": "code",
   "execution_count": 4,
   "metadata": {},
   "outputs": [
    {
     "name": "stdout",
     "output_type": "stream",
     "text": [
      "Dataset shape: (100, 4)\n"
     ]
    }
   ],
   "source": [
    "# Get features and targets\n",
    "in_train, out_train = generate_dataset(full_df)"
   ]
  },
  {
   "cell_type": "code",
   "execution_count": 5,
   "metadata": {},
   "outputs": [
    {
     "data": {
      "text/plain": [
       "tensor([0.0000, 3.6050, 0.0757, 0.0624], device='cuda:0',\n",
       "       grad_fn=<SelectBackward0>)"
      ]
     },
     "execution_count": 5,
     "metadata": {},
     "output_type": "execute_result"
    }
   ],
   "source": [
    "# Trying to generate the collocation points\n",
    "in_train[0]\n"
   ]
  },
  {
   "cell_type": "code",
   "execution_count": 6,
   "metadata": {},
   "outputs": [
    {
     "ename": "NameError",
     "evalue": "name 'stop' is not defined",
     "output_type": "error",
     "traceback": [
      "\u001b[0;31m---------------------------------------------------------------------------\u001b[0m",
      "\u001b[0;31mNameError\u001b[0m                                 Traceback (most recent call last)",
      "Cell \u001b[0;32mIn[6], line 1\u001b[0m\n\u001b[0;32m----> 1\u001b[0m \u001b[43mstop\u001b[49m\n",
      "\u001b[0;31mNameError\u001b[0m: name 'stop' is not defined"
     ]
    }
   ],
   "source": [
    "stop"
   ]
  },
  {
   "cell_type": "code",
   "execution_count": null,
   "metadata": {},
   "outputs": [],
   "source": [
    "# parameter values\n",
    "mumax = 0.84     # 1/hour\n",
    "Ks = 0.2          # g/liter\n",
    "Yxs = 0.5         # g/g\n",
    "Sin = 1.43 * 200  # g/liter\n",
    "\n",
    "# initial conditions\n",
    "t_start = full_df['RTime'].iloc[0]\n",
    "t_end = full_df['RTime'].iloc[-1]\n",
    "V0 = full_df['V'].iloc[0]\n",
    "S0 = full_df['Glucose'].iloc[0]\n",
    "\n",
    "print(f'T_start = {t_start}')\n",
    "print(f'T_end = {t_end}')"
   ]
  },
  {
   "cell_type": "code",
   "execution_count": null,
   "metadata": {},
   "outputs": [],
   "source": [
    "net = main(in_train, out_train, t_start, t_end, Sin, S0, mumax, Ks, Yxs, verbose=10)"
   ]
  },
  {
   "cell_type": "code",
   "execution_count": 80,
   "metadata": {},
   "outputs": [],
   "source": [
    "# pickle save the model\n",
    "import pickle\n",
    "with open(\"pinc_model.pkl\", \"wb\") as f:\n",
    "    pickle.dump(net, f)"
   ]
  },
  {
   "cell_type": "markdown",
   "metadata": {},
   "source": [
    "# Autoregression"
   ]
  },
  {
   "cell_type": "code",
   "execution_count": 81,
   "metadata": {},
   "outputs": [],
   "source": [
    "from machinelearning_control_fedbatch import numpy_to_tensor\n",
    "import torch\n",
    "import matplotlib.pyplot as plt\n",
    "\n",
    "DEVICE = torch.device(\"cuda\" if torch.cuda.is_available() else \"cpu\")\n",
    "\n",
    "T_s = full_df['RTime'].iloc[1]\n",
    "t_test = numpy_to_tensor(np.array([full_df[\"RTime\"].values]))\n",
    "X_test = numpy_to_tensor(np.array([full_df[\"Biomass\"].values]))\n",
    "S_test = numpy_to_tensor(np.array([full_df[\"Glucose\"].values]))\n",
    "F_test = numpy_to_tensor(np.array([full_df[\"F\"].values]))\n",
    "u_test = torch.cat([t_test, X_test, S_test, F_test], dim=1)\n",
    "x_test = torch.cat([X_test, S_test], dim=1)"
   ]
  },
  {
   "cell_type": "code",
   "execution_count": 82,
   "metadata": {},
   "outputs": [],
   "source": [
    "X_0 = X_test[0]\n",
    "S_0 = S_test[0]\n",
    "F_0 = F_test[0]\n",
    "\n",
    "X_preds = []\n",
    "S_preds = []\n",
    "for i in range(len(u_test)):\n",
    "    x_k = net.forward(torch.tensor([T_s, X_0, S_0, F_0], dtype=torch.float32).to(DEVICE))\n",
    "    X_0 = X_test[i]\n",
    "    S_0 = S_test[i]\n",
    "    F_0 = F_test[i]\n",
    "    X_preds.append(x_k[0].item())\n",
    "    S_preds.append(x_k[1].item())"
   ]
  },
  {
   "cell_type": "code",
   "execution_count": 83,
   "metadata": {},
   "outputs": [],
   "source": [
    "t_test = t_test.detach().cpu().numpy()\n",
    "X_test = X_test.detach().cpu().numpy()\n",
    "S_test = S_test.detach().cpu().numpy()"
   ]
  },
  {
   "cell_type": "code",
   "execution_count": null,
   "metadata": {},
   "outputs": [],
   "source": [
    "plt.figure(figsize=(10, 5))\n",
    "plt.scatter(t_test, X_test, s=10, label=\"X\")\n",
    "plt.scatter(t_test, S_test, s=10, label=\"S\")\n",
    "\n",
    "plt.plot(t_test, X_preds, marker='x', label=\"X_pred\")\n",
    "plt.plot(t_test, S_preds, marker='x', label=\"S_pred\")\n",
    "\n",
    "plt.xlabel(\"Time (h)\")\n",
    "plt.ylabel(\"Concentration (g/L)\")\n",
    "plt.legend()\n",
    "plt.show()"
   ]
  },
  {
   "cell_type": "code",
   "execution_count": null,
   "metadata": {},
   "outputs": [],
   "source": []
  }
 ],
 "metadata": {
  "kernelspec": {
   "display_name": "main",
   "language": "python",
   "name": "python3"
  },
  "language_info": {
   "codemirror_mode": {
    "name": "ipython",
    "version": 3
   },
   "file_extension": ".py",
   "mimetype": "text/x-python",
   "name": "python",
   "nbconvert_exporter": "python",
   "pygments_lexer": "ipython3",
   "version": "3.10.12"
  }
 },
 "nbformat": 4,
 "nbformat_minor": 2
}
