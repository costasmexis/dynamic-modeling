{
 "cells": [
  {
   "cell_type": "code",
   "execution_count": 35,
   "metadata": {},
   "outputs": [
    {
     "name": "stdout",
     "output_type": "stream",
     "text": [
      "The autoreload extension is already loaded. To reload it, use:\n",
      "  %reload_ext autoreload\n"
     ]
    }
   ],
   "source": [
    "%load_ext autoreload\n",
    "%autoreload 2"
   ]
  },
  {
   "cell_type": "code",
   "execution_count": 36,
   "metadata": {},
   "outputs": [],
   "source": [
    "import sys\n",
    "\n",
    "sys.path.append(\"../\")\n",
    "\n",
    "import pandas as pd\n",
    "import numpy as np\n",
    "import matplotlib.pyplot as plt\n",
    "\n",
    "from system_ode_fedbatch import generate_data\n",
    "from machinelearning_control_fedbatch import main, generate_dataset"
   ]
  },
  {
   "cell_type": "code",
   "execution_count": 37,
   "metadata": {},
   "outputs": [
    {
     "data": {
      "image/png": "[encoded data removed]",
      "text/plain": [
       "<Figure size 1200x400 with 1 Axes>"
      ]
     },
     "metadata": {},
     "output_type": "display_data"
    }
   ],
   "source": [
    "full_df = generate_data()\n",
    "\n",
    "plt.figure(figsize=(12, 4))\n",
    "plt.scatter(full_df['RTime'], full_df['Biomass'], s=10, label='Biomass')\n",
    "plt.scatter(full_df['RTime'], full_df['Glucose'], s=10, label='Glucose')\n",
    "for i in range(1, len(full_df)):\n",
    "    if full_df[\"F\"].iloc[i] != full_df[\"F\"].iloc[i - 1]:\n",
    "        plt.axvline(x=full_df[\"RTime\"].iloc[i], color='black', linestyle='--', linewidth=0.5)\n",
    "plt.xlabel('Time (h)')\n",
    "plt.ylabel('Concentration (g/L)')\n",
    "plt.legend()\n",
    "plt.title('Experimental data')\n",
    "plt.show()"
   ]
  },
  {
   "cell_type": "code",
   "execution_count": 38,
   "metadata": {},
   "outputs": [
    {
     "name": "stdout",
     "output_type": "stream",
     "text": [
      "Dataset shape: (300, 4)\n"
     ]
    }
   ],
   "source": [
    "# Get features and targets\n",
    "in_train, out_train = generate_dataset(full_df)"
   ]
  },
  {
   "cell_type": "code",
   "execution_count": 39,
   "metadata": {},
   "outputs": [],
   "source": [
    "# parameter values\n",
    "mumax = 0.84     # 1/hour\n",
    "Ks = 0.2          # g/liter\n",
    "Yxs = 0.5         # g/g\n",
    "Sin = 1.43 * 200  # g/liter\n",
    "\n",
    "# initial conditions\n",
    "t_start = full_df['RTime'].iloc[0]\n",
    "t_end = full_df['RTime'].iloc[-1]\n",
    "V0 = full_df['V'].iloc[0]\n",
    "S0 = full_df['Glucose'].iloc[0]"
   ]
  },
  {
   "cell_type": "code",
   "execution_count": 40,
   "metadata": {},
   "outputs": [
    {
     "name": "stdout",
     "output_type": "stream",
     "text": [
      "Epoch 0, Loss_data: 7.6013, Loss_ode: 2.9249\n",
      "Epoch 10, Loss_data: 7.3590, Loss_ode: 2.2211\n",
      "Epoch 20, Loss_data: 7.2584, Loss_ode: 2.4377\n",
      "Epoch 30, Loss_data: 7.1698, Loss_ode: 2.1613\n",
      "Epoch 40, Loss_data: 7.1229, Loss_ode: 1.6515\n",
      "Epoch 50, Loss_data: 7.0808, Loss_ode: 1.4954\n",
      "Epoch 60, Loss_data: 7.0102, Loss_ode: 1.4204\n",
      "Epoch 70, Loss_data: 6.9116, Loss_ode: 1.4035\n",
      "Epoch 80, Loss_data: 6.7899, Loss_ode: 1.3583\n",
      "Epoch 90, Loss_data: 6.6410, Loss_ode: 1.3749\n",
      "Epoch 100, Loss_data: 6.4699, Loss_ode: 1.3650\n",
      "Epoch 110, Loss_data: 6.2439, Loss_ode: 1.3842\n",
      "Epoch 120, Loss_data: 5.9533, Loss_ode: 1.3904\n",
      "Epoch 130, Loss_data: 5.5770, Loss_ode: 1.3842\n",
      "Epoch 140, Loss_data: 5.1004, Loss_ode: 1.4251\n",
      "Epoch 150, Loss_data: 4.5125, Loss_ode: 1.4220\n",
      "Epoch 160, Loss_data: 3.8196, Loss_ode: 1.4577\n",
      "Epoch 170, Loss_data: 3.0433, Loss_ode: 1.4466\n",
      "Epoch 180, Loss_data: 2.2317, Loss_ode: 1.4503\n",
      "Epoch 190, Loss_data: 1.4680, Loss_ode: 1.5484\n",
      "Epoch 200, Loss_data: 0.8409, Loss_ode: 1.5560\n",
      "Epoch 210, Loss_data: 0.4128, Loss_ode: 1.6522\n",
      "Epoch 220, Loss_data: 0.1754, Loss_ode: 1.6964\n",
      "Epoch 230, Loss_data: 0.0745, Loss_ode: 1.6969\n",
      "Epoch 240, Loss_data: 0.0394, Loss_ode: 1.7560\n",
      "Epoch 250, Loss_data: 0.0338, Loss_ode: 1.7078\n",
      "Epoch 260, Loss_data: 0.0392, Loss_ode: 1.7720\n",
      "Epoch 270, Loss_data: 0.0438, Loss_ode: 1.6578\n",
      "Epoch 280, Loss_data: 0.0393, Loss_ode: 1.6921\n",
      "Epoch 290, Loss_data: 0.0377, Loss_ode: 1.6730\n",
      "Epoch 300, Loss_data: 0.0369, Loss_ode: 1.7019\n",
      "Epoch 310, Loss_data: 0.0308, Loss_ode: 1.6765\n",
      "Epoch 320, Loss_data: 0.0320, Loss_ode: 1.6878\n",
      "Epoch 330, Loss_data: 0.0367, Loss_ode: 1.6454\n",
      "Epoch 340, Loss_data: 0.0367, Loss_ode: 1.7041\n",
      "Epoch 350, Loss_data: 0.0336, Loss_ode: 1.6764\n",
      "Epoch 360, Loss_data: 0.0322, Loss_ode: 1.6201\n",
      "Epoch 370, Loss_data: 0.0320, Loss_ode: 1.6501\n",
      "Epoch 380, Loss_data: 0.0360, Loss_ode: 1.6388\n",
      "Epoch 390, Loss_data: 0.0350, Loss_ode: 1.6490\n",
      "Epoch 400, Loss_data: 0.0310, Loss_ode: 1.6559\n",
      "Epoch 410, Loss_data: 0.0331, Loss_ode: 1.6676\n",
      "Epoch 420, Loss_data: 0.0437, Loss_ode: 1.5787\n",
      "Epoch 430, Loss_data: 0.0375, Loss_ode: 1.6302\n",
      "Epoch 440, Loss_data: 0.0276, Loss_ode: 1.5743\n",
      "Epoch 450, Loss_data: 0.0280, Loss_ode: 1.5875\n",
      "Epoch 460, Loss_data: 0.0318, Loss_ode: 1.6432\n",
      "Epoch 470, Loss_data: 0.0323, Loss_ode: 1.6404\n",
      "Epoch 480, Loss_data: 0.0295, Loss_ode: 1.6356\n",
      "Epoch 490, Loss_data: 0.0305, Loss_ode: 1.6179\n",
      "Epoch 500, Loss_data: 0.0325, Loss_ode: 1.6298\n",
      "Epoch 510, Loss_data: 0.0307, Loss_ode: 1.5954\n",
      "Epoch 520, Loss_data: 0.0294, Loss_ode: 1.5945\n",
      "Epoch 530, Loss_data: 0.0332, Loss_ode: 1.6511\n",
      "Epoch 540, Loss_data: 0.0333, Loss_ode: 1.6288\n",
      "Epoch 550, Loss_data: 0.2517, Loss_ode: 22.6842\n",
      "Epoch 560, Loss_data: 0.8193, Loss_ode: 9.8841\n",
      "Epoch 570, Loss_data: 1.1222, Loss_ode: 8.4676\n",
      "Epoch 580, Loss_data: 1.2427, Loss_ode: 7.7690\n",
      "Epoch 590, Loss_data: 1.2844, Loss_ode: 7.4818\n",
      "Epoch 600, Loss_data: 1.2947, Loss_ode: 6.7753\n",
      "Epoch 610, Loss_data: 1.2963, Loss_ode: 6.2370\n",
      "Epoch 620, Loss_data: 1.2976, Loss_ode: 5.3228\n",
      "Epoch 630, Loss_data: 1.3027, Loss_ode: 4.8951\n",
      "Epoch 640, Loss_data: 1.3137, Loss_ode: 4.8882\n",
      "Epoch 650, Loss_data: 1.3270, Loss_ode: 4.7622\n",
      "Epoch 660, Loss_data: 1.3520, Loss_ode: 4.4701\n",
      "Epoch 670, Loss_data: 1.3950, Loss_ode: 3.8010\n",
      "Epoch 680, Loss_data: 1.4444, Loss_ode: 3.9627\n",
      "Epoch 690, Loss_data: 1.5100, Loss_ode: 3.6756\n",
      "Epoch 700, Loss_data: 1.5741, Loss_ode: 3.4698\n",
      "Epoch 710, Loss_data: 1.6379, Loss_ode: 3.2961\n",
      "Epoch 720, Loss_data: 1.6978, Loss_ode: 2.8615\n",
      "Epoch 730, Loss_data: 1.7483, Loss_ode: 2.8445\n",
      "Epoch 740, Loss_data: 1.7952, Loss_ode: 2.6359\n",
      "Epoch 750, Loss_data: 1.8454, Loss_ode: 2.5469\n",
      "Epoch 760, Loss_data: 1.8986, Loss_ode: 2.4627\n",
      "Epoch 770, Loss_data: 1.9421, Loss_ode: 2.3228\n",
      "Epoch 780, Loss_data: 1.9645, Loss_ode: 2.3760\n",
      "Epoch 790, Loss_data: 1.9916, Loss_ode: 2.0678\n",
      "Epoch 800, Loss_data: 2.0149, Loss_ode: 2.1754\n",
      "Epoch 810, Loss_data: 2.0213, Loss_ode: 1.9622\n",
      "Epoch 820, Loss_data: 2.0216, Loss_ode: 2.0974\n",
      "Epoch 830, Loss_data: 2.0510, Loss_ode: 2.1001\n",
      "Epoch 840, Loss_data: 2.0429, Loss_ode: 1.9554\n",
      "Epoch 850, Loss_data: 2.0516, Loss_ode: 1.8922\n",
      "Epoch 860, Loss_data: 2.0562, Loss_ode: 1.9316\n",
      "Epoch 870, Loss_data: 2.0305, Loss_ode: 1.9876\n",
      "Epoch 880, Loss_data: 2.0076, Loss_ode: 2.0363\n",
      "Epoch 890, Loss_data: 2.0362, Loss_ode: 1.9418\n",
      "Epoch 900, Loss_data: 2.0181, Loss_ode: 1.9439\n",
      "Epoch 910, Loss_data: 1.9827, Loss_ode: 1.8192\n",
      "Epoch 920, Loss_data: 1.9878, Loss_ode: 1.8353\n",
      "Epoch 930, Loss_data: 1.9874, Loss_ode: 1.8382\n",
      "Epoch 940, Loss_data: 1.9649, Loss_ode: 1.9020\n",
      "Epoch 950, Loss_data: 1.9357, Loss_ode: 1.9692\n",
      "Epoch 960, Loss_data: 1.9440, Loss_ode: 1.8795\n",
      "Epoch 970, Loss_data: 1.9178, Loss_ode: 1.8584\n",
      "Epoch 980, Loss_data: 1.8796, Loss_ode: 1.9080\n",
      "Epoch 990, Loss_data: 1.8810, Loss_ode: 1.9483\n",
      "Epoch 1000, Loss_data: 1.9021, Loss_ode: 1.8914\n",
      "Epoch 1010, Loss_data: 1.8634, Loss_ode: 1.8598\n",
      "Epoch 1020, Loss_data: 1.8077, Loss_ode: 1.9805\n",
      "Epoch 1030, Loss_data: 1.8206, Loss_ode: 1.9302\n",
      "Epoch 1040, Loss_data: 1.8132, Loss_ode: 1.9604\n",
      "Epoch 1050, Loss_data: 1.7954, Loss_ode: 1.8470\n",
      "Epoch 1060, Loss_data: 1.7826, Loss_ode: 1.9394\n",
      "Epoch 1070, Loss_data: 1.7756, Loss_ode: 1.8721\n",
      "Epoch 1080, Loss_data: 1.7596, Loss_ode: 1.8415\n",
      "Epoch 1090, Loss_data: 1.7383, Loss_ode: 1.9015\n",
      "Epoch 1100, Loss_data: 1.7511, Loss_ode: 1.9061\n",
      "Epoch 1110, Loss_data: 1.7569, Loss_ode: 1.8388\n",
      "Epoch 1120, Loss_data: 1.7306, Loss_ode: 1.8403\n",
      "Epoch 1130, Loss_data: 1.7005, Loss_ode: 1.8229\n",
      "Epoch 1140, Loss_data: 1.7021, Loss_ode: 1.7873\n",
      "Epoch 1150, Loss_data: 1.6914, Loss_ode: 1.8523\n",
      "Epoch 1160, Loss_data: 1.6702, Loss_ode: 1.7960\n",
      "Epoch 1170, Loss_data: 1.6474, Loss_ode: 1.9098\n",
      "Epoch 1180, Loss_data: 1.6586, Loss_ode: 1.9057\n",
      "Epoch 1190, Loss_data: 1.6172, Loss_ode: 1.8159\n",
      "Epoch 1200, Loss_data: 1.6115, Loss_ode: 1.9146\n",
      "Epoch 1210, Loss_data: 1.6029, Loss_ode: 1.7875\n",
      "Epoch 1220, Loss_data: 1.5872, Loss_ode: 1.8956\n",
      "Epoch 1230, Loss_data: 1.5469, Loss_ode: 1.8488\n",
      "Epoch 1240, Loss_data: 1.5543, Loss_ode: 1.8385\n",
      "Epoch 1250, Loss_data: 1.5358, Loss_ode: 1.8597\n",
      "Epoch 1260, Loss_data: 1.5193, Loss_ode: 1.9402\n",
      "Epoch 1270, Loss_data: 1.4969, Loss_ode: 1.8708\n"
     ]
    },
    {
     "ename": "KeyboardInterrupt",
     "evalue": "",
     "output_type": "error",
     "traceback": [
      "\u001b[0;31m---------------------------------------------------------------------------\u001b[0m",
      "\u001b[0;31mKeyboardInterrupt\u001b[0m                         Traceback (most recent call last)",
      "Cell \u001b[0;32mIn[40], line 1\u001b[0m\n\u001b[0;32m----> 1\u001b[0m net \u001b[38;5;241m=\u001b[39m \u001b[43mmain\u001b[49m\u001b[43m(\u001b[49m\u001b[43min_train\u001b[49m\u001b[43m,\u001b[49m\u001b[43m \u001b[49m\u001b[43mout_train\u001b[49m\u001b[43m,\u001b[49m\u001b[43m \u001b[49m\u001b[43mt_start\u001b[49m\u001b[43m,\u001b[49m\u001b[43m \u001b[49m\u001b[43mt_end\u001b[49m\u001b[43m,\u001b[49m\u001b[43m \u001b[49m\u001b[43mSin\u001b[49m\u001b[43m,\u001b[49m\u001b[43m \u001b[49m\u001b[43mS0\u001b[49m\u001b[43m,\u001b[49m\u001b[43m \u001b[49m\u001b[43mmumax\u001b[49m\u001b[43m,\u001b[49m\u001b[43m \u001b[49m\u001b[43mKs\u001b[49m\u001b[43m,\u001b[49m\u001b[43m \u001b[49m\u001b[43mYxs\u001b[49m\u001b[43m,\u001b[49m\u001b[43m \u001b[49m\u001b[43mverbose\u001b[49m\u001b[38;5;241;43m=\u001b[39;49m\u001b[38;5;241;43m10\u001b[39;49m\u001b[43m)\u001b[49m\n",
      "File \u001b[0;32m~/dynamic-modeling/control/machinelearning_control_fedbatch.py:144\u001b[0m, in \u001b[0;36mmain\u001b[0;34m(in_train, out_train, t_start, t_end, S_in, S0, mu_max, Ks, Yxs, verbose)\u001b[0m\n\u001b[1;32m    140\u001b[0m preds \u001b[38;5;241m=\u001b[39m net\u001b[38;5;241m.\u001b[39mforward(in_train)\n\u001b[1;32m    142\u001b[0m loss_data \u001b[38;5;241m=\u001b[39m nn\u001b[38;5;241m.\u001b[39mMSELoss()(preds, out_train)\n\u001b[0;32m--> 144\u001b[0m loss_ode \u001b[38;5;241m=\u001b[39m \u001b[43mloss_fn\u001b[49m\u001b[43m(\u001b[49m\u001b[43mnet\u001b[49m\u001b[43m,\u001b[49m\u001b[43m \u001b[49m\u001b[43mt_start\u001b[49m\u001b[43m,\u001b[49m\u001b[43m \u001b[49m\u001b[43mt_end\u001b[49m\u001b[43m,\u001b[49m\u001b[43m \u001b[49m\u001b[43mS_in\u001b[49m\u001b[43m,\u001b[49m\u001b[43m \u001b[49m\u001b[43mS0\u001b[49m\u001b[43m,\u001b[49m\u001b[43m \u001b[49m\u001b[43mmu_max\u001b[49m\u001b[43m,\u001b[49m\u001b[43m \u001b[49m\u001b[43mKs\u001b[49m\u001b[43m,\u001b[49m\u001b[43m \u001b[49m\u001b[43mYxs\u001b[49m\u001b[43m)\u001b[49m\n\u001b[1;32m    146\u001b[0m loss \u001b[38;5;241m=\u001b[39m w_data \u001b[38;5;241m*\u001b[39m loss_data \u001b[38;5;241m+\u001b[39m w_ode \u001b[38;5;241m*\u001b[39m loss_ode\n\u001b[1;32m    147\u001b[0m loss\u001b[38;5;241m.\u001b[39mbackward()\n",
      "File \u001b[0;32m~/dynamic-modeling/control/machinelearning_control_fedbatch.py:92\u001b[0m, in \u001b[0;36mloss_fn\u001b[0;34m(net, t_start, t_end, Sin, S0, mu_max, K_s, Y_xs)\u001b[0m\n\u001b[1;32m     90\u001b[0m F_col \u001b[38;5;241m=\u001b[39m numpy_to_tensor(np\u001b[38;5;241m.\u001b[39mrandom\u001b[38;5;241m.\u001b[39muniform(\u001b[38;5;241m0.015\u001b[39m, \u001b[38;5;241m0.065\u001b[39m, NUM_COLLOCATION))\u001b[38;5;241m.\u001b[39mto(DEVICE)\n\u001b[1;32m     91\u001b[0m F_col \u001b[38;5;241m=\u001b[39m numpy_to_tensor([\u001b[38;5;241m0.01\u001b[39m \u001b[38;5;28;01mfor\u001b[39;00m _ \u001b[38;5;129;01min\u001b[39;00m \u001b[38;5;28mrange\u001b[39m(\u001b[38;5;28mlen\u001b[39m(t_col))])\u001b[38;5;241m.\u001b[39mto(DEVICE)\n\u001b[0;32m---> 92\u001b[0m V_col \u001b[38;5;241m=\u001b[39m numpy_to_tensor([get_volume(t) \u001b[38;5;28;01mfor\u001b[39;00m t \u001b[38;5;129;01min\u001b[39;00m t_col])\u001b[38;5;241m.\u001b[39mto(DEVICE)\n\u001b[1;32m     94\u001b[0m u_col \u001b[38;5;241m=\u001b[39m torch\u001b[38;5;241m.\u001b[39mcat((t_col, X_col, S_col, F_col), \u001b[38;5;241m1\u001b[39m)\u001b[38;5;241m.\u001b[39mto(DEVICE)\n\u001b[1;32m     96\u001b[0m preds \u001b[38;5;241m=\u001b[39m net\u001b[38;5;241m.\u001b[39mforward(u_col)\n",
      "File \u001b[0;32m~/dynamic-modeling/control/machinelearning_control_fedbatch.py:92\u001b[0m, in \u001b[0;36m<listcomp>\u001b[0;34m(.0)\u001b[0m\n\u001b[1;32m     90\u001b[0m F_col \u001b[38;5;241m=\u001b[39m numpy_to_tensor(np\u001b[38;5;241m.\u001b[39mrandom\u001b[38;5;241m.\u001b[39muniform(\u001b[38;5;241m0.015\u001b[39m, \u001b[38;5;241m0.065\u001b[39m, NUM_COLLOCATION))\u001b[38;5;241m.\u001b[39mto(DEVICE)\n\u001b[1;32m     91\u001b[0m F_col \u001b[38;5;241m=\u001b[39m numpy_to_tensor([\u001b[38;5;241m0.01\u001b[39m \u001b[38;5;28;01mfor\u001b[39;00m _ \u001b[38;5;129;01min\u001b[39;00m \u001b[38;5;28mrange\u001b[39m(\u001b[38;5;28mlen\u001b[39m(t_col))])\u001b[38;5;241m.\u001b[39mto(DEVICE)\n\u001b[0;32m---> 92\u001b[0m V_col \u001b[38;5;241m=\u001b[39m numpy_to_tensor([\u001b[43mget_volume\u001b[49m\u001b[43m(\u001b[49m\u001b[43mt\u001b[49m\u001b[43m)\u001b[49m \u001b[38;5;28;01mfor\u001b[39;00m t \u001b[38;5;129;01min\u001b[39;00m t_col])\u001b[38;5;241m.\u001b[39mto(DEVICE)\n\u001b[1;32m     94\u001b[0m u_col \u001b[38;5;241m=\u001b[39m torch\u001b[38;5;241m.\u001b[39mcat((t_col, X_col, S_col, F_col), \u001b[38;5;241m1\u001b[39m)\u001b[38;5;241m.\u001b[39mto(DEVICE)\n\u001b[1;32m     96\u001b[0m preds \u001b[38;5;241m=\u001b[39m net\u001b[38;5;241m.\u001b[39mforward(u_col)\n",
      "\u001b[0;31mKeyboardInterrupt\u001b[0m: "
     ]
    }
   ],
   "source": [
    "net = main(in_train, out_train, t_start, t_end, Sin, S0, mumax, Ks, Yxs, verbose=10)"
   ]
  },
  {
   "cell_type": "code",
   "execution_count": null,
   "metadata": {},
   "outputs": [],
   "source": [
    "# pickle save the model\n",
    "import pickle\n",
    "with open(\"pinc_model.pkl\", \"wb\") as f:\n",
    "    pickle.dump(net, f)"
   ]
  },
  {
   "cell_type": "markdown",
   "metadata": {},
   "source": [
    "# Autoregression"
   ]
  },
  {
   "cell_type": "code",
   "execution_count": null,
   "metadata": {},
   "outputs": [],
   "source": [
    "from machinelearning_control_fedbatch import numpy_to_tensor\n",
    "import torch\n",
    "import matplotlib.pyplot as plt\n",
    "\n",
    "DEVICE = torch.device(\"cuda\" if torch.cuda.is_available() else \"cpu\")\n",
    "\n",
    "T_s = full_df['RTime'].iloc[1]\n",
    "t_test = numpy_to_tensor(np.array([full_df[\"RTime\"].values]))\n",
    "X_test = numpy_to_tensor(np.array([full_df[\"Biomass\"].values]))\n",
    "S_test = numpy_to_tensor(np.array([full_df[\"Glucose\"].values]))\n",
    "F_test = numpy_to_tensor(np.array([full_df[\"F\"].values]))\n",
    "u_test = torch.cat([t_test, X_test, S_test, F_test], dim=1)\n",
    "x_test = torch.cat([X_test, S_test], dim=1)"
   ]
  },
  {
   "cell_type": "code",
   "execution_count": null,
   "metadata": {},
   "outputs": [],
   "source": [
    "X_0 = X_test[0]\n",
    "S_0 = S_test[0]\n",
    "F_0 = F_test[0]\n",
    "\n",
    "X_preds = []\n",
    "S_preds = []\n",
    "for i in range(len(u_test)):\n",
    "    x_k = net.forward(torch.tensor([T_s, X_0, S_0, F_0], dtype=torch.float32).to(DEVICE))\n",
    "    X_0 = X_test[i]\n",
    "    S_0 = S_test[i]\n",
    "    F_0 = F_test[i]\n",
    "    X_preds.append(x_k[0].item())\n",
    "    S_preds.append(x_k[1].item())"
   ]
  },
  {
   "cell_type": "code",
   "execution_count": null,
   "metadata": {},
   "outputs": [],
   "source": [
    "t_test = t_test.detach().cpu().numpy()\n",
    "X_test = X_test.detach().cpu().numpy()\n",
    "S_test = S_test.detach().cpu().numpy()"
   ]
  },
  {
   "cell_type": "code",
   "execution_count": null,
   "metadata": {},
   "outputs": [
    {
     "data": {
      "image/png": "[encoded data removed]",
      "text/plain": [
       "<Figure size 1000x500 with 1 Axes>"
      ]
     },
     "metadata": {},
     "output_type": "display_data"
    }
   ],
   "source": [
    "plt.figure(figsize=(10, 5))\n",
    "plt.scatter(t_test, X_test, s=10, label=\"X\")\n",
    "plt.scatter(t_test, S_test, s=10, label=\"S\")\n",
    "\n",
    "plt.scatter(t_test, X_preds, s=10, marker='x', label=\"X_pred\")\n",
    "plt.scatter(t_test, S_preds, s=10, marker='x', label=\"S_pred\")\n",
    "\n",
    "plt.xlabel(\"Time (h)\")\n",
    "plt.ylabel(\"Concentration (g/L)\")\n",
    "plt.legend()\n",
    "plt.show()"
   ]
  },
  {
   "cell_type": "code",
   "execution_count": null,
   "metadata": {},
   "outputs": [],
   "source": []
  }
 ],
 "metadata": {
  "kernelspec": {
   "display_name": "main",
   "language": "python",
   "name": "python3"
  },
  "language_info": {
   "codemirror_mode": {
    "name": "ipython",
    "version": 3
   },
   "file_extension": ".py",
   "mimetype": "text/x-python",
   "name": "python",
   "nbconvert_exporter": "python",
   "pygments_lexer": "ipython3",
   "version": "3.10.12"
  }
 },
 "nbformat": 4,
 "nbformat_minor": 2
}
